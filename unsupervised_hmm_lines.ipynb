{
 "cells": [
  {
   "cell_type": "code",
   "execution_count": 1,
   "metadata": {},
   "outputs": [],
   "source": [
    "import os\n",
    "from ipynb.fs.full.preprocessing import parse_poems, parse_lines\n",
    "from HMM_soln import unsupervised_HMM"
   ]
  },
  {
   "cell_type": "markdown",
   "metadata": {},
   "source": [
    "obs_map_reverser() and sample_sentence() functions modified from Homework 6's HMM_helper.py by Andrew Kang"
   ]
  },
  {
   "cell_type": "code",
   "execution_count": 2,
   "metadata": {},
   "outputs": [],
   "source": [
    "def obs_map_reverser(obs_map):\n",
    "    obs_map_r = {}\n",
    "\n",
    "    for key in obs_map:\n",
    "        obs_map_r[obs_map[key]] = key\n",
    "\n",
    "    return obs_map_r\n",
    "\n",
    "def sample_sentence(hmm, obs_map, n_words=100):\n",
    "    # Get reverse map.\n",
    "    obs_map_r = obs_map_reverser(obs_map)\n",
    "\n",
    "    # Sample and convert sentence.\n",
    "    emission, states = hmm.generate_emission(n_words)\n",
    "    sentence = [obs_map_r[i] for i in emission]\n",
    "\n",
    "    return ' '.join(sentence).capitalize()\n",
    "\n",
    "def generate_obs(hmm, obs_map):\n",
    "    '''\n",
    "    Naively generates 14-line sonnet with 8 words each.\n",
    "    \n",
    "    Inputs:\n",
    "    hmm: trained hmm\n",
    "    obs_map: maps word to observation index\n",
    "    \n",
    "    Outputs:\n",
    "    None\n",
    "    '''\n",
    "    # generate all words in sonnet\n",
    "    all_words = sample_sentence(hmm, obs_map, 112)\n",
    "    all_words = all_words.split(' ')\n",
    "    \n",
    "    # split into 14 lines and add capitalization/naive punctuation\n",
    "    for i in range(14):\n",
    "        count = 0\n",
    "        line = ' '.join(all_words[i*8:(i+1)*8]).capitalize()\n",
    "        if i < 11 or i == 12:\n",
    "            line += ','\n",
    "        else:\n",
    "            line += '.'\n",
    "        print(line)\n",
    "\n",
    "def generate_by_line(hmm, obs_map):\n",
    "    for i in range(14):\n",
    "        line = sample_sentence(hmm, obs_map, 8)\n",
    "        if i < 11 or i == 12:\n",
    "            line += ','\n",
    "        else:\n",
    "            line += '.'\n",
    "        print(line)"
   ]
  },
  {
   "cell_type": "code",
   "execution_count": 3,
   "metadata": {},
   "outputs": [],
   "source": [
    "text = open(os.path.join(os.getcwd(), 'data/shakespeare.txt')).read()\n",
    "obs, obs_map = parse_lines(text)"
   ]
  },
  {
   "cell_type": "code",
   "execution_count": 4,
   "metadata": {},
   "outputs": [
    {
     "name": "stdout",
     "output_type": "stream",
     "text": [
      "Iteration: 10\n",
      "Iteration: 20\n",
      "Iteration: 30\n",
      "Iteration: 40\n",
      "Iteration: 50\n",
      "Iteration: 60\n",
      "Iteration: 70\n",
      "Iteration: 80\n",
      "Iteration: 90\n",
      "Iteration: 100\n"
     ]
    }
   ],
   "source": [
    "hmm2 = unsupervised_HMM(obs, 2, 100)"
   ]
  },
  {
   "cell_type": "code",
   "execution_count": 5,
   "metadata": {},
   "outputs": [
    {
     "name": "stdout",
     "output_type": "stream",
     "text": [
      "Iteration: 10\n",
      "Iteration: 20\n",
      "Iteration: 30\n",
      "Iteration: 40\n",
      "Iteration: 50\n",
      "Iteration: 60\n",
      "Iteration: 70\n",
      "Iteration: 80\n",
      "Iteration: 90\n",
      "Iteration: 100\n"
     ]
    }
   ],
   "source": [
    "hmm4 = unsupervised_HMM(obs, 4, 100)"
   ]
  },
  {
   "cell_type": "code",
   "execution_count": 6,
   "metadata": {},
   "outputs": [
    {
     "name": "stdout",
     "output_type": "stream",
     "text": [
      "Iteration: 10\n",
      "Iteration: 20\n",
      "Iteration: 30\n",
      "Iteration: 40\n",
      "Iteration: 50\n",
      "Iteration: 60\n",
      "Iteration: 70\n",
      "Iteration: 80\n",
      "Iteration: 90\n",
      "Iteration: 100\n"
     ]
    }
   ],
   "source": [
    "hmm6 = unsupervised_HMM(obs, 6, 100)"
   ]
  },
  {
   "cell_type": "code",
   "execution_count": 7,
   "metadata": {},
   "outputs": [
    {
     "name": "stdout",
     "output_type": "stream",
     "text": [
      "Iteration: 10\n",
      "Iteration: 20\n",
      "Iteration: 30\n",
      "Iteration: 40\n",
      "Iteration: 50\n",
      "Iteration: 60\n",
      "Iteration: 70\n",
      "Iteration: 80\n",
      "Iteration: 90\n",
      "Iteration: 100\n"
     ]
    }
   ],
   "source": [
    "hmm8 = unsupervised_HMM(obs, 8, 100)"
   ]
  },
  {
   "cell_type": "code",
   "execution_count": 8,
   "metadata": {},
   "outputs": [
    {
     "name": "stdout",
     "output_type": "stream",
     "text": [
      "Iteration: 10\n",
      "Iteration: 20\n",
      "Iteration: 30\n",
      "Iteration: 40\n",
      "Iteration: 50\n",
      "Iteration: 60\n",
      "Iteration: 70\n",
      "Iteration: 80\n",
      "Iteration: 90\n",
      "Iteration: 100\n"
     ]
    }
   ],
   "source": [
    "hmm12 = unsupervised_HMM(obs, 12, 100)"
   ]
  },
  {
   "cell_type": "code",
   "execution_count": 9,
   "metadata": {},
   "outputs": [
    {
     "name": "stdout",
     "output_type": "stream",
     "text": [
      "I is subject feathered a of purpose course,\n",
      "Thoughts acquainted a be prove not it why,\n",
      "Every my truth doth fame from fairest in,\n",
      "I what weeds tell hath art thine no,\n",
      "As for due but age thy i can,\n",
      "Would winter of a or for of on,\n",
      "That heart who heart leave and not steal,\n",
      "Will thee a weigh to say in make,\n",
      "Sheaves twixt love have uphold those much me,\n",
      "Thy to i i last moiety thy all,\n",
      "Windows limits vermilion thrice my make being that,\n",
      "And to is mind windows borrowed die hear.\n",
      "Thy themselves mad register break a mind the,\n",
      "We my to when what may yet then.\n"
     ]
    }
   ],
   "source": [
    "# in naive implementation, simply generate 14-line sonnet without enforcing rhyme/meter, etc.\n",
    "generate_obs(hmm2, obs_map)"
   ]
  },
  {
   "cell_type": "code",
   "execution_count": 10,
   "metadata": {},
   "outputs": [
    {
     "name": "stdout",
     "output_type": "stream",
     "text": [
      "Intents a when rehearse and that your count,\n",
      "Languished me part informer hasten gathered life her,\n",
      "What death eternity confounds things part false offices,\n",
      "For absent can and sweet rose fresh beloved,\n",
      "As writ anothers lovst to virtuous no abuses,\n",
      "Poor on needs was warm scorned i welcome,\n",
      "On vantage more you tell my will quite,\n",
      "Delight are is self calls herd my make,\n",
      "My finger title making from be upon the,\n",
      "Write with best confined looked where youth o,\n",
      "That make thou gone clay and dwell more,\n",
      "Doth think till shall cure and thou thy.\n",
      "Is me am prize thou your outward i,\n",
      "Show thing tyrants birds wane and rest riper.\n"
     ]
    }
   ],
   "source": [
    "generate_by_line(hmm2, obs_map)"
   ]
  },
  {
   "cell_type": "code",
   "execution_count": 11,
   "metadata": {},
   "outputs": [
    {
     "name": "stdout",
     "output_type": "stream",
     "text": [
      "A more without account i to seest in,\n",
      "Black character whose take to there is thee,\n",
      "In you if bosoms i he me as,\n",
      "A which a the on blessed vow subsist,\n",
      "That invent were change to me your born,\n",
      "Another alone servant no me with power save,\n",
      "Thou it this vassal your heart for purpose,\n",
      "Shall die dost think dyed than eyes beseem,\n",
      "Kingly more dark be thee joy shalt turns,\n",
      "Or sinful when what no i it parallels,\n",
      "Fever living the my shadow go pointing fed,\n",
      "The ending that then these mine eye a.\n",
      "Whence and deceived sluttish then when pleasure my,\n",
      "To we not this to forget and mud.\n"
     ]
    }
   ],
   "source": [
    "generate_obs(hmm4, obs_map)"
   ]
  },
  {
   "cell_type": "code",
   "execution_count": 12,
   "metadata": {},
   "outputs": [
    {
     "name": "stdout",
     "output_type": "stream",
     "text": [
      "Wandring to the region chide whom in engrossed,\n",
      "Of for concord they sweet virtue this sight,\n",
      "Friend cherish bodys she awake self lends the,\n",
      "I my and poor or gift to comment,\n",
      "Mind that the that when quenched that brow,\n",
      "I me youth his hundred his hiding you,\n",
      "Other holy shames so dissuade be all rocks,\n",
      "To be rare time subject my such time,\n",
      "Their thou spend long cannot i they o,\n",
      "You own prove ah win in freezings nights,\n",
      "Self dost deeds transgression possessing that tie is,\n",
      "Gone grows groans never doth that to thee.\n",
      "Unless have more proud allege your in face,\n",
      "Gates so oerlook which staineth ending golden idle.\n"
     ]
    }
   ],
   "source": [
    "generate_by_line(hmm4, obs_map)"
   ]
  },
  {
   "cell_type": "code",
   "execution_count": 13,
   "metadata": {},
   "outputs": [
    {
     "name": "stdout",
     "output_type": "stream",
     "text": [
      "Melancholy and wantonness may thrall excuse knife substance,\n",
      "Hath and guest the plagues youth add and,\n",
      "Abundance perfumes yet that am i so give,\n",
      "Near drawn of charter my treasure exceeds and,\n",
      "Time of too thee thee idly lives extant,\n",
      "And words self slave revolt beauty own gait,\n",
      "To o am hear who keep outgoing to,\n",
      "A thy green anothers hope dwell to and,\n",
      "Lameness by love and life the days my,\n",
      "Hast lie words a hath good a one,\n",
      "Days nimble due have i thoughts then by,\n",
      "With and use thee nothing memory love best.\n",
      "Me or my my my world deaths the,\n",
      "One the brain both love both skill in.\n"
     ]
    }
   ],
   "source": [
    "generate_obs(hmm6, obs_map)"
   ]
  },
  {
   "cell_type": "code",
   "execution_count": 14,
   "metadata": {},
   "outputs": [
    {
     "name": "stdout",
     "output_type": "stream",
     "text": [
      "Alone whereon thee sepulchres fortune not pain reign,\n",
      "None be how not shown it account in,\n",
      "Sin be even thy love life of when,\n",
      "I shifts till dimmed love it thought a,\n",
      "Of anothers grave more and of eye is,\n",
      "Perfect about it is brain show men world,\n",
      "With cruel age evil dies a wide to,\n",
      "For had chase thy those love and you,\n",
      "Others up why the well her as that,\n",
      "Change with fire friend pleasure this skill from,\n",
      "They if ere love who in to his,\n",
      "And remembrance for in and will good of.\n",
      "Love as gladly now more much be your,\n",
      "Dear hath that that self purge fairer swear.\n"
     ]
    }
   ],
   "source": [
    "generate_by_line(hmm6, obs_map)"
   ]
  },
  {
   "cell_type": "code",
   "execution_count": 15,
   "metadata": {},
   "outputs": [
    {
     "name": "stdout",
     "output_type": "stream",
     "text": [
      "These of thy eye decease lines draw word,\n",
      "Will thou beauty suggest to when invention my,\n",
      "Mind of of what nor the spends still,\n",
      "From the old torment mine sake respose in,\n",
      "Autumn equipage o loss by bath i be,\n",
      "Of the watchman again of my sport to,\n",
      "Benefit the a on that thou not to,\n",
      "Well as but that times the sour of,\n",
      "Of sweet dateless from the this with youth,\n",
      "Change thy which cost i shine world burden,\n",
      "Seeking to as i thou after canker not,\n",
      "Bath but his ills exchanged forged forget to.\n",
      "Against his whilst when so to for thy,\n",
      "Attending striving feel did carve i the praise.\n"
     ]
    }
   ],
   "source": [
    "generate_obs(hmm8, obs_map)"
   ]
  },
  {
   "cell_type": "code",
   "execution_count": 16,
   "metadata": {},
   "outputs": [
    {
     "name": "stdout",
     "output_type": "stream",
     "text": [
      "Eternity thought that both him ruminate as bare,\n",
      "Nobler in the numbers i pass to your,\n",
      "Wills noted little i mad evermore and the,\n",
      "But so as looks in no sun his,\n",
      "Reason and hath waste influence balmy in my,\n",
      "Proud slave is poisoned away the lack and,\n",
      "Your care next my painted proud which but,\n",
      "Virtue race make most do thee a thy,\n",
      "Adjunct upon his but he could to thy,\n",
      "Of praise last do famished and thee eternity,\n",
      "Alone from thee up all leisure but for,\n",
      "Which in said i this lords thing year.\n",
      "Steal of sight disgraced of seem tonguetied alone,\n",
      "His shadow but policy thus by fond imprint.\n"
     ]
    }
   ],
   "source": [
    "generate_by_line(hmm8, obs_map)"
   ]
  },
  {
   "cell_type": "code",
   "execution_count": 17,
   "metadata": {},
   "outputs": [
    {
     "name": "stdout",
     "output_type": "stream",
     "text": [
      "Stoln and she than as it love to,\n",
      "Watery the hid the much by me thrive,\n",
      "And it rich upon now what i of,\n",
      "Their date your jacks and sole as more,\n",
      "Taken face as his rider love lips whom,\n",
      "Speak drown then unto frequent eyes him doth,\n",
      "My sight to welltuned and gaze active great,\n",
      "Possessing your in every spur with our durst,\n",
      "Reap filled need steal i insults thought i,\n",
      "Esteem beloved thoughts the comfort set this thou,\n",
      "Those vision where the it walk or with,\n",
      "So many speechless invention blesses my heart when.\n",
      "Brought to dust be hill fair wasteful hell,\n",
      "Untutored none what like i live should abundance.\n"
     ]
    }
   ],
   "source": [
    "generate_obs(hmm12, obs_map)"
   ]
  },
  {
   "cell_type": "code",
   "execution_count": 18,
   "metadata": {},
   "outputs": [
    {
     "name": "stdout",
     "output_type": "stream",
     "text": [
      "Unbless stout and other eyes i would true,\n",
      "Your sang the frown tongues proves fairest up,\n",
      "Gain for in not to his cars is,\n",
      "Alone that unless against to wealth put of,\n",
      "And unswayed to everywhere thy whit rhyme mine,\n",
      "Brain did built heir lovst me to which,\n",
      "Have thou each love else doth take or,\n",
      "Blind then my out in the sight eyes,\n",
      "For figured to eyes will my hours pen,\n",
      "She could betray vulgar t sweetest better beautys,\n",
      "Is prize sees then nothing well so thou,\n",
      "But proved two poor power o character could.\n",
      "That today no banquet things sight no wilfully,\n",
      "Is your mistress not four with canst thou.\n"
     ]
    }
   ],
   "source": [
    "generate_by_line(hmm12, obs_map)"
   ]
  }
 ],
 "metadata": {
  "kernelspec": {
   "display_name": "Python 3",
   "language": "python",
   "name": "python3"
  },
  "language_info": {
   "codemirror_mode": {
    "name": "ipython",
    "version": 3
   },
   "file_extension": ".py",
   "mimetype": "text/x-python",
   "name": "python",
   "nbconvert_exporter": "python",
   "pygments_lexer": "ipython3",
   "version": "3.7.6"
  }
 },
 "nbformat": 4,
 "nbformat_minor": 2
}
