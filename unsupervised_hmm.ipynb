{
 "cells": [
  {
   "cell_type": "code",
   "execution_count": 1,
   "metadata": {},
   "outputs": [],
   "source": [
    "import os\n",
    "from ipynb.fs.full.preprocessing import parse_observations, sample_sentence\n",
    "from HMM_soln import unsupervised_HMM"
   ]
  },
  {
   "cell_type": "code",
   "execution_count": 3,
   "metadata": {},
   "outputs": [],
   "source": [
    "def obs_map_reverser(obs_map):\n",
    "    obs_map_r = {}\n",
    "\n",
    "    for key in obs_map:\n",
    "        obs_map_r[obs_map[key]] = key\n",
    "\n",
    "    return obs_map_r\n",
    "\n",
    "def sample_sentence(hmm, obs_map, n_words=100):\n",
    "    # Get reverse map.\n",
    "    obs_map_r = obs_map_reverser(obs_map)\n",
    "\n",
    "    # Sample and convert sentence.\n",
    "    emission, states = hmm.generate_emission(n_words)\n",
    "    sentence = [obs_map_r[i] for i in emission]\n",
    "\n",
    "    return ' '.join(sentence).capitalize()\n",
    "\n",
    "def generate_obs(hmm, obs_map):\n",
    "    '''\n",
    "    Naively generates 14-line sonnet with 10 words each.\n",
    "    \n",
    "    Inputs:\n",
    "    hmm: trained hmm\n",
    "    obs_map: maps word to observation index\n",
    "    \n",
    "    Outputs:\n",
    "    None\n",
    "    '''\n",
    "    # generate all words in sonnet\n",
    "    all_words = sample_sentence(hmm, obs_map, 140)\n",
    "    \n",
    "    # split into 14 lines and add capitalization/naive punctuation\n",
    "    for i in range(14):\n",
    "        count = 0\n",
    "        line = ' '.join(all_words[i*10:(i+1)*10]).capitalize()\n",
    "        if i == 11 or i == 12:\n",
    "            line += ','\n",
    "        else:\n",
    "            line += '.'\n",
    "        print(line)"
   ]
  },
  {
   "cell_type": "code",
   "execution_count": 4,
   "metadata": {},
   "outputs": [],
   "source": [
    "text = open(os.path.join(os.getcwd(), 'data/shakespeare.txt')).read()\n",
    "obs, obs_map = parse_observations(text)"
   ]
  },
  {
   "cell_type": "code",
   "execution_count": 5,
   "metadata": {},
   "outputs": [
    {
     "name": "stdout",
     "output_type": "stream",
     "text": [
      "Iteration: 10\n",
      "Iteration: 20\n",
      "Iteration: 30\n",
      "Iteration: 40\n",
      "Iteration: 50\n",
      "Iteration: 60\n",
      "Iteration: 70\n",
      "Iteration: 80\n",
      "Iteration: 90\n",
      "Iteration: 100\n"
     ]
    }
   ],
   "source": [
    "hmm2 = unsupervised_HMM(obs, 2, 100)"
   ]
  },
  {
   "cell_type": "code",
   "execution_count": 6,
   "metadata": {},
   "outputs": [
    {
     "name": "stdout",
     "output_type": "stream",
     "text": [
      "Iteration: 10\n",
      "Iteration: 20\n",
      "Iteration: 30\n",
      "Iteration: 40\n",
      "Iteration: 50\n",
      "Iteration: 60\n",
      "Iteration: 70\n",
      "Iteration: 80\n",
      "Iteration: 90\n",
      "Iteration: 100\n"
     ]
    }
   ],
   "source": [
    "hmm4 = unsupervised_HMM(obs, 4, 100)"
   ]
  },
  {
   "cell_type": "code",
   "execution_count": null,
   "metadata": {},
   "outputs": [
    {
     "name": "stdout",
     "output_type": "stream",
     "text": [
      "Iteration: 10\n",
      "Iteration: 20\n",
      "Iteration: 30\n",
      "Iteration: 40\n",
      "Iteration: 50\n",
      "Iteration: 60\n",
      "Iteration: 70\n",
      "Iteration: 80\n",
      "Iteration: 90\n"
     ]
    }
   ],
   "source": [
    "hmm6 = unsupervised_HMM(obs, 6, 100)"
   ]
  },
  {
   "cell_type": "code",
   "execution_count": null,
   "metadata": {},
   "outputs": [],
   "source": [
    "hmm8 = unsupervised_HMM(obs, 8, 100)"
   ]
  },
  {
   "cell_type": "code",
   "execution_count": 35,
   "metadata": {},
   "outputs": [
    {
     "name": "stdout",
     "output_type": "stream",
     "text": [
      "Her not right wherefore torture in mind nor of beauty\n",
      "Thine hope if sweet hath prescriptions the sorrow and being\n",
      "In it succeeding and silence so inhabit fair should face\n",
      "Shown me form huge flowers where ill press angry again\n",
      "Unfathered being gift to shape thou days me whether to\n",
      "Time mine in heard gone thou took for eyes forsaken\n",
      "Never to lack there thy from lust striving my against\n",
      "Write hath it twofold for proceed be presentabsent me me\n",
      "Thee uphold age nothing have me the shook thee nor\n",
      "Whoeer end counterpart recompense tell than to with canst strained\n",
      "Decay me sluttish that old when stars and you cheeks\n",
      "Set grown of not deeds then politic they gavst thou\n",
      "110 so a of alchemy showing me nobler and things\n",
      "You shall a sober mine profane love thee now count\n"
     ]
    }
   ],
   "source": [
    "# in naive implementation, simply generate 14-line sonnet without enforcing rhyme/meter, etc.\n",
    "generate_obs(hmm2, obs_map)"
   ]
  },
  {
   "cell_type": "code",
   "execution_count": 36,
   "metadata": {},
   "outputs": [
    {
     "name": "stdout",
     "output_type": "stream",
     "text": [
      "Should self loving son time now up still for by\n",
      "Acquainted inward all keeps birth that know days like thy\n",
      "Cupid him dearth records me you mourning to master maturity\n",
      "The pen yet gentle should i tyrant tell doublevantage be\n",
      "Those show random who slave morn but pretty and one\n",
      "Be gain earth doubting therefore the and any and they\n",
      "Vassalage compare i nor you why black i summer have\n",
      "Meetness heart then shall thou strong eye blind his this\n",
      "Give will even in will time being stoln forfeit first\n",
      "Who dwell thou whose bear the with though in do\n",
      "That thus in like i your me o copy delight\n",
      "O wide know cools face humour and thee in confined\n",
      "The maintain of nothing and my my for ill be\n",
      "Sail fee coward the for i do my deceived beauty\n"
     ]
    }
   ],
   "source": [
    "generate_obs(hmm4, obs_map)"
   ]
  },
  {
   "cell_type": "code",
   "execution_count": 34,
   "metadata": {},
   "outputs": [
    {
     "name": "stdout",
     "output_type": "stream",
     "text": [
      "Spot of not why should the inward wrackful with thee\n",
      "There thy soft should young ah self hugely cheeks his\n",
      "Them the men though thy humour how is i then\n",
      "And of view and it for fearful must he better\n",
      "Accumulate to shall needs is on my swift doth those\n",
      "Many thou can be i doth those dead to say\n",
      "Nor your to fresh manner to minded though all sea\n",
      "With doth more then a sour pen free therefore to\n",
      "Hurt for sweets misplaced not be bearing bar in sweet\n",
      "Mine is and all did but making slander deny no\n",
      "Thou rhyme say pleasant daily thee lest plain a touches\n",
      "For seem for that flowers often since vow blamed means\n",
      "Set lo decease me seem at the other which a\n",
      "Becomes the self uttering doth her hearts is saucy better\n"
     ]
    }
   ],
   "source": [
    "generate_obs(hmm6, obs_map)"
   ]
  },
  {
   "cell_type": "code",
   "execution_count": null,
   "metadata": {},
   "outputs": [],
   "source": [
    "generate_obs(hmm8, obs_map)"
   ]
  }
 ],
 "metadata": {
  "kernelspec": {
   "display_name": "Python 3",
   "language": "python",
   "name": "python3"
  },
  "language_info": {
   "codemirror_mode": {
    "name": "ipython",
    "version": 3
   },
   "file_extension": ".py",
   "mimetype": "text/x-python",
   "name": "python",
   "nbconvert_exporter": "python",
   "pygments_lexer": "ipython3",
   "version": "3.6.5"
  }
 },
 "nbformat": 4,
 "nbformat_minor": 2
}
