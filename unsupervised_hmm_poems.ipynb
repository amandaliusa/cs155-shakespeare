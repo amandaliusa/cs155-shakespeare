{
 "cells": [
  {
   "cell_type": "code",
   "execution_count": 7,
   "metadata": {},
   "outputs": [],
   "source": [
    "import os\n",
    "from ipynb.fs.full.preprocessing import parse_poems, parse_lines\n",
    "from HMM_soln import unsupervised_HMM"
   ]
  },
  {
   "cell_type": "code",
   "execution_count": 2,
   "metadata": {},
   "outputs": [],
   "source": [
    "def obs_map_reverser(obs_map):\n",
    "    obs_map_r = {}\n",
    "\n",
    "    for key in obs_map:\n",
    "        obs_map_r[obs_map[key]] = key\n",
    "\n",
    "    return obs_map_r\n",
    "\n",
    "def sample_sentence(hmm, obs_map, n_words=100):\n",
    "    # Get reverse map.\n",
    "    obs_map_r = obs_map_reverser(obs_map)\n",
    "\n",
    "    # Sample and convert sentence.\n",
    "    emission, states = hmm.generate_emission(n_words)\n",
    "    sentence = [obs_map_r[i] for i in emission]\n",
    "\n",
    "    return ' '.join(sentence).capitalize()\n",
    "\n",
    "def generate_obs(hmm, obs_map):\n",
    "    '''\n",
    "    Naively generates 14-line sonnet with 8 words each.\n",
    "    \n",
    "    Inputs:\n",
    "    hmm: trained hmm\n",
    "    obs_map: maps word to observation index\n",
    "    \n",
    "    Outputs:\n",
    "    None\n",
    "    '''\n",
    "    # generate all words in sonnet\n",
    "    all_words = sample_sentence(hmm, obs_map, 112)\n",
    "    all_words = all_words.split(' ')\n",
    "    \n",
    "    # split into 14 lines and add capitalization/naive punctuation\n",
    "    for i in range(14):\n",
    "        count = 0\n",
    "        line = ' '.join(all_words[i*8:(i+1)*8]).capitalize()\n",
    "        if i < 11 or i == 12:\n",
    "            line += ','\n",
    "        else:\n",
    "            line += '.'\n",
    "        print(line)\n",
    "\n",
    "def generate_by_line(hmm, obs_map):\n",
    "    for i in range(14):\n",
    "        line = sample_sentence(hmm, obs_map, 8)\n",
    "        if i < 11 or i == 12:\n",
    "            line += ','\n",
    "        else:\n",
    "            line += '.'\n",
    "        print(line)"
   ]
  },
  {
   "cell_type": "code",
   "execution_count": 4,
   "metadata": {},
   "outputs": [],
   "source": [
    "text = open(os.path.join(os.getcwd(), 'data/shakespeare.txt')).read()\n",
    "obs, obs_map = parse_poems(text)"
   ]
  },
  {
   "cell_type": "code",
   "execution_count": 5,
   "metadata": {},
   "outputs": [
    {
     "name": "stdout",
     "output_type": "stream",
     "text": [
      "Iteration: 10\n",
      "Iteration: 20\n",
      "Iteration: 30\n",
      "Iteration: 40\n",
      "Iteration: 50\n",
      "Iteration: 60\n",
      "Iteration: 70\n",
      "Iteration: 80\n",
      "Iteration: 90\n",
      "Iteration: 100\n"
     ]
    }
   ],
   "source": [
    "hmm2 = unsupervised_HMM(obs, 2, 100)"
   ]
  },
  {
   "cell_type": "code",
   "execution_count": 10,
   "metadata": {},
   "outputs": [
    {
     "name": "stdout",
     "output_type": "stream",
     "text": [
      "Iteration: 10\n",
      "Iteration: 20\n",
      "Iteration: 30\n",
      "Iteration: 40\n",
      "Iteration: 50\n",
      "Iteration: 60\n",
      "Iteration: 70\n",
      "Iteration: 80\n",
      "Iteration: 90\n",
      "Iteration: 100\n"
     ]
    }
   ],
   "source": [
    "hmm4 = unsupervised_HMM(obs, 4, 100)"
   ]
  },
  {
   "cell_type": "code",
   "execution_count": 11,
   "metadata": {},
   "outputs": [
    {
     "name": "stdout",
     "output_type": "stream",
     "text": [
      "Iteration: 10\n",
      "Iteration: 20\n",
      "Iteration: 30\n",
      "Iteration: 40\n",
      "Iteration: 50\n",
      "Iteration: 60\n",
      "Iteration: 70\n",
      "Iteration: 80\n",
      "Iteration: 90\n",
      "Iteration: 100\n"
     ]
    }
   ],
   "source": [
    "hmm6 = unsupervised_HMM(obs, 6, 100)"
   ]
  },
  {
   "cell_type": "code",
   "execution_count": 12,
   "metadata": {},
   "outputs": [
    {
     "name": "stdout",
     "output_type": "stream",
     "text": [
      "Iteration: 10\n",
      "Iteration: 20\n",
      "Iteration: 30\n",
      "Iteration: 40\n",
      "Iteration: 50\n",
      "Iteration: 60\n",
      "Iteration: 70\n",
      "Iteration: 80\n",
      "Iteration: 90\n",
      "Iteration: 100\n"
     ]
    }
   ],
   "source": [
    "hmm8 = unsupervised_HMM(obs, 8, 100)"
   ]
  },
  {
   "cell_type": "code",
   "execution_count": 13,
   "metadata": {},
   "outputs": [
    {
     "name": "stdout",
     "output_type": "stream",
     "text": [
      "Iteration: 10\n",
      "Iteration: 20\n",
      "Iteration: 30\n",
      "Iteration: 40\n",
      "Iteration: 50\n",
      "Iteration: 60\n",
      "Iteration: 70\n",
      "Iteration: 80\n",
      "Iteration: 90\n",
      "Iteration: 100\n"
     ]
    }
   ],
   "source": [
    "hmm12 = unsupervised_HMM(obs, 12, 100)"
   ]
  },
  {
   "cell_type": "code",
   "execution_count": 28,
   "metadata": {},
   "outputs": [
    {
     "name": "stdout",
     "output_type": "stream",
     "text": [
      "Iteration: 10\n",
      "Iteration: 20\n",
      "Iteration: 30\n",
      "Iteration: 40\n",
      "Iteration: 50\n",
      "Iteration: 60\n",
      "Iteration: 70\n",
      "Iteration: 80\n",
      "Iteration: 90\n",
      "Iteration: 100\n"
     ]
    }
   ],
   "source": [
    "hmm20 = unsupervised_HMM(obs, 20, 100)"
   ]
  },
  {
   "cell_type": "code",
   "execution_count": 14,
   "metadata": {},
   "outputs": [
    {
     "name": "stdout",
     "output_type": "stream",
     "text": [
      "My worth therefore of mayst staineth their shines,\n",
      "And both flattery pilgrimage with were some since,\n",
      "Or time not the pride from tells that,\n",
      "To holy did fears place all with i,\n",
      "Most yet where use my her nothing hath,\n",
      "Act sluttish swallowed i was walls of mine,\n",
      "As thy nor of vile since better fall,\n",
      "Thee sweet forced then thee didst motion with,\n",
      "Living nor not never is courses thou form,\n",
      "Idle from rigour your a was i to,\n",
      "Of spirits soul he of come with such,\n",
      "That from with music some all heart are.\n",
      "Waning power other being simple thou he but,\n",
      "By in whether ill never authority beauty your.\n"
     ]
    }
   ],
   "source": [
    "# in naive implementation, simply generate 14-line sonnet without enforcing rhyme/meter, etc.\n",
    "generate_obs(hmm2, obs_map)"
   ]
  },
  {
   "cell_type": "code",
   "execution_count": 15,
   "metadata": {},
   "outputs": [
    {
     "name": "stdout",
     "output_type": "stream",
     "text": [
      "Plead the show have age as that many,\n",
      "For hounds but sort not prove my tyrants,\n",
      "Nine gentle cruel if of and firstborn lose,\n",
      "In thoughts but with o in both and,\n",
      "All mad an see mistress nor i on,\n",
      "Pity with must thou rage thy shame my,\n",
      "Unkind keeps of closure what cold and cures,\n",
      "Deaths strangely in mine lovers as be whilst,\n",
      "Spheres black roses my this possesseth my old,\n",
      "As canst birds is summers and me graces,\n",
      "Old now what my makes engrossed him whos,\n",
      "Remains time bring subject on that for the.\n",
      "You now thou the many thou knowledge of,\n",
      "Long when is lost i there time being.\n"
     ]
    }
   ],
   "source": [
    "generate_by_line(hmm2, obs_map)"
   ]
  },
  {
   "cell_type": "code",
   "execution_count": 16,
   "metadata": {},
   "outputs": [
    {
     "name": "stdout",
     "output_type": "stream",
     "text": [
      "And that be my and and greatest ill,\n",
      "Survive my memory thou goes can tables ah,\n",
      "Heart my thee aspect are but you far,\n",
      "Dost can short every your is for long,\n",
      "Lie that defy moon with set and plea,\n",
      "You yet tears see have which thou glass,\n",
      "And i they thou change and none a,\n",
      "Means influence favour and fight once and dost,\n",
      "Behold are him with even is you no,\n",
      "Rain thou the leave your willingly siege do,\n",
      "He to laws bodys reeleth foes lies obsequious,\n",
      "Tell my babe from nothing my do but.\n",
      "Right if where thou golden own mended for,\n",
      "Much filching though thee acknowledge strength enforced lie.\n"
     ]
    }
   ],
   "source": [
    "generate_obs(hmm4, obs_map)"
   ]
  },
  {
   "cell_type": "code",
   "execution_count": 21,
   "metadata": {},
   "outputs": [
    {
     "name": "stdout",
     "output_type": "stream",
     "text": [
      "Heart to lends show that i come by,\n",
      "Plain i let good his shall one the,\n",
      "Thence need the what days to lines so,\n",
      "Replete to kings would that friends i but,\n",
      "Master leaped in maladies torment blood to shame,\n",
      "Dispraise would so when saint but unhappily stay,\n",
      "Moan verse thy verse suns bare my lay,\n",
      "True to point control art the bitterness passed,\n",
      "Ranged determination lack and chopt to all sweet,\n",
      "Thou sourly leads all which beauty the alas,\n",
      "Much of this engrossed a afar whom not,\n",
      "Then hems made not and vision travels leases.\n",
      "In it my loves yet ill i esteem,\n",
      "Day adoting living all of fast of same.\n"
     ]
    }
   ],
   "source": [
    "generate_by_line(hmm4, obs_map)"
   ]
  },
  {
   "cell_type": "code",
   "execution_count": 22,
   "metadata": {},
   "outputs": [
    {
     "name": "stdout",
     "output_type": "stream",
     "text": [
      "Mistaking far my dwell my sweet thine shall,\n",
      "Speaking die thy so when lies and truth,\n",
      "Down thou from the still one of beyond,\n",
      "Sour vex thy the good love never although,\n",
      "The with his maladies thy not this distraction,\n",
      "The of one do in dearly heaven what,\n",
      "Chief shalt me seem learn how doth crowned,\n",
      "Drooping speaking upon the heart as pass am,\n",
      "That the do of sorrow and thou than,\n",
      "Be hours fortune star he much with though,\n",
      "Uprear know be not and the her shall,\n",
      "Wound perjured truly though it spring my all.\n",
      "Dost then invention thrust i that sought thee,\n",
      "Of my leisure from grace proof put thoughts.\n"
     ]
    }
   ],
   "source": [
    "generate_obs(hmm6, obs_map)"
   ]
  },
  {
   "cell_type": "code",
   "execution_count": 23,
   "metadata": {},
   "outputs": [
    {
     "name": "stdout",
     "output_type": "stream",
     "text": [
      "Spend divide slight youth can thee bent call,\n",
      "The tender more in and then beauty fulness,\n",
      "Then thy wise sullen did that strong break,\n",
      "The in joy of was times figures ransoms,\n",
      "Found thou keen all lose this her much,\n",
      "Dearest and let this filching do break longer,\n",
      "Makes refuse to many and live cars youth,\n",
      "With rose bring mercy cheek their self so,\n",
      "This little defects of in but ten virtue,\n",
      "And point what well is the o gentle,\n",
      "With nurse to than which thee it my,\n",
      "What might swallowed my gentle the of beast.\n",
      "Wisdom to if that tomb and in thy,\n",
      "Oersways dulness gracious thy heavenly foes slave that.\n"
     ]
    }
   ],
   "source": [
    "generate_by_line(hmm6, obs_map)"
   ]
  },
  {
   "cell_type": "code",
   "execution_count": 24,
   "metadata": {},
   "outputs": [
    {
     "name": "stdout",
     "output_type": "stream",
     "text": [
      "For some doth thou what new know woes,\n",
      "From better way on death be me is,\n",
      "A are enforced ransom wasteful thou best and,\n",
      "Have of ladies battring earth rebuked have be,\n",
      "It canst words as content is deep lamb,\n",
      "Which chopt thy i onwards or when being,\n",
      "Hence own when have fist of since this,\n",
      "This never for say he hours of my,\n",
      "Nobler and rehearse the will and not of,\n",
      "This in her eyes report needs name and,\n",
      "Your till what my then is thee the,\n",
      "Life where a wing take all gavst did.\n",
      "Content look prize though gusts not presentst back,\n",
      "Hours had in of contented mine sake sleep.\n"
     ]
    }
   ],
   "source": [
    "generate_obs(hmm8, obs_map)"
   ]
  },
  {
   "cell_type": "code",
   "execution_count": 25,
   "metadata": {},
   "outputs": [
    {
     "name": "stdout",
     "output_type": "stream",
     "text": [
      "Hand me end what thy believe which restful,\n",
      "Sun your despite so decrees the fire steepup,\n",
      "And i nor jacks which and when in,\n",
      "Me thy think now do streams who most,\n",
      "Can are ground and is cause than hear,\n",
      "Thee in have to the for shall fears,\n",
      "Gives seat some in or fill would with,\n",
      "Springs moving down give the objects was me,\n",
      "Ages heavy of virtuous is hundred eager being,\n",
      "Weak are though cruel in part with all,\n",
      "Holy be what the will as his painting,\n",
      "Revolt accuse me water this on all but.\n",
      "Of my not of thine fair the selflove,\n",
      "That flown if because honour by whilst thine.\n"
     ]
    }
   ],
   "source": [
    "generate_by_line(hmm8, obs_map)"
   ]
  },
  {
   "cell_type": "code",
   "execution_count": 26,
   "metadata": {},
   "outputs": [
    {
     "name": "stdout",
     "output_type": "stream",
     "text": [
      "Coloured allow tires towards and my in gift,\n",
      "More wasteful may a ages like all the,\n",
      "And or to fickle ocean outlive dreams and,\n",
      "For thy hate of art of thee be,\n",
      "Whether not doth call but worms that done,\n",
      "Never will thou lives pity my friend touches,\n",
      "Should unfair i veins eye shall to thy,\n",
      "Will should audit penance finding and loving art,\n",
      "Forward face can your self all with the,\n",
      "And into vanished flower simple for be might,\n",
      "Of me me to the least thou o,\n",
      "Do exceeds than in our sun the but.\n",
      "Tyrannous giving day upon art sickness love i,\n",
      "Is fair despite ages extreme after hold is.\n"
     ]
    }
   ],
   "source": [
    "generate_obs(hmm12, obs_map)"
   ]
  },
  {
   "cell_type": "code",
   "execution_count": 27,
   "metadata": {},
   "outputs": [
    {
     "name": "stdout",
     "output_type": "stream",
     "text": [
      "Death bring part and as nor have within,\n",
      "Never than to none own thou with sum,\n",
      "Wouldst more spites can arise came you of,\n",
      "Is hath are then do of selfdoing look,\n",
      "Defendant nor it i than to ward to,\n",
      "Return a slow bell in swerving the earth,\n",
      "And to grace o lovely with him it,\n",
      "Accident put am from thee consider thy who,\n",
      "If evermore hear large who neglect i canst,\n",
      "Dear this self have a make others your,\n",
      "Eyes sense your sin pricked signs the be,\n",
      "Good cheeks i therein dear cause dearth heavily.\n",
      "Our of my public eye should my sickness,\n",
      "Robe thy pleasure where i the find desire.\n"
     ]
    }
   ],
   "source": [
    "generate_by_line(hmm12, obs_map)"
   ]
  },
  {
   "cell_type": "code",
   "execution_count": 31,
   "metadata": {},
   "outputs": [
    {
     "name": "stdout",
     "output_type": "stream",
     "text": [
      "Me masonry nor thee it heart thee true,\n",
      "I eye set thy seen so eye do,\n",
      "It wilt therefore never to be advantage have,\n",
      "Stoln all a stoln bewailed by to ill,\n",
      "Time i womb soul shall by th both,\n",
      "Of o lo of or thy why being,\n",
      "One excuse which thoughts than rolling still womans,\n",
      "Old show from it virtue of great self,\n",
      "And me he o prepare thee the travail,\n",
      "I eyes overturn worse thee doth admiring love,\n",
      "Which worth of happy marjoram come most with,\n",
      "Your heart thou hear my fiend doth go.\n",
      "My i thee thy eyes and thou you,\n",
      "A air times excellent torture by womans longing.\n"
     ]
    }
   ],
   "source": [
    "generate_obs(hmm20, obs_map)"
   ]
  },
  {
   "cell_type": "code",
   "execution_count": 30,
   "metadata": {},
   "outputs": [
    {
     "name": "stdout",
     "output_type": "stream",
     "text": [
      "Shall not this spirit for beauteous thou deservst,\n",
      "Thou weep and than depart endure beard me,\n",
      "Be not picture of thy i whose and,\n",
      "Of thou fearfully more the must on newer,\n",
      "My defects was what doth black this therefore,\n",
      "Slander love and although lie for mine seek,\n",
      "O bred by than i could painting excusing,\n",
      "But time honour your whom i to now,\n",
      "Loves of therefore i harder fight make rehearse,\n",
      "I then i feeds sooner doth flesh i,\n",
      "Self hue him on the for famished of,\n",
      "Is polished taught but have and hate love.\n",
      "Of womens but with woman of with do,\n",
      "Dost then with head in that sweets out.\n"
     ]
    }
   ],
   "source": [
    "generate_by_line(hmm20, obs_map)"
   ]
  }
 ],
 "metadata": {
  "kernelspec": {
   "display_name": "Python 3",
   "language": "python",
   "name": "python3"
  },
  "language_info": {
   "codemirror_mode": {
    "name": "ipython",
    "version": 3
   },
   "file_extension": ".py",
   "mimetype": "text/x-python",
   "name": "python",
   "nbconvert_exporter": "python",
   "pygments_lexer": "ipython3",
   "version": "3.6.5"
  }
 },
 "nbformat": 4,
 "nbformat_minor": 2
}
