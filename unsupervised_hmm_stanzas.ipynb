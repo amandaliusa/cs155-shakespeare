{
 "cells": [
  {
   "cell_type": "code",
   "execution_count": 3,
   "metadata": {},
   "outputs": [],
   "source": [
    "import os\n",
    "from ipynb.fs.full.preprocessing import parse_observations\n",
    "from HMM_soln import unsupervised_HMM"
   ]
  },
  {
   "cell_type": "markdown",
   "metadata": {},
   "source": [
    "obs_map_reverser() and sample_sentence() functions modified from Homework 6's HMM_helper.py by Andrew Kang"
   ]
  },
  {
   "cell_type": "code",
   "execution_count": 4,
   "metadata": {},
   "outputs": [],
   "source": [
    "def obs_map_reverser(obs_map):\n",
    "    obs_map_r = {}\n",
    "\n",
    "    for key in obs_map:\n",
    "        obs_map_r[obs_map[key]] = key\n",
    "\n",
    "    return obs_map_r\n",
    "\n",
    "def sample_sentence(hmm, obs_map, n_words=100):\n",
    "    # Get reverse map.\n",
    "    obs_map_r = obs_map_reverser(obs_map)\n",
    "\n",
    "    # Sample and convert sentence.\n",
    "    emission, states = hmm.generate_emission(n_words)\n",
    "    sentence = [obs_map_r[i] for i in emission]\n",
    "\n",
    "    return ' '.join(sentence).capitalize()\n",
    "\n",
    "def generate_obs(hmm, obs_map):\n",
    "    '''\n",
    "    Naively generates 14-line sonnet with 8 words each.\n",
    "    \n",
    "    Inputs:\n",
    "    hmm: trained hmm\n",
    "    obs_map: maps word to observation index\n",
    "    \n",
    "    Outputs:\n",
    "    None\n",
    "    '''\n",
    "    # generate all words in sonnet\n",
    "    all_words = sample_sentence(hmm, obs_map, 112)\n",
    "    all_words = all_words.split(' ')\n",
    "    \n",
    "    # split into 14 lines and add capitalization/naive punctuation\n",
    "    for i in range(14):\n",
    "        count = 0\n",
    "        line = ' '.join(all_words[i*8:(i+1)*8]).capitalize()\n",
    "        if i < 11 or i == 12:\n",
    "            line += ','\n",
    "        else:\n",
    "            line += '.'\n",
    "        print(line)\n",
    "\n",
    "def generate_by_line(hmm, obs_map):\n",
    "    for i in range(14):\n",
    "        line = sample_sentence(hmm, obs_map, 8)\n",
    "        if i < 11 or i == 12:\n",
    "            line += ','\n",
    "        else:\n",
    "            line += '.'\n",
    "        print(line)"
   ]
  },
  {
   "cell_type": "code",
   "execution_count": 5,
   "metadata": {},
   "outputs": [],
   "source": [
    "text = open(os.path.join(os.getcwd(), 'data/shakespeare.txt')).read()\n",
    "obs, obs_map = parse_observations(text)"
   ]
  },
  {
   "cell_type": "code",
   "execution_count": 4,
   "metadata": {},
   "outputs": [
    {
     "name": "stdout",
     "output_type": "stream",
     "text": [
      "Iteration: 10\n",
      "Iteration: 20\n",
      "Iteration: 30\n",
      "Iteration: 40\n",
      "Iteration: 50\n",
      "Iteration: 60\n",
      "Iteration: 70\n",
      "Iteration: 80\n",
      "Iteration: 90\n",
      "Iteration: 100\n"
     ]
    }
   ],
   "source": [
    "hmm2 = unsupervised_HMM(obs, 2, 100)"
   ]
  },
  {
   "cell_type": "code",
   "execution_count": 5,
   "metadata": {},
   "outputs": [
    {
     "name": "stdout",
     "output_type": "stream",
     "text": [
      "Iteration: 10\n",
      "Iteration: 20\n",
      "Iteration: 30\n",
      "Iteration: 40\n",
      "Iteration: 50\n",
      "Iteration: 60\n",
      "Iteration: 70\n",
      "Iteration: 80\n",
      "Iteration: 90\n",
      "Iteration: 100\n"
     ]
    }
   ],
   "source": [
    "hmm4 = unsupervised_HMM(obs, 4, 100)"
   ]
  },
  {
   "cell_type": "code",
   "execution_count": 6,
   "metadata": {},
   "outputs": [
    {
     "name": "stdout",
     "output_type": "stream",
     "text": [
      "Iteration: 10\n",
      "Iteration: 20\n",
      "Iteration: 30\n",
      "Iteration: 40\n",
      "Iteration: 50\n",
      "Iteration: 60\n",
      "Iteration: 70\n",
      "Iteration: 80\n",
      "Iteration: 90\n",
      "Iteration: 100\n"
     ]
    }
   ],
   "source": [
    "hmm6 = unsupervised_HMM(obs, 6, 100)"
   ]
  },
  {
   "cell_type": "code",
   "execution_count": 7,
   "metadata": {},
   "outputs": [
    {
     "name": "stdout",
     "output_type": "stream",
     "text": [
      "Iteration: 10\n",
      "Iteration: 20\n",
      "Iteration: 30\n",
      "Iteration: 40\n",
      "Iteration: 50\n",
      "Iteration: 60\n",
      "Iteration: 70\n",
      "Iteration: 80\n",
      "Iteration: 90\n",
      "Iteration: 100\n"
     ]
    }
   ],
   "source": [
    "hmm8 = unsupervised_HMM(obs, 8, 100)"
   ]
  },
  {
   "cell_type": "code",
   "execution_count": 8,
   "metadata": {},
   "outputs": [
    {
     "name": "stdout",
     "output_type": "stream",
     "text": [
      "Iteration: 10\n",
      "Iteration: 20\n",
      "Iteration: 30\n",
      "Iteration: 40\n",
      "Iteration: 50\n",
      "Iteration: 60\n",
      "Iteration: 70\n",
      "Iteration: 80\n",
      "Iteration: 90\n",
      "Iteration: 100\n"
     ]
    }
   ],
   "source": [
    "hmm12 = unsupervised_HMM(obs, 12, 100)"
   ]
  },
  {
   "cell_type": "code",
   "execution_count": 29,
   "metadata": {},
   "outputs": [
    {
     "name": "stdout",
     "output_type": "stream",
     "text": [
      "Copy respose beautys about by husband unbred away,\n",
      "You which this a are as making thousand,\n",
      "Change or tribes compare thee like blood worth,\n",
      "Being i that of tenure fair thy white,\n",
      "Of in like spheres that thee thereby his,\n",
      "From as subdued should if in tattered tibey,\n",
      "One the a thou will as times eyes,\n",
      "Tallies him wrong pebbled and thee robbery my,\n",
      "Then they remembrance simple thy and swift the,\n",
      "This which o rich your wing else from,\n",
      "Help are which your these they beautys they,\n",
      "Sick which die untrue a verse thou press.\n",
      "Love fairer beauty thou their my where ten,\n",
      "Such comfort i sigh that love or you.\n"
     ]
    }
   ],
   "source": [
    "# in naive implementation, simply generate 14-line sonnet without enforcing rhyme/meter, etc.\n",
    "generate_obs(hmm2, obs_map)"
   ]
  },
  {
   "cell_type": "code",
   "execution_count": 35,
   "metadata": {},
   "outputs": [
    {
     "name": "stdout",
     "output_type": "stream",
     "text": [
      "Restore i and for shape thee cause so,\n",
      "The gave hung me o which of active,\n",
      "They are careful senses each doth thou th,\n",
      "Grace gaze use services least charge of been,\n",
      "My i now will thus and art born,\n",
      "Much be you so but be out self,\n",
      "Feast worthy state there store winter not the,\n",
      "Writ muse swear sweet than is never and,\n",
      "Surmount minds thee mayst and worth memory tell,\n",
      "By watch thy have o climbed sorrow child,\n",
      "State servants moon do for than wronk so,\n",
      "Sweet these is you not some whoever hence.\n",
      "Back let mine being but of and the,\n",
      "Which fresher one to the art fair laid.\n"
     ]
    }
   ],
   "source": [
    "generate_by_line(hmm2, obs_map)"
   ]
  },
  {
   "cell_type": "code",
   "execution_count": 30,
   "metadata": {},
   "outputs": [
    {
     "name": "stdout",
     "output_type": "stream",
     "text": [
      "The carcanet one on my the within faults,\n",
      "Thou and buds like thee my thy which,\n",
      "Than tongue in thing and but no my,\n",
      "That so with stand a for their you,\n",
      "Me that face call heart faults lines the,\n",
      "Thence in abysm so from past my eye,\n",
      "Grow great of out my thy in music,\n",
      "Deep who is how would fire natures then,\n",
      "Tis that laws of have if as motion,\n",
      "It thy to canker of space thou should,\n",
      "Age when clock till heals high almost other,\n",
      "That unions lose summers on and errors better.\n",
      "Memory hue burning thy love hide thing thee,\n",
      "World once his which of i dye disdains.\n"
     ]
    }
   ],
   "source": [
    "generate_obs(hmm4, obs_map)"
   ]
  },
  {
   "cell_type": "code",
   "execution_count": 37,
   "metadata": {},
   "outputs": [
    {
     "name": "stdout",
     "output_type": "stream",
     "text": [
      "I of a nor me earth foison but,\n",
      "My as not time me should therefore grant,\n",
      "By choirs that care lines love to more,\n",
      "Hidden and truth the me and die to,\n",
      "Poets green shun the their trespass sweet great,\n",
      "Which purging i suggest my bad keeps patient,\n",
      "Outward charged is his but are now is,\n",
      "Thee what loves endless if a for th,\n",
      "Thoughts with checked love time canker and me,\n",
      "That it himself by child above teeth of,\n",
      "Might comments their loves form in rose hold,\n",
      "To i those beauty might spite of have.\n",
      "Doth his that thou but virtue say gives,\n",
      "Say stores for it of i besides hand.\n"
     ]
    }
   ],
   "source": [
    "generate_by_line(hmm4, obs_map)"
   ]
  },
  {
   "cell_type": "code",
   "execution_count": 9,
   "metadata": {},
   "outputs": [
    {
     "name": "stdout",
     "output_type": "stream",
     "text": [
      "Argument what deceivest past by judgement virtue take,\n",
      "Moods to and salve he dull despite temperate,\n",
      "In hours of poverty could for one jewels,\n",
      "And for new for due wife but me,\n",
      "All even may your when i neck whether,\n",
      "I bud this but time my o haply,\n",
      "On seeming thy i favourites acquainted guest do,\n",
      "Divine in black youth times his gates loves,\n",
      "As should it foes as night well wound,\n",
      "Ending hated but of true hard prove will,\n",
      "Black the poor losing miles thou this o,\n",
      "She grown their excuse of o chose care.\n",
      "With vex i with whose keep rank is,\n",
      "Of use thee and wounded the thee that.\n"
     ]
    }
   ],
   "source": [
    "generate_obs(hmm6, obs_map)"
   ]
  },
  {
   "cell_type": "code",
   "execution_count": 10,
   "metadata": {},
   "outputs": [
    {
     "name": "stdout",
     "output_type": "stream",
     "text": [
      "Thought heart it true will wilt my thy,\n",
      "Subscribes these did to mine new despite hath,\n",
      "Health rehearse eyes i be thy past to,\n",
      "Is spoils and hath whether bring wear to,\n",
      "This keep to can hath where doth trimmed,\n",
      "For tongue time dimmed thou the thee when,\n",
      "And hence love should me thy in being,\n",
      "False is that forsaken self but self all,\n",
      "How i know world and among when not,\n",
      "Look crow hell the crow times have the,\n",
      "Every still thou physic whom book long rite,\n",
      "Sauces like never your guest no as world.\n",
      "Thou not the and ills can to alone,\n",
      "She thee thee for dearest name to thee.\n"
     ]
    }
   ],
   "source": [
    "generate_by_line(hmm6, obs_map)"
   ]
  },
  {
   "cell_type": "code",
   "execution_count": 11,
   "metadata": {},
   "outputs": [
    {
     "name": "stdout",
     "output_type": "stream",
     "text": [
      "Brain audit seems my so this thy effect,\n",
      "Your die his he doth boast thou that,\n",
      "When selling conspire expressing mine my the my,\n",
      "Even the in thy so were usury my,\n",
      "Self their teachest boast receivst which rhymers even,\n",
      "Making on more use shop bright hearts well,\n",
      "Go one my alone yore most enough without,\n",
      "Thee course our of to in their to,\n",
      "Love free unless sin pale it am that,\n",
      "By me gracious making though then to will,\n",
      "It in against alter well weary from praise,\n",
      "Mayst but see hope eyes still this find.\n",
      "For though is as unfair with mar times,\n",
      "Never whence fair other thee i lives bold.\n"
     ]
    }
   ],
   "source": [
    "generate_obs(hmm8, obs_map)"
   ]
  },
  {
   "cell_type": "code",
   "execution_count": 12,
   "metadata": {},
   "outputs": [
    {
     "name": "stdout",
     "output_type": "stream",
     "text": [
      "Soon born a present wits and denied buried,\n",
      "Salving fearful man one say to to away,\n",
      "Watery doth then far can mourn hence since,\n",
      "Neglect at most i yet in better and,\n",
      "For divided new my by a subject my,\n",
      "Not constant how night universe in to i,\n",
      "Live self cheeks offices that haply this thus,\n",
      "Find when am king walks the sea which,\n",
      "On mine to move mend stand illwresting time,\n",
      "Under breast the treasure uncertain on have assured,\n",
      "Show prove all thee make own long that,\n",
      "Rhyme feeding strangle confessed do fresh a bounty.\n",
      "Stern loved all tis truly oerlook with thee,\n",
      "The as torment roses side fair my tired.\n"
     ]
    }
   ],
   "source": [
    "generate_by_line(hmm8, obs_map)"
   ]
  },
  {
   "cell_type": "code",
   "execution_count": 13,
   "metadata": {},
   "outputs": [
    {
     "name": "stdout",
     "output_type": "stream",
     "text": [
      "So i temptation decrees lose most grief me,\n",
      "That of minion was hope forgetful doth and,\n",
      "Three disdaineth this have bonds invention the no,\n",
      "Love when to come is so paws which,\n",
      "And ere with dear askance thee doth truth,\n",
      "Being it all lovers world i and even,\n",
      "Cures justify the love shalt false so he,\n",
      "Wilt husbands my love where debt or be,\n",
      "The shore grows more peace ever that thou,\n",
      "Even are thee his hide best please give,\n",
      "Thine of thy against no sight in thy,\n",
      "Breast annoy best minutes flowers make cheeks of.\n",
      "Of the heart place my silent manys your,\n",
      "Is love perfect foolish thou which seeking wandrest.\n"
     ]
    }
   ],
   "source": [
    "generate_obs(hmm12, obs_map)"
   ]
  },
  {
   "cell_type": "code",
   "execution_count": 14,
   "metadata": {},
   "outputs": [
    {
     "name": "stdout",
     "output_type": "stream",
     "text": [
      "Your traffic disgrace base all were hath not,\n",
      "Thou short adding their dear wires anger would,\n",
      "So thee those fashion than die had strive,\n",
      "Than subject laid unions the sweet are white,\n",
      "Yet niggard is my desire on fear end,\n",
      "What be all you i nothing should precious,\n",
      "Shame fears seen shown brief them some story,\n",
      "Constancy sad your holy believed when first beloved,\n",
      "Am heart thy of mightst inward their i,\n",
      "Let thine aid yet self to thy lusty,\n",
      "Thee striving be it virtue nor you true,\n",
      "I am sharp that gored to not stage.\n",
      "Not thought toil come simple speaking thou loving,\n",
      "Or look thee even live in my store.\n"
     ]
    }
   ],
   "source": [
    "generate_by_line(hmm12, obs_map)"
   ]
  },
  {
   "cell_type": "code",
   "execution_count": 29,
   "metadata": {
    "scrolled": true
   },
   "outputs": [
    {
     "data": {
      "image/png": "[encoded data removed]",
      "text/plain": [
       "<Figure size 432x288 with 1 Axes>"
      ]
     },
     "metadata": {},
     "output_type": "display_data"
    }
   ],
   "source": [
    "import nltk\n",
    "from wordcloud import WordCloud\n",
    "import matplotlib.pyplot as plt\n",
    "\n",
    "# do some basic visualizations \n",
    "wordcloud = WordCloud(max_words=100).generate(text)\n",
    "\n",
    "plt.imshow(wordcloud, interpolation='bilinear')\n",
    "plt.axis('off')\n",
    "plt.title('Most Frequently Used Words in Shakespearean Sonnets', fontsize=12)\n",
    "plt.savefig('figures/sonnet_wordcloud.png')"
   ]
  },
  {
   "cell_type": "code",
   "execution_count": null,
   "metadata": {},
   "outputs": [],
   "source": []
  }
 ],
 "metadata": {
  "kernelspec": {
   "display_name": "Python 3",
   "language": "python",
   "name": "python3"
  },
  "language_info": {
   "codemirror_mode": {
    "name": "ipython",
    "version": 3
   },
   "file_extension": ".py",
   "mimetype": "text/x-python",
   "name": "python",
   "nbconvert_exporter": "python",
   "pygments_lexer": "ipython3",
   "version": "3.6.5"
  }
 },
 "nbformat": 4,
 "nbformat_minor": 2
}
