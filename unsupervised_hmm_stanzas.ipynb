{
 "cells": [
  {
   "cell_type": "code",
   "execution_count": 1,
   "metadata": {},
   "outputs": [],
   "source": [
    "import os\n",
    "from ipynb.fs.full.preprocessing import parse_observations\n",
    "from HMM_soln import unsupervised_HMM"
   ]
  },
  {
   "cell_type": "code",
   "execution_count": 34,
   "metadata": {},
   "outputs": [],
   "source": [
    "def obs_map_reverser(obs_map):\n",
    "    obs_map_r = {}\n",
    "\n",
    "    for key in obs_map:\n",
    "        obs_map_r[obs_map[key]] = key\n",
    "\n",
    "    return obs_map_r\n",
    "\n",
    "def sample_sentence(hmm, obs_map, n_words=100):\n",
    "    # Get reverse map.\n",
    "    obs_map_r = obs_map_reverser(obs_map)\n",
    "\n",
    "    # Sample and convert sentence.\n",
    "    emission, states = hmm.generate_emission(n_words)\n",
    "    sentence = [obs_map_r[i] for i in emission]\n",
    "\n",
    "    return ' '.join(sentence).capitalize()\n",
    "\n",
    "def generate_obs(hmm, obs_map):\n",
    "    '''\n",
    "    Naively generates 14-line sonnet with 8 words each.\n",
    "    \n",
    "    Inputs:\n",
    "    hmm: trained hmm\n",
    "    obs_map: maps word to observation index\n",
    "    \n",
    "    Outputs:\n",
    "    None\n",
    "    '''\n",
    "    # generate all words in sonnet\n",
    "    all_words = sample_sentence(hmm, obs_map, 112)\n",
    "    all_words = all_words.split(' ')\n",
    "    \n",
    "    # split into 14 lines and add capitalization/naive punctuation\n",
    "    for i in range(14):\n",
    "        count = 0\n",
    "        line = ' '.join(all_words[i*8:(i+1)*8]).capitalize()\n",
    "        if i < 11 or i == 12:\n",
    "            line += ','\n",
    "        else:\n",
    "            line += '.'\n",
    "        print(line)\n",
    "\n",
    "def generate_by_line(hmm, obs_map):\n",
    "    for i in range(14):\n",
    "        line = sample_sentence(hmm, obs_map, 8)\n",
    "        if i < 11 or i == 12:\n",
    "            line += ','\n",
    "        else:\n",
    "            line += '.'\n",
    "        print(line)"
   ]
  },
  {
   "cell_type": "code",
   "execution_count": 3,
   "metadata": {},
   "outputs": [],
   "source": [
    "text = open(os.path.join(os.getcwd(), 'data/shakespeare.txt')).read()\n",
    "obs, obs_map = parse_observations(text)"
   ]
  },
  {
   "cell_type": "code",
   "execution_count": 4,
   "metadata": {},
   "outputs": [
    {
     "name": "stdout",
     "output_type": "stream",
     "text": [
      "Iteration: 10\n",
      "Iteration: 20\n",
      "Iteration: 30\n",
      "Iteration: 40\n",
      "Iteration: 50\n",
      "Iteration: 60\n",
      "Iteration: 70\n",
      "Iteration: 80\n",
      "Iteration: 90\n",
      "Iteration: 100\n"
     ]
    }
   ],
   "source": [
    "hmm2 = unsupervised_HMM(obs, 2, 100)"
   ]
  },
  {
   "cell_type": "code",
   "execution_count": 5,
   "metadata": {},
   "outputs": [
    {
     "name": "stdout",
     "output_type": "stream",
     "text": [
      "Iteration: 10\n",
      "Iteration: 20\n",
      "Iteration: 30\n",
      "Iteration: 40\n",
      "Iteration: 50\n",
      "Iteration: 60\n",
      "Iteration: 70\n",
      "Iteration: 80\n",
      "Iteration: 90\n",
      "Iteration: 100\n"
     ]
    }
   ],
   "source": [
    "hmm4 = unsupervised_HMM(obs, 4, 100)"
   ]
  },
  {
   "cell_type": "code",
   "execution_count": 6,
   "metadata": {},
   "outputs": [
    {
     "name": "stdout",
     "output_type": "stream",
     "text": [
      "Iteration: 10\n",
      "Iteration: 20\n",
      "Iteration: 30\n",
      "Iteration: 40\n",
      "Iteration: 50\n",
      "Iteration: 60\n",
      "Iteration: 70\n",
      "Iteration: 80\n",
      "Iteration: 90\n",
      "Iteration: 100\n"
     ]
    }
   ],
   "source": [
    "hmm6 = unsupervised_HMM(obs, 6, 100)"
   ]
  },
  {
   "cell_type": "code",
   "execution_count": 7,
   "metadata": {},
   "outputs": [
    {
     "name": "stdout",
     "output_type": "stream",
     "text": [
      "Iteration: 10\n",
      "Iteration: 20\n",
      "Iteration: 30\n",
      "Iteration: 40\n",
      "Iteration: 50\n",
      "Iteration: 60\n",
      "Iteration: 70\n",
      "Iteration: 80\n",
      "Iteration: 90\n",
      "Iteration: 100\n"
     ]
    }
   ],
   "source": [
    "hmm8 = unsupervised_HMM(obs, 8, 100)"
   ]
  },
  {
   "cell_type": "code",
   "execution_count": 8,
   "metadata": {},
   "outputs": [
    {
     "name": "stdout",
     "output_type": "stream",
     "text": [
      "Iteration: 10\n",
      "Iteration: 20\n",
      "Iteration: 30\n",
      "Iteration: 40\n",
      "Iteration: 50\n",
      "Iteration: 60\n",
      "Iteration: 70\n",
      "Iteration: 80\n",
      "Iteration: 90\n",
      "Iteration: 100\n"
     ]
    }
   ],
   "source": [
    "hmm12 = unsupervised_HMM(obs, 12, 100)"
   ]
  },
  {
   "cell_type": "code",
   "execution_count": 29,
   "metadata": {},
   "outputs": [
    {
     "name": "stdout",
     "output_type": "stream",
     "text": [
      "Copy respose beautys about by husband unbred away,\n",
      "You which this a are as making thousand,\n",
      "Change or tribes compare thee like blood worth,\n",
      "Being i that of tenure fair thy white,\n",
      "Of in like spheres that thee thereby his,\n",
      "From as subdued should if in tattered tibey,\n",
      "One the a thou will as times eyes,\n",
      "Tallies him wrong pebbled and thee robbery my,\n",
      "Then they remembrance simple thy and swift the,\n",
      "This which o rich your wing else from,\n",
      "Help are which your these they beautys they,\n",
      "Sick which die untrue a verse thou press.\n",
      "Love fairer beauty thou their my where ten,\n",
      "Such comfort i sigh that love or you.\n"
     ]
    }
   ],
   "source": [
    "# in naive implementation, simply generate 14-line sonnet without enforcing rhyme/meter, etc.\n",
    "generate_obs(hmm2, obs_map)"
   ]
  },
  {
   "cell_type": "code",
   "execution_count": 35,
   "metadata": {},
   "outputs": [
    {
     "name": "stdout",
     "output_type": "stream",
     "text": [
      "Restore i and for shape thee cause so,\n",
      "The gave hung me o which of active,\n",
      "They are careful senses each doth thou th,\n",
      "Grace gaze use services least charge of been,\n",
      "My i now will thus and art born,\n",
      "Much be you so but be out self,\n",
      "Feast worthy state there store winter not the,\n",
      "Writ muse swear sweet than is never and,\n",
      "Surmount minds thee mayst and worth memory tell,\n",
      "By watch thy have o climbed sorrow child,\n",
      "State servants moon do for than wronk so,\n",
      "Sweet these is you not some whoever hence.\n",
      "Back let mine being but of and the,\n",
      "Which fresher one to the art fair laid.\n"
     ]
    }
   ],
   "source": [
    "generate_by_line(hmm2, obs_map)"
   ]
  },
  {
   "cell_type": "code",
   "execution_count": 30,
   "metadata": {},
   "outputs": [
    {
     "name": "stdout",
     "output_type": "stream",
     "text": [
      "The carcanet one on my the within faults,\n",
      "Thou and buds like thee my thy which,\n",
      "Than tongue in thing and but no my,\n",
      "That so with stand a for their you,\n",
      "Me that face call heart faults lines the,\n",
      "Thence in abysm so from past my eye,\n",
      "Grow great of out my thy in music,\n",
      "Deep who is how would fire natures then,\n",
      "Tis that laws of have if as motion,\n",
      "It thy to canker of space thou should,\n",
      "Age when clock till heals high almost other,\n",
      "That unions lose summers on and errors better.\n",
      "Memory hue burning thy love hide thing thee,\n",
      "World once his which of i dye disdains.\n"
     ]
    }
   ],
   "source": [
    "generate_obs(hmm4, obs_map)"
   ]
  },
  {
   "cell_type": "code",
   "execution_count": 37,
   "metadata": {},
   "outputs": [
    {
     "name": "stdout",
     "output_type": "stream",
     "text": [
      "I of a nor me earth foison but,\n",
      "My as not time me should therefore grant,\n",
      "By choirs that care lines love to more,\n",
      "Hidden and truth the me and die to,\n",
      "Poets green shun the their trespass sweet great,\n",
      "Which purging i suggest my bad keeps patient,\n",
      "Outward charged is his but are now is,\n",
      "Thee what loves endless if a for th,\n",
      "Thoughts with checked love time canker and me,\n",
      "That it himself by child above teeth of,\n",
      "Might comments their loves form in rose hold,\n",
      "To i those beauty might spite of have.\n",
      "Doth his that thou but virtue say gives,\n",
      "Say stores for it of i besides hand.\n"
     ]
    }
   ],
   "source": [
    "generate_by_line(hmm4, obs_map)"
   ]
  },
  {
   "cell_type": "code",
   "execution_count": 31,
   "metadata": {},
   "outputs": [
    {
     "name": "stdout",
     "output_type": "stream",
     "text": [
      "To make true should yet quenched all a,\n",
      "Like will no bring and with i bright,\n",
      "I if i pass of physician assailed the,\n",
      "Servant and things beauty but verse more swartcomplexioned,\n",
      "Hath by my slow dearth let sweet faculty,\n",
      "To be to the ill hand subject from,\n",
      "Words on seemed thou thou against that backward,\n",
      "Against mud tongue is this sensual hasten from,\n",
      "May with an foregone that whose i dearly,\n",
      "Oaths so love in youths of with mine,\n",
      "Beautys voices thee pity good again come correction,\n",
      "If in you in my chary of proved.\n",
      "Me sight mine are goest you wonder if,\n",
      "With assistance the eyes i know not eyes.\n"
     ]
    }
   ],
   "source": [
    "generate_obs(hmm6, obs_map)"
   ]
  },
  {
   "cell_type": "code",
   "execution_count": 38,
   "metadata": {},
   "outputs": [
    {
     "name": "stdout",
     "output_type": "stream",
     "text": [
      "Do beauteous your life be been in a,\n",
      "Three space and and beauty and takes i,\n",
      "Say as absence finger doth should beard your,\n",
      "I fast art a slanderers and your heard,\n",
      "Fair in illused thought will this great where,\n",
      "To pleasure think make unhappily hold so seeing,\n",
      "Profit my truth commence then in thou o,\n",
      "Ills might stand thou though must is me,\n",
      "Past you more errors wet my scorn had,\n",
      "My every ground fair within love you tell,\n",
      "Though but clear be water with in sweet,\n",
      "Mine thought she for thy gentle side have.\n",
      "Of my by self should thou keeps her,\n",
      "Left made and days within you without that.\n"
     ]
    }
   ],
   "source": [
    "generate_by_line(hmm6, obs_map)"
   ]
  },
  {
   "cell_type": "code",
   "execution_count": 41,
   "metadata": {},
   "outputs": [
    {
     "name": "stdout",
     "output_type": "stream",
     "text": [
      "Take ransoms what blanks all now eyes i,\n",
      "All my beauty join to his eyes they,\n",
      "That just brain i is not is you,\n",
      "Most neglect is retention when worse this that,\n",
      "To youth bonds my on to sable in,\n",
      "Thou to win too and to humble to,\n",
      "Art thou thy tomorrow behold therefore shouldst his,\n",
      "Level this since thy whilst mountain your stain,\n",
      "Endless soil my love of worlds must victors,\n",
      "Untold thy hanging he grew beauty when many,\n",
      "In hate to when jade dispraise my heart,\n",
      "And of of love desiring cannot fire making.\n",
      "Pen boldness humble by in the true worst,\n",
      "My time fairest save far be yet this.\n"
     ]
    }
   ],
   "source": [
    "generate_obs(hmm8, obs_map)"
   ]
  },
  {
   "cell_type": "code",
   "execution_count": 39,
   "metadata": {},
   "outputs": [
    {
     "name": "stdout",
     "output_type": "stream",
     "text": [
      "Interest of beauteous nor pays it how her,\n",
      "Muse enjoy sauces so a hath shalt i,\n",
      "And loving and my patent days wherethrough thou,\n",
      "What thy wits thy eternal stained and i,\n",
      "Our sight times mistress no hide a they,\n",
      "I longer nor store be manners doth my,\n",
      "Being my without pleasure where had with against,\n",
      "Prove me of speak in what mansion break,\n",
      "By all my soul false day a gentle,\n",
      "Him more i faster i unless thou example,\n",
      "Doth having divine she against despise thee could,\n",
      "And might your on commit to into my.\n",
      "Mountain calls from overturn sunk fair plants daily,\n",
      "In with cupid the hill many for which.\n"
     ]
    }
   ],
   "source": [
    "generate_by_line(hmm8, obs_map)"
   ]
  },
  {
   "cell_type": "code",
   "execution_count": 42,
   "metadata": {},
   "outputs": [
    {
     "name": "stdout",
     "output_type": "stream",
     "text": [
      "Wrong in my glory go me same when,\n",
      "Bad abysm loves tonguetied with not knows sad,\n",
      "Lies dear to the show her live thy,\n",
      "Odour gives writers appetite those skill fire in,\n",
      "Nothing great flowers in such painted have eye,\n",
      "Long uprear this engrafted dead your touches his,\n",
      "Nourished no with gone is matter shall i,\n",
      "Where spent have this nor for and youth,\n",
      "But lie yet in my to many love,\n",
      "I would if odours base this desire idle,\n",
      "Lights rights o field love live were thy,\n",
      "Wiry of thou despise or i if i.\n",
      "Cannot age when you hear sleep grew no,\n",
      "Hold losing heavy within delayed all to a.\n"
     ]
    }
   ],
   "source": [
    "generate_obs(hmm12, obs_map)"
   ]
  },
  {
   "cell_type": "code",
   "execution_count": 40,
   "metadata": {},
   "outputs": [
    {
     "name": "stdout",
     "output_type": "stream",
     "text": [
      "Complain thing now doting if thy heart state,\n",
      "I o he an loves upon my receivst,\n",
      "Thy shall up the self come false they,\n",
      "We excuse reeleth of presents mind wit embassage,\n",
      "Me therefore doth strange now deaths riot being,\n",
      "Let she twain where just face picture be,\n",
      "Canopy delivered night muse gain wilt womens sweetness,\n",
      "Rosy love doom but i when so death,\n",
      "Shall like define with thee of the most,\n",
      "At again april a lasting thus it cut,\n",
      "If seen follow my heart maketh this windows,\n",
      "Then right his if under we stronger on.\n",
      "Vanished beauty roses hate little as nor is,\n",
      "Lies else no my it shines forth thee.\n"
     ]
    }
   ],
   "source": [
    "generate_by_line(hmm12, obs_map)"
   ]
  }
 ],
 "metadata": {
  "kernelspec": {
   "display_name": "Python 3",
   "language": "python",
   "name": "python3"
  },
  "language_info": {
   "codemirror_mode": {
    "name": "ipython",
    "version": 3
   },
   "file_extension": ".py",
   "mimetype": "text/x-python",
   "name": "python",
   "nbconvert_exporter": "python",
   "pygments_lexer": "ipython3",
   "version": "3.6.5"
  }
 },
 "nbformat": 4,
 "nbformat_minor": 2
}
