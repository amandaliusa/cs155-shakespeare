{
 "cells": [
  {
   "cell_type": "code",
   "execution_count": 1,
   "metadata": {},
   "outputs": [
    {
     "name": "stderr",
     "output_type": "stream",
     "text": [
      "C:\\Users\\amanda\\Anaconda\\lib\\site-packages\\h5py\\__init__.py:36: FutureWarning: Conversion of the second argument of issubdtype from `float` to `np.floating` is deprecated. In future, it will be treated as `np.float64 == np.dtype(float).type`.\n",
      "  from ._conv import register_converters as _register_converters\n",
      "Using TensorFlow backend.\n",
      "C:\\Users\\amanda\\AppData\\Roaming\\Python\\Python36\\site-packages\\tensorflow\\python\\framework\\dtypes.py:523: FutureWarning: Passing (type, 1) or '1type' as a synonym of type is deprecated; in a future version of numpy, it will be understood as (type, (1,)) / '(1,)type'.\n",
      "  _np_qint8 = np.dtype([(\"qint8\", np.int8, 1)])\n",
      "C:\\Users\\amanda\\AppData\\Roaming\\Python\\Python36\\site-packages\\tensorflow\\python\\framework\\dtypes.py:524: FutureWarning: Passing (type, 1) or '1type' as a synonym of type is deprecated; in a future version of numpy, it will be understood as (type, (1,)) / '(1,)type'.\n",
      "  _np_quint8 = np.dtype([(\"quint8\", np.uint8, 1)])\n",
      "C:\\Users\\amanda\\AppData\\Roaming\\Python\\Python36\\site-packages\\tensorflow\\python\\framework\\dtypes.py:525: FutureWarning: Passing (type, 1) or '1type' as a synonym of type is deprecated; in a future version of numpy, it will be understood as (type, (1,)) / '(1,)type'.\n",
      "  _np_qint16 = np.dtype([(\"qint16\", np.int16, 1)])\n",
      "C:\\Users\\amanda\\AppData\\Roaming\\Python\\Python36\\site-packages\\tensorflow\\python\\framework\\dtypes.py:526: FutureWarning: Passing (type, 1) or '1type' as a synonym of type is deprecated; in a future version of numpy, it will be understood as (type, (1,)) / '(1,)type'.\n",
      "  _np_quint16 = np.dtype([(\"quint16\", np.uint16, 1)])\n",
      "C:\\Users\\amanda\\AppData\\Roaming\\Python\\Python36\\site-packages\\tensorflow\\python\\framework\\dtypes.py:527: FutureWarning: Passing (type, 1) or '1type' as a synonym of type is deprecated; in a future version of numpy, it will be understood as (type, (1,)) / '(1,)type'.\n",
      "  _np_qint32 = np.dtype([(\"qint32\", np.int32, 1)])\n",
      "C:\\Users\\amanda\\AppData\\Roaming\\Python\\Python36\\site-packages\\tensorflow\\python\\framework\\dtypes.py:532: FutureWarning: Passing (type, 1) or '1type' as a synonym of type is deprecated; in a future version of numpy, it will be understood as (type, (1,)) / '(1,)type'.\n",
      "  np_resource = np.dtype([(\"resource\", np.ubyte, 1)])\n"
     ]
    }
   ],
   "source": [
    "import numpy as np\n",
    "import os\n",
    "import re\n",
    "import sys\n",
    "\n",
    "from keras.models import Sequential\n",
    "from keras.layers import Dense, Dropout, LSTM\n",
    "from keras.callbacks import ModelCheckpoint\n",
    "from keras.utils import np_utils"
   ]
  },
  {
   "cell_type": "code",
   "execution_count": 11,
   "metadata": {},
   "outputs": [],
   "source": [
    "def sample(preds, temp=1.0):\n",
    "    '''\n",
    "    Helper function for sampling from softmax with different temperatures.\n",
    "    \n",
    "    Inputs:\n",
    "    preds: output of softmax function\n",
    "    temp: temperature to scale by\n",
    "    '''\n",
    "    preds = np.asarray(preds).astype('float64')\n",
    "    preds = np.log(preds) / temp\n",
    "    exp_preds = np.exp(preds)\n",
    "    preds = exp_preds / np.sum(exp_preds)\n",
    "    probas = np.random.multinomial(1, preds, 1)\n",
    "    \n",
    "    return np.argmax(probas)"
   ]
  },
  {
   "cell_type": "code",
   "execution_count": 2,
   "metadata": {},
   "outputs": [],
   "source": [
    "# load data\n",
    "text = open(os.path.join(os.getcwd(), 'data/shakespeare.txt')).read()\n",
    "    \n",
    "# remove sonnet numbers and convert to lowercase\n",
    "text = re.sub(r'[0-9]+', '', text) \n",
    "text = text.lower()\n",
    "\n",
    "# create mapping of unique chars to integers as well as reverse mapping\n",
    "chars = sorted(list(set(text)))\n",
    "char_to_int = dict((c, i) for i, c in enumerate(chars))\n",
    "int_to_char = dict((i, c) for i, c in enumerate(chars))\n",
    "\n",
    "n_chars = len(text) # total length of dataset\n",
    "n_vocab = len(chars) # number of unique characters"
   ]
  },
  {
   "cell_type": "code",
   "execution_count": 3,
   "metadata": {},
   "outputs": [],
   "source": [
    "# prepare the dataset of input to output pairs encoded as integers\n",
    "seq_length = 40\n",
    "dataX = []\n",
    "dataY = []\n",
    "\n",
    "# use sliding window approach\n",
    "for i in range(0, n_chars - seq_length, 1):\n",
    "    seq_in = text[i:i + seq_length]\n",
    "    seq_out = text[i + seq_length]\n",
    "    dataX.append([char_to_int[char] for char in seq_in])\n",
    "    dataY.append(char_to_int[seq_out])\n",
    "    \n",
    "n_sequences = len(dataX)"
   ]
  },
  {
   "cell_type": "code",
   "execution_count": 5,
   "metadata": {},
   "outputs": [],
   "source": [
    "# reshape X to be [samples, time steps, features]\n",
    "X = np.reshape(dataX, (n_sequences, seq_length, 1))\n",
    "\n",
    "# normalize data to range (0, 1)\n",
    "X = X / float(n_vocab)\n",
    "\n",
    "# one hot encode the output variable\n",
    "y = np_utils.to_categorical(dataY)"
   ]
  },
  {
   "cell_type": "code",
   "execution_count": 13,
   "metadata": {},
   "outputs": [],
   "source": [
    "# define the LSTM model \n",
    "# (single layer with 150 units, followed by dense output layer)\n",
    "model = Sequential()\n",
    "model.add(LSTM(150, input_shape=(X.shape[1], X.shape[2])))\n",
    "model.add(Dropout(0.2))\n",
    "model.add(Dense(y.shape[1], activation='softmax'))"
   ]
  },
  {
   "cell_type": "code",
   "execution_count": 39,
   "metadata": {},
   "outputs": [],
   "source": [
    "# load the network weights from best checkpoint\n",
    "#filename = \"weights-improvement-20-1.7396.hdf5\"\n",
    "filename = \"weights-improvement-200-1.5456.hdf5\"\n",
    "model.load_weights(filename)\n",
    "model.compile(loss='categorical_crossentropy', optimizer='adam')"
   ]
  },
  {
   "cell_type": "code",
   "execution_count": 40,
   "metadata": {},
   "outputs": [
    {
     "name": "stdout",
     "output_type": "stream",
     "text": [
      "Temperature 0.01\n",
      "the caart on thm hueroe th thee and phmt,\n",
      "  and that inrr nem, and teengs ceanty soee soerer been,\n",
      "and siat mo then as all the poocnn or thee,\n",
      "and tou ar inemn hnd torhennt dn mesere,\n",
      "whth thou aot colng of have "
     ]
    },
    {
     "name": "stderr",
     "output_type": "stream",
     "text": [
      "C:\\Users\\amanda\\Anaconda\\lib\\site-packages\\ipykernel_launcher.py:10: RuntimeWarning: divide by zero encountered in log\n",
      "  # Remove the CWD from sys.path while we load stuff.\n"
     ]
    },
    {
     "name": "stdout",
     "output_type": "stream",
     "text": [
      "whoc thrn siee aale,\n",
      "then bar bothiu the welle ald thoue to the hasd,\n",
      "and to the were mrre sors and coannee ierd\n",
      "the sime to tio sureng so mo soea innn thee,\n",
      "then my leve love thet so ayea torlnned to thee aeante\n",
      "thee that thou soallest mnte ind that hes seart,\n",
      "and then fore caar somve, form th mhe sine,\n",
      "oo souedg that wouth sou andt boank oo haar,\n",
      "wht whin thou tilf uouu will tirern cote\n",
      "to no gos sean the horrent of titr minesness nent,\n",
      "\n",
      "Temperature 0.1\n",
      "a aoine and tith the worth tfy sraet-it kins,\n",
      "thou that wour soale and thei ho the somnn tir,\n",
      "\n",
      "                    \n",
      "now move iod merer thin what i would thant,\n",
      "then mo the sire oo layer sh thee a croe,\n",
      "  the danler thee inre leay n yiild io thnngh\n",
      "then in the were mo dooe that hot teen soond,\n",
      "then thou aesert that thet thou dast iove,\n",
      "bnd thenefore say mo soue mn haaven thene,\n",
      "but then fere caar semdsee oonhun oo hes,\n",
      "and fo thi ala thiu siltt spoue thee s me,\n",
      "  th thel io thee, and tht dorp haar toen,\n",
      "  th the sweer atasled oane of thnt ares,\n",
      "\n",
      "Temperature 0.25\n",
      "aot tuaet toms cedu in mot copmert deart,\n",
      "which hnate io oheroin thet fo iot shen art ore,\n",
      "fn thou thy fenr anl thoughts drte tn lrohr,\n",
      "and sinhld hr met rh ther well seee,\n",
      "tout ofe eerpered wour fo hot my segf thes sae)\n",
      "whe hand aotoqle theek an ioo the hese,\n",
      "that in the bre on merfrr salse th theve\n",
      "whes pand canertene the wrrrh of laver srire,\n",
      "and drrm thes sone mn hanr my poogus,s saart,\n",
      "then tort deste aalent of thy heart s erese\n",
      "wherein thou art, when thou a sona fore cenee,\n",
      "and srurhgt spatt nemer of thy deauty's sems,\n",
      "and hare mo faart by shie though suct thy segf wour sem.\n",
      "  thin thnl do thi toine and then thar love.\n",
      "\n",
      "Temperature 0.75\n",
      " \n",
      "yhtc frumt if thee, io geart oo teys reyeet,\n",
      "aud fir i taal then favkh on hoaroeds \n",
      "tonu bealt oo flokor mt haart' toomeis the trindte lf,\n",
      "bid an ies sererce oo mooyins sene siee,\n",
      "thou ha miheeene hggses't easler tirl hay,\n",
      "thtu mhses soogl mu tooehas naary,i deart,\n",
      "so nr the semnnar yhene thou drtt baae (ris,\n",
      "  fnd fl these ara not sooid then soes note thsugst,\n",
      "ant ouruang tim fomtec and whit gotert b yaire\n",
      "an i bowh selvesg ov touso anumued fers,\n",
      "  thenc iivene lavs o tu,nn, ayt ay the criys\n",
      "anehhdi,tt thr petuue iorhth oiter licd\n",
      "shay tfe oo meferre aud withomed\n",
      "\n",
      "Temperature 1.5\n",
      "toay,rohestiog wreehes qhwnaitenl treil., onrd:\n",
      "bneilto theh siessh inw sa'kns peigtt,rs piwgg\n",
      "tu ne:i ier eweigcaihy hose fudnias gaari:\n",
      "tei soebednht tt bysm fonasy ehshbsec musnt\n",
      "my pwaslhs bl ti facv woonk,siy' oelvtsg\n",
      "why samone,s cri aooeht:\n",
      "uep ligjt liry woutecs,ctcrpetatot,sldet,\n",
      "taip inteitg regfs of ween so cihsgerse\n",
      "dyun seei,blwmt hnmlw,\n",
      "rhtulr shtu gese wnnl funnhn ow hutenr,\n",
      "pieitdsa tfet hiwkr st jinsci sefruss pinnl;\n",
      "thino pwnttid wraem yhoh nonkse(etttno ou htren,\n",
      "hlewuhen ceshitee, and iy lyggso earm iht dtnlda\n",
      "( thereior thy bavser, ealne beatten iep juoid\n",
      "\n"
     ]
    }
   ],
   "source": [
    "# set seed for emissions\n",
    "seed = \"shall i compare thee to a summer's day?\\n\"\n",
    "seed_to_int = [char_to_int[char] for char in seed]\n",
    "\n",
    "# generate emissions\n",
    "pattern = seed_to_int\n",
    "\n",
    "temps = [0.01, 0.1, 0.25, 0.75, 1.5]    \n",
    "for temp in temps:    \n",
    "    print('Temperature', temp)\n",
    "    \n",
    "    # generate characters\n",
    "    newlines = 0\n",
    "    while newlines < 14:\n",
    "        x = np.reshape(pattern, (1, len(pattern), 1))\n",
    "        x = x / float(n_vocab)\n",
    "        prediction = model.predict(x, verbose=0)[0]\n",
    "\n",
    "        # sample according to temperature\n",
    "        idx = sample(prediction, temp)\n",
    "\n",
    "        result = int_to_char[idx]\n",
    "        pattern.append(idx)\n",
    "        pattern = pattern[1:len(pattern)]\n",
    "        \n",
    "        if result == '\\n':\n",
    "            newlines += 1\n",
    "        \n",
    "        # output result \n",
    "        sys.stdout.write(result)\n",
    "        sys.stdout.flush()\n",
    "    print()"
   ]
  }
 ],
 "metadata": {
  "kernelspec": {
   "display_name": "Python 3",
   "language": "python",
   "name": "python3"
  },
  "language_info": {
   "codemirror_mode": {
    "name": "ipython",
    "version": 3
   },
   "file_extension": ".py",
   "mimetype": "text/x-python",
   "name": "python",
   "nbconvert_exporter": "python",
   "pygments_lexer": "ipython3",
   "version": "3.6.5"
  }
 },
 "nbformat": 4,
 "nbformat_minor": 4
}
