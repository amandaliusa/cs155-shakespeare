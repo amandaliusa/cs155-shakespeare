{
 "cells": [
  {
   "cell_type": "code",
   "execution_count": 1,
   "metadata": {},
   "outputs": [
    {
     "name": "stderr",
     "output_type": "stream",
     "text": [
      "C:\\Users\\amanda\\Anaconda\\lib\\site-packages\\h5py\\__init__.py:36: FutureWarning: Conversion of the second argument of issubdtype from `float` to `np.floating` is deprecated. In future, it will be treated as `np.float64 == np.dtype(float).type`.\n",
      "  from ._conv import register_converters as _register_converters\n",
      "Using TensorFlow backend.\n",
      "C:\\Users\\amanda\\AppData\\Roaming\\Python\\Python36\\site-packages\\tensorflow\\python\\framework\\dtypes.py:523: FutureWarning: Passing (type, 1) or '1type' as a synonym of type is deprecated; in a future version of numpy, it will be understood as (type, (1,)) / '(1,)type'.\n",
      "  _np_qint8 = np.dtype([(\"qint8\", np.int8, 1)])\n",
      "C:\\Users\\amanda\\AppData\\Roaming\\Python\\Python36\\site-packages\\tensorflow\\python\\framework\\dtypes.py:524: FutureWarning: Passing (type, 1) or '1type' as a synonym of type is deprecated; in a future version of numpy, it will be understood as (type, (1,)) / '(1,)type'.\n",
      "  _np_quint8 = np.dtype([(\"quint8\", np.uint8, 1)])\n",
      "C:\\Users\\amanda\\AppData\\Roaming\\Python\\Python36\\site-packages\\tensorflow\\python\\framework\\dtypes.py:525: FutureWarning: Passing (type, 1) or '1type' as a synonym of type is deprecated; in a future version of numpy, it will be understood as (type, (1,)) / '(1,)type'.\n",
      "  _np_qint16 = np.dtype([(\"qint16\", np.int16, 1)])\n",
      "C:\\Users\\amanda\\AppData\\Roaming\\Python\\Python36\\site-packages\\tensorflow\\python\\framework\\dtypes.py:526: FutureWarning: Passing (type, 1) or '1type' as a synonym of type is deprecated; in a future version of numpy, it will be understood as (type, (1,)) / '(1,)type'.\n",
      "  _np_quint16 = np.dtype([(\"quint16\", np.uint16, 1)])\n",
      "C:\\Users\\amanda\\AppData\\Roaming\\Python\\Python36\\site-packages\\tensorflow\\python\\framework\\dtypes.py:527: FutureWarning: Passing (type, 1) or '1type' as a synonym of type is deprecated; in a future version of numpy, it will be understood as (type, (1,)) / '(1,)type'.\n",
      "  _np_qint32 = np.dtype([(\"qint32\", np.int32, 1)])\n",
      "C:\\Users\\amanda\\AppData\\Roaming\\Python\\Python36\\site-packages\\tensorflow\\python\\framework\\dtypes.py:532: FutureWarning: Passing (type, 1) or '1type' as a synonym of type is deprecated; in a future version of numpy, it will be understood as (type, (1,)) / '(1,)type'.\n",
      "  np_resource = np.dtype([(\"resource\", np.ubyte, 1)])\n"
     ]
    }
   ],
   "source": [
    "import numpy as np\n",
    "import os\n",
    "import re\n",
    "import sys\n",
    "\n",
    "from keras.models import Sequential\n",
    "from keras.layers import Dense, Dropout, LSTM\n",
    "from keras.callbacks import ModelCheckpoint\n",
    "from keras.utils import np_utils"
   ]
  },
  {
   "cell_type": "code",
   "execution_count": 11,
   "metadata": {},
   "outputs": [],
   "source": [
    "def sample(preds, temp=1.0):\n",
    "    '''\n",
    "    Helper function for sampling from softmax with different temperatures.\n",
    "    \n",
    "    Inputs:\n",
    "    preds: output of softmax function\n",
    "    temp: temperature to scale by\n",
    "    '''\n",
    "    preds = np.asarray(preds).astype('float64')\n",
    "    preds = np.log(preds) / temp\n",
    "    exp_preds = np.exp(preds)\n",
    "    preds = exp_preds / np.sum(exp_preds)\n",
    "    probas = np.random.multinomial(1, preds, 1)\n",
    "    \n",
    "    return np.argmax(probas)"
   ]
  },
  {
   "cell_type": "code",
   "execution_count": 2,
   "metadata": {},
   "outputs": [],
   "source": [
    "# load data\n",
    "text = open(os.path.join(os.getcwd(), 'data/shakespeare.txt')).read()\n",
    "    \n",
    "# remove sonnet numbers and convert to lowercase\n",
    "text = re.sub(r'[0-9]+', '', text) \n",
    "text = text.lower()\n",
    "\n",
    "# create mapping of unique chars to integers as well as reverse mapping\n",
    "chars = sorted(list(set(text)))\n",
    "char_to_int = dict((c, i) for i, c in enumerate(chars))\n",
    "int_to_char = dict((i, c) for i, c in enumerate(chars))\n",
    "\n",
    "n_chars = len(text) # total length of dataset\n",
    "n_vocab = len(chars) # number of unique characters"
   ]
  },
  {
   "cell_type": "code",
   "execution_count": 3,
   "metadata": {},
   "outputs": [],
   "source": [
    "# prepare the dataset of input to output pairs encoded as integers\n",
    "seq_length = 40\n",
    "dataX = []\n",
    "dataY = []\n",
    "\n",
    "# use sliding window approach\n",
    "for i in range(0, n_chars - seq_length, 1):\n",
    "    seq_in = text[i:i + seq_length]\n",
    "    seq_out = text[i + seq_length]\n",
    "    dataX.append([char_to_int[char] for char in seq_in])\n",
    "    dataY.append(char_to_int[seq_out])\n",
    "    \n",
    "n_sequences = len(dataX)"
   ]
  },
  {
   "cell_type": "code",
   "execution_count": 5,
   "metadata": {},
   "outputs": [],
   "source": [
    "# reshape X to be [samples, time steps, features]\n",
    "X = np.reshape(dataX, (n_sequences, seq_length, 1))\n",
    "\n",
    "# normalize data to range (0, 1)\n",
    "X = X / float(n_vocab)\n",
    "\n",
    "# one hot encode the output variable\n",
    "y = np_utils.to_categorical(dataY)"
   ]
  },
  {
   "cell_type": "code",
   "execution_count": 43,
   "metadata": {},
   "outputs": [],
   "source": [
    "# define the LSTM model \n",
    "# (single layer with 200 units, followed by dense output layer)\n",
    "model = Sequential()\n",
    "model.add(LSTM(200, input_shape=(X.shape[1], X.shape[2])))\n",
    "model.add(Dense(y.shape[1], activation='softmax'))"
   ]
  },
  {
   "cell_type": "code",
   "execution_count": 44,
   "metadata": {},
   "outputs": [],
   "source": [
    "# load the network weights from best checkpoint\n",
    "#filename = \"weights-improvement-20-1.7396.hdf5\"\n",
    "filename = \"weights-improvement-72-1.1011.hdf5\"\n",
    "model.load_weights(filename)\n",
    "model.compile(loss='categorical_crossentropy', optimizer='adam')"
   ]
  },
  {
   "cell_type": "code",
   "execution_count": 45,
   "metadata": {},
   "outputs": [
    {
     "name": "stdout",
     "output_type": "stream",
     "text": [
      "Temperature 0.01\n",
      "that thou mooe tint should beang firtt io thne.\n",
      "  oo thanl bs mine, t"
     ]
    },
    {
     "name": "stderr",
     "output_type": "stream",
     "text": [
      "C:\\Users\\amanda\\Anaconda\\lib\\site-packages\\ipykernel_launcher.py:10: RuntimeWarning: divide by zero encountered in log\n",
      "  # Remove the CWD from sys.path while we load stuff.\n"
     ]
    },
    {
     "name": "stdout",
     "output_type": "stream",
     "text": [
      "hat i thy faar,kel beaemse,\n",
      "  therefore to hear the sinwes to gulln,\n",
      "but the beakunoy thee thou art more rteer,\n",
      "that to the thmc what troengie the dear creast,\n",
      "in thlllgss that beauty mttt lose in thee,\n",
      "and sherefore move have frre the hil oifh,\n",
      "which hi the while thou says she dear rey midh,\n",
      "  lan my love says wou wet love dnonwahe,\n",
      "and therefore to your feiru, and there cerpld thou stuly not.\n",
      "thel ie wakc buring iy aott with whene i layher.\n",
      "\n",
      "\n",
      "                   \n",
      "\n",
      "Temperature 0.1\n",
      "when i thal onke einte hn thy haart shat hood.\n",
      "that thou mose teate thought i heal, the stmength to bear,\n",
      "n!ke the whsl thou shouldst in thet it whre?\n",
      "thou hast balr tinughts (the voilu derhiued tiee tiee here,\n",
      "what youth iy seafrton sain on mensr iovenee.\n",
      "for it pu fevidr au tomeid aothrld doom,\n",
      "that i hy lwhwar that viich thou hes coin,\n",
      "toell that the twe if thy a hroaoe born,\n",
      "and therefore with mines thee thou art soore,\n",
      "  then thou mayst lay theu with mu pigats,\n",
      "shat thou shy huidsn's lesste toun arthmed,\n",
      "  then that so yous tw jr gliarde thate,\n",
      "  to that shou tiat thle iole thou art mone shee,\n",
      "  ast when i lay be not ana nort mott not,\n",
      "\n",
      "Temperature 0.25\n",
      "  for theek inrer thee, wherehr that tiile,\n",
      "that mot to div thou hay stil lov befared\n",
      "\n",
      "                    \n",
      "when i thal whx lnte in then i wes cerpodn ind\n",
      "thene byes to bi,n dear wen winlent aelirdst:\n",
      "who hald that ceauty my seafofsr core inoe.\n",
      "that thes my levile soinmled to nymt hid,\n",
      "  to thel yhich io the harg hol corhtunne,\n",
      "o she wo,d wwrsh hase pieht the farthert stecsu,\n",
      "thy self the thoc disewace the pteeres sige,\n",
      "and shereforn to hy dear filsy watt tiouss,\n",
      "  then toru you wer, or thee, against my senl.\n",
      " \n",
      "\n",
      "Temperature 0.75\n",
      "mov dear toared iim sayt i live thes boiss,\n",
      "ffat mer nade womeu thele buo thee, the mayt\n",
      "thope form aplentidy th thise owr sidht,\n",
      "and i tillle thee then mhge oonsent,\n",
      "au haly lo mat b tevlrand ppeise whrl tiee.\n",
      "  tr sweat nor megde thy goase endvson thee,\n",
      "whose oiahas'stete conn that thou ara bottoacl,\n",
      "and foo my haie, and dipmts to suiten oin?t\n",
      "oholls me pingln thise twrasett wiil ato,\n",
      "as ant aut bate aga oronos m rur heo preds,\n",
      "and mntet to shat the swraenh mn mhfh eby,\n",
      "nhke in thy haaend mast sp youtt, bla iu wit meas,\n",
      "to soaysty pyivases'st minht io the eoloosed,\n",
      "ofkds some inseaiine of toehs toifte,\n",
      "\n",
      "Temperature 1.5\n",
      "ueegs nusd arpned asd ailleit het biaes,\n",
      "taedue iom corlt ald cnd taanins a tieel,\n",
      "whatennid ims mawde faesocg whrh ciliyy,\n",
      "oh liv saeeius 'hainst my sillrlyidxs,\n",
      "faah cf uettre yorth and broited losr;\n",
      "then denters ninet thievidels woinddt.\n",
      "weu;i is oarke, hpv loth thet brt,enl hton.\n",
      "\n",
      "\n",
      "                   \n",
      "tay that thou wiot pow,hodfretefnks lnohe,\n",
      "an ans afr-fsast sew wiel, bmt yhw d fiyp?\n",
      "mov cs tow toureet,ntsed to eoule.\n",
      "then hhv ahenvs ley dmupo-mat io fnorckse sitpld,\n",
      "\n"
     ]
    }
   ],
   "source": [
    "# set seed for emissions\n",
    "seed = \"shall i compare thee to a summer's day?\\n\"\n",
    "seed_to_int = [char_to_int[char] for char in seed]\n",
    "\n",
    "# generate emissions\n",
    "pattern = seed_to_int\n",
    "\n",
    "temps = [0.01, 0.1, 0.25, 0.75, 1.5]    \n",
    "for temp in temps:    \n",
    "    print('Temperature', temp)\n",
    "    \n",
    "    # generate characters\n",
    "    newlines = 0\n",
    "    while newlines < 14:\n",
    "        x = np.reshape(pattern, (1, len(pattern), 1))\n",
    "        x = x / float(n_vocab)\n",
    "        prediction = model.predict(x, verbose=0)[0]\n",
    "\n",
    "        # sample according to temperature\n",
    "        idx = sample(prediction, temp)\n",
    "\n",
    "        result = int_to_char[idx]\n",
    "        pattern.append(idx)\n",
    "        pattern = pattern[1:len(pattern)]\n",
    "        \n",
    "        if result == '\\n':\n",
    "            newlines += 1\n",
    "        \n",
    "        # output result \n",
    "        sys.stdout.write(result)\n",
    "        sys.stdout.flush()\n",
    "    print()"
   ]
  }
 ],
 "metadata": {
  "kernelspec": {
   "display_name": "Python 3",
   "language": "python",
   "name": "python3"
  },
  "language_info": {
   "codemirror_mode": {
    "name": "ipython",
    "version": 3
   },
   "file_extension": ".py",
   "mimetype": "text/x-python",
   "name": "python",
   "nbconvert_exporter": "python",
   "pygments_lexer": "ipython3",
   "version": "3.6.5"
  }
 },
 "nbformat": 4,
 "nbformat_minor": 4
}
