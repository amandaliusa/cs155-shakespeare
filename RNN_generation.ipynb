{
 "cells": [
  {
   "cell_type": "code",
   "execution_count": 19,
   "metadata": {},
   "outputs": [],
   "source": [
    "import numpy as np\n",
    "import os\n",
    "import re\n",
    "import sys\n",
    "\n",
    "from keras.models import Sequential\n",
    "from keras.layers import Dense, Dropout, LSTM\n",
    "from keras.callbacks import ModelCheckpoint\n",
    "from keras.utils import np_utils"
   ]
  },
  {
   "cell_type": "code",
   "execution_count": 11,
   "metadata": {},
   "outputs": [],
   "source": [
    "# load data\n",
    "text = open(os.path.join(os.getcwd(), 'data/shakespeare.txt')).read()\n",
    "\n",
    "# remove sonnet numbers and convert to lowercase\n",
    "text = re.sub(r'[0-9]+', '', text) \n",
    "text = text.lower()\n",
    "\n",
    "# create mapping of unique chars to integers as well as reverse mapping\n",
    "chars = sorted(list(set(text)))\n",
    "char_to_int = dict((c, i) for i, c in enumerate(chars))\n",
    "int_to_char = dict((i, c) for i, c in enumerate(chars))\n",
    "\n",
    "n_chars = len(text) # total length of dataset\n",
    "n_vocab = len(chars) # number of unique characters"
   ]
  },
  {
   "cell_type": "code",
   "execution_count": 12,
   "metadata": {},
   "outputs": [],
   "source": [
    "# prepare the dataset of input to output pairs encoded as integers\n",
    "seq_length = 40\n",
    "dataX = []\n",
    "dataY = []\n",
    "\n",
    "# use sliding window approach\n",
    "for i in range(0, n_chars - seq_length, 1):\n",
    "    seq_in = text[i:i + seq_length]\n",
    "    seq_out = text[i + seq_length]\n",
    "    dataX.append([char_to_int[char] for char in seq_in])\n",
    "    dataY.append(char_to_int[seq_out])\n",
    "    \n",
    "n_sequences = len(dataX)"
   ]
  },
  {
   "cell_type": "code",
   "execution_count": 13,
   "metadata": {},
   "outputs": [],
   "source": [
    "# reshape X to be [samples, time steps, features]\n",
    "X = np.reshape(dataX, (n_sequences, seq_length, 1))\n",
    "\n",
    "# normalize data to range (0, 1)\n",
    "X = X / float(n_vocab)\n",
    "\n",
    "# one hot encode the output variable\n",
    "y = np_utils.to_categorical(dataY)"
   ]
  },
  {
   "cell_type": "code",
   "execution_count": 14,
   "metadata": {},
   "outputs": [],
   "source": [
    "# define the LSTM model \n",
    "# (single layer with 150 units, followed by dense output layer)\n",
    "model = Sequential()\n",
    "model.add(LSTM(150, input_shape=(X.shape[1], X.shape[2])))\n",
    "model.add(Dropout(0.2))\n",
    "model.add(Dense(y.shape[1], activation='softmax'))\n",
    "model.compile(loss='categorical_crossentropy', optimizer='adam')"
   ]
  },
  {
   "cell_type": "code",
   "execution_count": 60,
   "metadata": {},
   "outputs": [],
   "source": [
    "# load the network weights from best checkpoint\n",
    "filename = \"weights-improvement-20-1.9537.hdf5\"\n",
    "model.load_weights(filename)\n",
    "model.compile(loss='categorical_crossentropy', optimizer='adam')"
   ]
  },
  {
   "cell_type": "code",
   "execution_count": 58,
   "metadata": {},
   "outputs": [],
   "source": [
    "def sample(preds, temp=1.0):\n",
    "    '''\n",
    "    Helper function for sampling from softmax with different temperatures.\n",
    "    \n",
    "    Inputs:\n",
    "    preds: output of softmax function\n",
    "    temp: temperature to scale by\n",
    "    '''\n",
    "    preds = np.asarray(preds).astype('float64')\n",
    "    preds = np.log(preds) / temp\n",
    "    exp_preds = np.exp(preds)\n",
    "    preds = exp_preds / np.sum(exp_preds)\n",
    "    probas = np.random.multinomial(1, preds, 1)\n",
    "    \n",
    "    return np.argmax(probas)"
   ]
  },
  {
   "cell_type": "code",
   "execution_count": 61,
   "metadata": {},
   "outputs": [
    {
     "name": "stdout",
     "output_type": "stream",
     "text": [
      "Seed:\n",
      "\" ans more blessed than my barren rhyme?\n",
      "n \"\n",
      "Temperature 0.01\n",
      "o then whech wht ao allure a daarty \n",
      "  b b g qhree dore teen to lo thee iene thene,\n",
      "the sore dore thet hasd the wiil hese soee,\n",
      "  for thy sere loae that thet i soele tone,\n",
      "  and tiae in then whth thes sooe rile dane,\n",
      " \n",
      "to that i soan i then i which the whle,\n",
      "  thene iane the wirle thy sore antheu hane,\n",
      "  then tor tore toue, and then the toee hore thee,\n",
      "  then thet iore cianke of tort sht tiee,\n",
      "  thene ir thes sere, and thee in the worth,\n",
      "  and thee ior sore an iath that whil sheee,\n",
      "toon the seaes of the seaes sereed toee \n",
      "\n",
      "\n",
      "Temperature 0.1\n",
      " tha toeed i do whet i whtl the teme wiuh shae,\n",
      "  thene ale there brens whth that they seee thee sire,\n",
      "and that io then i would thy leve toou see,\n",
      "  then toru the tere whth thes   shel fane toel in oh thee, the lone, ardee\n",
      "the saafo oo hose socesue\n",
      "toene to thee in the wirl of toettene,\n",
      "and toenker fare the wirl hes st pose thele\n",
      "then thou sool siat the world if thees then seed\n",
      "\n",
      "  sene thet sore, that thet io the tores sirl,\n",
      "and then io then i would thy love thou sie.\n",
      "shat thou dott seee theu hoadt silu dest.\n",
      "\n",
      "\n",
      "\n",
      "Temperature 0.2\n",
      "                   \n",
      "\n",
      "whan i hove to seae i fove "
     ]
    }
   ],
   "source": [
    "# generate emissions\n",
    "\n",
    "# pick a random seed\n",
    "start = np.random.randint(0, len(dataX)-1)\n",
    "pattern = dataX[start]\n",
    "print(\"Seed:\")\n",
    "print(\"\\\"\", ''.join([int_to_char[value] for value in pattern]), \"\\\"\")\n",
    "\n",
    "temps = [0.01, 0.1, 0.2, 0.5, 1.0]\n",
    "    \n",
    "for temp in temps:    \n",
    "    print('Temperature', temp)\n",
    "    \n",
    "    # generate characters\n",
    "    newlines = 0\n",
    "    while newlines < 14:\n",
    "        x = np.reshape(pattern, (1, len(pattern), 1))\n",
    "        x = x / float(n_vocab)\n",
    "        prediction = model.predict(x, verbose=0)[0]\n",
    "\n",
    "        # sample according to temperature\n",
    "        idx = sample(prediction, temp)\n",
    "\n",
    "        #index = np.argmax(prediction[0])\n",
    "        result = int_to_char[idx]\n",
    "        pattern.append(idx)\n",
    "        pattern = pattern[1:len(pattern)]\n",
    "        \n",
    "        if result == '\\n':\n",
    "            newlines += 1\n",
    "        \n",
    "        # output result \n",
    "        sys.stdout.write(result)\n",
    "        sys.stdout.flush()\n",
    "    print()"
   ]
  }
 ],
 "metadata": {
  "kernelspec": {
   "display_name": "Python 3",
   "language": "python",
   "name": "python3"
  },
  "language_info": {
   "codemirror_mode": {
    "name": "ipython",
    "version": 3
   },
   "file_extension": ".py",
   "mimetype": "text/x-python",
   "name": "python",
   "nbconvert_exporter": "python",
   "pygments_lexer": "ipython3",
   "version": "3.6.5"
  }
 },
 "nbformat": 4,
 "nbformat_minor": 4
}
