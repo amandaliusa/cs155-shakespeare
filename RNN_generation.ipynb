{
 "cells": [
  {
   "cell_type": "code",
   "execution_count": 1,
   "metadata": {},
   "outputs": [
    {
     "name": "stderr",
     "output_type": "stream",
     "text": [
      "C:\\Users\\amanda\\Anaconda\\lib\\site-packages\\h5py\\__init__.py:36: FutureWarning: Conversion of the second argument of issubdtype from `float` to `np.floating` is deprecated. In future, it will be treated as `np.float64 == np.dtype(float).type`.\n",
      "  from ._conv import register_converters as _register_converters\n",
      "Using TensorFlow backend.\n",
      "C:\\Users\\amanda\\AppData\\Roaming\\Python\\Python36\\site-packages\\tensorflow\\python\\framework\\dtypes.py:523: FutureWarning: Passing (type, 1) or '1type' as a synonym of type is deprecated; in a future version of numpy, it will be understood as (type, (1,)) / '(1,)type'.\n",
      "  _np_qint8 = np.dtype([(\"qint8\", np.int8, 1)])\n",
      "C:\\Users\\amanda\\AppData\\Roaming\\Python\\Python36\\site-packages\\tensorflow\\python\\framework\\dtypes.py:524: FutureWarning: Passing (type, 1) or '1type' as a synonym of type is deprecated; in a future version of numpy, it will be understood as (type, (1,)) / '(1,)type'.\n",
      "  _np_quint8 = np.dtype([(\"quint8\", np.uint8, 1)])\n",
      "C:\\Users\\amanda\\AppData\\Roaming\\Python\\Python36\\site-packages\\tensorflow\\python\\framework\\dtypes.py:525: FutureWarning: Passing (type, 1) or '1type' as a synonym of type is deprecated; in a future version of numpy, it will be understood as (type, (1,)) / '(1,)type'.\n",
      "  _np_qint16 = np.dtype([(\"qint16\", np.int16, 1)])\n",
      "C:\\Users\\amanda\\AppData\\Roaming\\Python\\Python36\\site-packages\\tensorflow\\python\\framework\\dtypes.py:526: FutureWarning: Passing (type, 1) or '1type' as a synonym of type is deprecated; in a future version of numpy, it will be understood as (type, (1,)) / '(1,)type'.\n",
      "  _np_quint16 = np.dtype([(\"quint16\", np.uint16, 1)])\n",
      "C:\\Users\\amanda\\AppData\\Roaming\\Python\\Python36\\site-packages\\tensorflow\\python\\framework\\dtypes.py:527: FutureWarning: Passing (type, 1) or '1type' as a synonym of type is deprecated; in a future version of numpy, it will be understood as (type, (1,)) / '(1,)type'.\n",
      "  _np_qint32 = np.dtype([(\"qint32\", np.int32, 1)])\n",
      "C:\\Users\\amanda\\AppData\\Roaming\\Python\\Python36\\site-packages\\tensorflow\\python\\framework\\dtypes.py:532: FutureWarning: Passing (type, 1) or '1type' as a synonym of type is deprecated; in a future version of numpy, it will be understood as (type, (1,)) / '(1,)type'.\n",
      "  np_resource = np.dtype([(\"resource\", np.ubyte, 1)])\n"
     ]
    }
   ],
   "source": [
    "import numpy as np\n",
    "import os\n",
    "import re\n",
    "import sys\n",
    "\n",
    "from keras.models import Sequential\n",
    "from keras.layers import Dense, Dropout, LSTM\n",
    "from keras.callbacks import ModelCheckpoint\n",
    "from keras.utils import np_utils"
   ]
  },
  {
   "cell_type": "code",
   "execution_count": 11,
   "metadata": {},
   "outputs": [],
   "source": [
    "def sample(preds, temp=1.0):\n",
    "    '''\n",
    "    Helper function for sampling from softmax with different temperatures.\n",
    "    \n",
    "    Inputs:\n",
    "    preds: output of softmax function\n",
    "    temp: temperature to scale by\n",
    "    '''\n",
    "    preds = np.asarray(preds).astype('float64')\n",
    "    preds = np.log(preds) / temp\n",
    "    exp_preds = np.exp(preds)\n",
    "    preds = exp_preds / np.sum(exp_preds)\n",
    "    probas = np.random.multinomial(1, preds, 1)\n",
    "    \n",
    "    return np.argmax(probas)"
   ]
  },
  {
   "cell_type": "code",
   "execution_count": 2,
   "metadata": {},
   "outputs": [],
   "source": [
    "# load data\n",
    "text = open(os.path.join(os.getcwd(), 'data/shakespeare.txt')).read()\n",
    "    \n",
    "# remove sonnet numbers and convert to lowercase\n",
    "text = re.sub(r'[0-9]+', '', text) \n",
    "text = text.lower()\n",
    "\n",
    "# create mapping of unique chars to integers as well as reverse mapping\n",
    "chars = sorted(list(set(text)))\n",
    "char_to_int = dict((c, i) for i, c in enumerate(chars))\n",
    "int_to_char = dict((i, c) for i, c in enumerate(chars))\n",
    "\n",
    "n_chars = len(text) # total length of dataset\n",
    "n_vocab = len(chars) # number of unique characters"
   ]
  },
  {
   "cell_type": "code",
   "execution_count": 3,
   "metadata": {},
   "outputs": [],
   "source": [
    "# prepare the dataset of input to output pairs encoded as integers\n",
    "seq_length = 40\n",
    "dataX = []\n",
    "dataY = []\n",
    "\n",
    "# use sliding window approach\n",
    "for i in range(0, n_chars - seq_length, 1):\n",
    "    seq_in = text[i:i + seq_length]\n",
    "    seq_out = text[i + seq_length]\n",
    "    dataX.append([char_to_int[char] for char in seq_in])\n",
    "    dataY.append(char_to_int[seq_out])\n",
    "    \n",
    "n_sequences = len(dataX)"
   ]
  },
  {
   "cell_type": "code",
   "execution_count": 5,
   "metadata": {},
   "outputs": [],
   "source": [
    "# reshape X to be [samples, time steps, features]\n",
    "X = np.reshape(dataX, (n_sequences, seq_length, 1))\n",
    "\n",
    "# normalize data to range (0, 1)\n",
    "X = X / float(n_vocab)\n",
    "\n",
    "# one hot encode the output variable\n",
    "y = np_utils.to_categorical(dataY)"
   ]
  },
  {
   "cell_type": "code",
   "execution_count": 43,
   "metadata": {},
   "outputs": [],
   "source": [
    "# define the LSTM model \n",
    "# (single layer with 200 units, followed by dense output layer)\n",
    "model = Sequential()\n",
    "model.add(LSTM(200, input_shape=(X.shape[1], X.shape[2])))\n",
    "model.add(Dense(y.shape[1], activation='softmax'))"
   ]
  },
  {
   "cell_type": "code",
   "execution_count": 60,
   "metadata": {},
   "outputs": [],
   "source": [
    "# load the network weights from best checkpoint\n",
    "#filename = \"weights-improvement-20-1.7396.hdf5\"\n",
    "filename = \"weights-improvement-72-1.1011.hdf5\"\n",
    "model.load_weights(filename)\n",
    "model.compile(loss='categorical_crossentropy', optimizer='adam')"
   ]
  },
  {
   "cell_type": "code",
   "execution_count": 64,
   "metadata": {},
   "outputs": [
    {
     "name": "stdout",
     "output_type": "stream",
     "text": [
      "Temperature 0.01\n",
      "That thou mooe tiat at men hoow here ho deed.\n",
      "Nhe ail my verse and mea sime's sore make sooln"
     ]
    },
    {
     "name": "stderr",
     "output_type": "stream",
     "text": [
      "C:\\Users\\amanda\\Anaconda\\lib\\site-packages\\ipykernel_launcher.py:10: RuntimeWarning: divide by zero encountered in log\n",
      "  # Remove the CWD from sys.path while we load stuff.\n"
     ]
    },
    {
     "name": "stdout",
     "output_type": "stream",
     "text": [
      "e,\n",
      "When touuh ae oithilg the dioucr torr:\n",
      "Oo both brascd thtu art a lov thou crt,\n",
      "But the hesh thee an aldee suept thould,\n",
      "Whone heav percrien thiek of all thee hel,\n",
      "If onoit thou she tiat have ph mer'r pye,\n",
      "When touo lo heart thou gart botyelt didndt.\n",
      "  o nunh touerdl thee thmu alase mo hevs dinerace,\n",
      "Therefore the ley le danouhr pight art hase a hemi?\n",
      "Somled to thee, where alank mhver theer iole.\n",
      "That thou aot olvers with his feir hopo hie,\n",
      "And ll the peeieence of tourh aln oo decrid\n",
      "Toun thy surmtgst would thy beauty sourh:\n",
      "\n",
      "Temperature 0.1\n",
      "  then i have sweeteny ald whrh thene eyes,\n",
      "  and yht dr those then thou geart becoting,\n",
      "And for this sillte lo the wire tomn domme.\n",
      "For ther iy welf, whate'iloe thei they moor hye,\n",
      "Hov to hiv rubise in your nimt-\n",
      "Anthouih the lakn thee whst mu daar nrshh,\n",
      "When i have swast the shoc oore riglt to grenl,\n",
      "Nor tead thou sinele timllt cest toon hese eine,\n",
      "That they my lasit in the eear rippled thee,\n",
      "When touuh uote dyt ae orte, frrm hears so thee.\n",
      "\n",
      "\n",
      "                   \n",
      "When i thal whx lnte in then i wes cerpon,\n",
      "\n",
      "Temperature 0.25\n",
      "Then that my love whol tooku imoe doth lie,\n",
      "Thou thalt not sher i am  lrw messieg staatu:\n",
      "\n",
      "\n",
      "                 \n",
      "Then that this sioel, he ts thij thou thouldt bimne.\n",
      "  then whrco that teie berpe rhy auta if thee,\n",
      "When i have sweet to teee, what erre to yer)\n",
      "Oh hiv seeott beantit i do hllwsed teer,\n",
      "  this whtt mu fanre asi ntnt on thee wores'\n",
      "Thiee of my liner, that they syia toul mhnhn to thee,\n",
      "Who oead the shoce deciice with a genphes somnt\n",
      "Agtie as the seatr wirhon the shaee of theee,\n",
      "Theneinre the leysl wien it wou wo thee,\n",
      "\n",
      "Temperature 0.75\n",
      "Whos woukw abyente whene then whin i wr thee,\n",
      "And then,by heir uhou gert both coom to gaye,\n",
      "  then lose as wall thou whyt mu pafuty dr tay,\n",
      "  hincint that beauty mat ie rte i sian,\n",
      "\n",
      "                    \n",
      "Lo it whr br i sinc dnsted his dofmss:\n",
      "To mine andore hes deauty ny\n",
      "Socered where thele eerertid,\n",
      "Dnmoate movt precs byemlsa bevpeited and kioe,\n",
      "Cnmoard mes's crie att as uke mint,\n",
      " tio lens npw farius bu thee thiu wittoons deir,\n",
      "Onog hiatenins all fillthe thee the siow,\n",
      "Thou gart both giuel wo thhe thei ae whneh,\n",
      "\n",
      "Temperature 1.5\n",
      "Or aeod dy theis twrsd lans'r kamtest tege:\n",
      "Who shglty rweseaab'thsoegtion (yelsnrun,\n",
      "Tpcv ifvp io oid' spalseds:so) rriilent kek.\n",
      " \n",
      "Oomlvs eeroins than viie g aelle,sars seee,\n",
      "Byt ho my jatet in meeb,s mit-surcngia\n",
      "Bo ifs cdte iuilntidntanss dncastr,\n",
      "Gnep'i bo somb go,subjyiont awtyrra\n",
      "Uoiedf basevtinn potayemy"
     ]
    }
   ],
   "source": [
    "# set seed for emissions\n",
    "seed = \"shall i compare thee to a summer's day?\\n\"\n",
    "seed_to_int = [char_to_int[char] for char in seed]\n",
    "\n",
    "# generate emissions\n",
    "pattern = seed_to_int\n",
    "\n",
    "temps = [0.01, 0.1, 0.25, 0.75, 1.5]    \n",
    "for temp in temps:    \n",
    "    print('Temperature', temp)\n",
    "    \n",
    "    # generate characters\n",
    "    newlines = 0\n",
    "    cap = True\n",
    "    while newlines < 14:\n",
    "        x = np.reshape(pattern, (1, len(pattern), 1))\n",
    "        x = x / float(n_vocab)\n",
    "        prediction = model.predict(x, verbose=0)[0]\n",
    "\n",
    "        # sample according to temperature\n",
    "        idx = sample(prediction, temp)\n",
    "\n",
    "        result = int_to_char[idx]\n",
    "        pattern.append(idx)\n",
    "        pattern = pattern[1:len(pattern)]\n",
    "        \n",
    "        # output result \n",
    "        if cap:\n",
    "            sys.stdout.write(result.capitalize())\n",
    "            cap = False\n",
    "        else:\n",
    "            sys.stdout.write(result)\n",
    "        sys.stdout.flush()\n",
    "        \n",
    "        if result == '\\n':\n",
    "            newlines += 1\n",
    "            cap = True\n",
    "            \n",
    "    print()"
   ]
  }
 ],
 "metadata": {
  "kernelspec": {
   "display_name": "Python 3",
   "language": "python",
   "name": "python3"
  },
  "language_info": {
   "codemirror_mode": {
    "name": "ipython",
    "version": 3
   },
   "file_extension": ".py",
   "mimetype": "text/x-python",
   "name": "python",
   "nbconvert_exporter": "python",
   "pygments_lexer": "ipython3",
   "version": "3.6.5"
  }
 },
 "nbformat": 4,
 "nbformat_minor": 4
}
