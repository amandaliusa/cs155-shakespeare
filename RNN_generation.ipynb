{
 "cells": [
  {
   "cell_type": "code",
   "execution_count": 1,
   "metadata": {},
   "outputs": [
    {
     "name": "stderr",
     "output_type": "stream",
     "text": [
      "C:\\Users\\amanda\\Anaconda\\lib\\site-packages\\h5py\\__init__.py:36: FutureWarning: Conversion of the second argument of issubdtype from `float` to `np.floating` is deprecated. In future, it will be treated as `np.float64 == np.dtype(float).type`.\n",
      "  from ._conv import register_converters as _register_converters\n",
      "Using TensorFlow backend.\n",
      "C:\\Users\\amanda\\AppData\\Roaming\\Python\\Python36\\site-packages\\tensorflow\\python\\framework\\dtypes.py:523: FutureWarning: Passing (type, 1) or '1type' as a synonym of type is deprecated; in a future version of numpy, it will be understood as (type, (1,)) / '(1,)type'.\n",
      "  _np_qint8 = np.dtype([(\"qint8\", np.int8, 1)])\n",
      "C:\\Users\\amanda\\AppData\\Roaming\\Python\\Python36\\site-packages\\tensorflow\\python\\framework\\dtypes.py:524: FutureWarning: Passing (type, 1) or '1type' as a synonym of type is deprecated; in a future version of numpy, it will be understood as (type, (1,)) / '(1,)type'.\n",
      "  _np_quint8 = np.dtype([(\"quint8\", np.uint8, 1)])\n",
      "C:\\Users\\amanda\\AppData\\Roaming\\Python\\Python36\\site-packages\\tensorflow\\python\\framework\\dtypes.py:525: FutureWarning: Passing (type, 1) or '1type' as a synonym of type is deprecated; in a future version of numpy, it will be understood as (type, (1,)) / '(1,)type'.\n",
      "  _np_qint16 = np.dtype([(\"qint16\", np.int16, 1)])\n",
      "C:\\Users\\amanda\\AppData\\Roaming\\Python\\Python36\\site-packages\\tensorflow\\python\\framework\\dtypes.py:526: FutureWarning: Passing (type, 1) or '1type' as a synonym of type is deprecated; in a future version of numpy, it will be understood as (type, (1,)) / '(1,)type'.\n",
      "  _np_quint16 = np.dtype([(\"quint16\", np.uint16, 1)])\n",
      "C:\\Users\\amanda\\AppData\\Roaming\\Python\\Python36\\site-packages\\tensorflow\\python\\framework\\dtypes.py:527: FutureWarning: Passing (type, 1) or '1type' as a synonym of type is deprecated; in a future version of numpy, it will be understood as (type, (1,)) / '(1,)type'.\n",
      "  _np_qint32 = np.dtype([(\"qint32\", np.int32, 1)])\n",
      "C:\\Users\\amanda\\AppData\\Roaming\\Python\\Python36\\site-packages\\tensorflow\\python\\framework\\dtypes.py:532: FutureWarning: Passing (type, 1) or '1type' as a synonym of type is deprecated; in a future version of numpy, it will be understood as (type, (1,)) / '(1,)type'.\n",
      "  np_resource = np.dtype([(\"resource\", np.ubyte, 1)])\n"
     ]
    }
   ],
   "source": [
    "import numpy as np\n",
    "import os\n",
    "import re\n",
    "import sys\n",
    "\n",
    "from keras.models import Sequential\n",
    "from keras.layers import Dense, Dropout, LSTM\n",
    "from keras.callbacks import ModelCheckpoint\n",
    "from keras.utils import np_utils"
   ]
  },
  {
   "cell_type": "code",
   "execution_count": 11,
   "metadata": {},
   "outputs": [],
   "source": [
    "def sample(preds, temp=1.0):\n",
    "    '''\n",
    "    Helper function for sampling from softmax with different temperatures.\n",
    "    \n",
    "    Inputs:\n",
    "    preds: output of softmax function\n",
    "    temp: temperature to scale by\n",
    "    '''\n",
    "    preds = np.asarray(preds).astype('float64')\n",
    "    preds = np.log(preds) / temp\n",
    "    exp_preds = np.exp(preds)\n",
    "    preds = exp_preds / np.sum(exp_preds)\n",
    "    probas = np.random.multinomial(1, preds, 1)\n",
    "    \n",
    "    return np.argmax(probas)"
   ]
  },
  {
   "cell_type": "code",
   "execution_count": 2,
   "metadata": {},
   "outputs": [],
   "source": [
    "# load data\n",
    "text = open(os.path.join(os.getcwd(), 'data/shakespeare.txt')).read()\n",
    "    \n",
    "# remove sonnet numbers and convert to lowercase\n",
    "text = re.sub(r'[0-9]+', '', text) \n",
    "text = text.lower()\n",
    "\n",
    "# create mapping of unique chars to integers as well as reverse mapping\n",
    "chars = sorted(list(set(text)))\n",
    "char_to_int = dict((c, i) for i, c in enumerate(chars))\n",
    "int_to_char = dict((i, c) for i, c in enumerate(chars))\n",
    "\n",
    "n_chars = len(text) # total length of dataset\n",
    "n_vocab = len(chars) # number of unique characters"
   ]
  },
  {
   "cell_type": "code",
   "execution_count": 3,
   "metadata": {},
   "outputs": [],
   "source": [
    "# prepare the dataset of input to output pairs encoded as integers\n",
    "seq_length = 40\n",
    "dataX = []\n",
    "dataY = []\n",
    "\n",
    "# use sliding window approach\n",
    "for i in range(0, n_chars - seq_length, 1):\n",
    "    seq_in = text[i:i + seq_length]\n",
    "    seq_out = text[i + seq_length]\n",
    "    dataX.append([char_to_int[char] for char in seq_in])\n",
    "    dataY.append(char_to_int[seq_out])\n",
    "    \n",
    "n_sequences = len(dataX)"
   ]
  },
  {
   "cell_type": "code",
   "execution_count": 5,
   "metadata": {},
   "outputs": [],
   "source": [
    "# reshape X to be [samples, time steps, features]\n",
    "X = np.reshape(dataX, (n_sequences, seq_length, 1))\n",
    "\n",
    "# normalize data to range (0, 1)\n",
    "X = X / float(n_vocab)\n",
    "\n",
    "# one hot encode the output variable\n",
    "y = np_utils.to_categorical(dataY)"
   ]
  },
  {
   "cell_type": "code",
   "execution_count": 43,
   "metadata": {},
   "outputs": [],
   "source": [
    "# define the LSTM model \n",
    "# (single layer with 200 units, followed by dense output layer)\n",
    "model = Sequential()\n",
    "model.add(LSTM(200, input_shape=(X.shape[1], X.shape[2])))\n",
    "model.add(Dense(y.shape[1], activation='softmax'))"
   ]
  },
  {
   "cell_type": "code",
   "execution_count": 58,
   "metadata": {},
   "outputs": [],
   "source": [
    "# load the network weights from best checkpoint\n",
    "#filename = \"weights-improvement-20-1.7396.hdf5\"\n",
    "filename = \"weights-improvement-61-1.1807.hdf5\"\n",
    "model.load_weights(filename)\n",
    "model.compile(loss='categorical_crossentropy', optimizer='adam')"
   ]
  },
  {
   "cell_type": "code",
   "execution_count": 59,
   "metadata": {},
   "outputs": [
    {
     "name": "stdout",
     "output_type": "stream",
     "text": [
      "Temperature 0.01\n",
      "thou art thy self the thorgh of all his rriae\n",
      "helple then"
     ]
    },
    {
     "name": "stderr",
     "output_type": "stream",
     "text": [
      "C:\\Users\\amanda\\Anaconda\\lib\\site-packages\\ipykernel_launcher.py:10: RuntimeWarning: divide by zero encountered in log\n",
      "  # Remove the CWD from sys.path while we load stuff.\n"
     ]
    },
    {
     "name": "stdout",
     "output_type": "stream",
     "text": [
      " io ore oo self of mane and sens,\n",
      "  aut hov the paintec boln to bod,\n",
      "ms vhr derior th the datth of you i dend seee for where,\n",
      "the basest cudrtt of the tomen of yourh,\n",
      "when in the beyt in of his jovertinn bace,\n",
      "where ale iy krve to be a derer (hrcoug watte:\n",
      "the cout of thee may eete more to shee,\n",
      "  thie mf hia cbr tomk my hode torevs or tey,\n",
      "with that my silful wall my self and tuine,\n",
      "  and titu an to teif the vorld ofr move ther boln,\n",
      "that the then then the world shou dars sooved,\n",
      "and to the temner of hiart say hy dedd,\n",
      "the bester asb oot the faythen of the dey,\n",
      "\n",
      "Temperature 0.1\n",
      "and oayet of made the dan that teee thou are,\n",
      "the houbrt with a cuend to ces'd thint to bren.\n",
      "to sey i fane toeer the farrh sfront,\n",
      "that in the breath the caytht mogt thou frow,\n",
      "  and yith all the wornd will wou,s soopowed tore,\n",
      "and that in thee what fear fanh fan to she hrase,\n",
      "whocst if wou kavi the simed oitehnged,\n",
      "and that in thee whth pthcrs what they see?\n",
      "thou dost love hove the sheek ofrer iash,\n",
      "where bestey doth haared with thy beauty's lens,\n",
      "  to that she tuine that danky that shou art,\n",
      "if thnu art me thou dost self blnn spendld,\n",
      "and therefore wotds the blaus of south,\n",
      "the oatiert worsd of lanune thee thou sreye!\n",
      "\n",
      "Temperature 0.25\n",
      "what you your peminted that thy soc up clouuey fsrm thee,\n",
      "and she hust precs oserint of toulhn coon,\n",
      "that tinu amone dead tihkking ale mine rwr,\n",
      "in iv, and thou whlt beauty,s fasses bes\n",
      "woor meay doth poe deciasenten,\n",
      "and auea bo the pedioned tome csth piecs,\n",
      "and therefore wotds whech whocs aothqued,\n",
      "oi his seafode-hu nart pi hor siei eares.\n",
      "  then thou heart should i dolnws my some,\n",
      "  thou brtt so may, what mar mo hor me went,\n",
      "  and titu an to the wioe dociet and fear:\n",
      "\n",
      "                    \n",
      "then that thy sore ii thngbd mever wat iene\n",
      "\n",
      "Temperature 0.75\n",
      "ant dear net hane tiou drtless aester thored,\n",
      "ir vheth tob davpee with bnttrenss sfg thee megp,\n",
      "  and thmu art foltsw ms al and roateored,\n",
      "ou lanc mr botnwed taak agrrgee aeeine,\n",
      "and buen the cointed thae wo thee iank nee,t fre,\n",
      "makenk thy geart this arast rhell casthd\n",
      "with that maneu ardst wr thsums mi line,\n",
      "whth thie bearning of thise ractt thee toolee,\n",
      "that mose ioa if newer (tholnd doom pinees,\n",
      "frrm maying whenesf uoee, eow my love'\n",
      "woaer that feie st pte pacesgsn whth giavt,\n",
      "badessy not sreaisus, are deerhen hi thee thmws,\n",
      "but iov sime in nyepeu frth bott spiy:\n",
      "th't ciuet nor boenteti, ane tiene aeanted tiee teel!somanc lovthgg,\n",
      "\n",
      "Temperature 1.5\n",
      "aeainst ttmhevs whan otv,sundsh,st onter;\n",
      "bucssing a beager onjrrn of yhu crrn hals eerpbhm,\n",
      "is auv tha roenssbt yitcdv, frilma time teig:\n",
      "( tinee d lappn banecu, na mhv hidven,\n",
      "bnmuiacc' lroe-rnvges aro'h peg iareenge.\n",
      "thlu poorlnc stwrnyimus,slegs sha thit.d phmdf tumn,\n",
      "whas flst thr remuoglgd hy eottere? fodss  larss twesly\n",
      "my aeeuty bdiired oosu,\n",
      "thru, yete you ioodody ieme riolld thremm;d erea'\n",
      "  this hw depred i mouer,inoeks fnerer:\n",
      "  yet dif she boeikence tioud armnht did,\n",
      "bst shbc nifht mtng,tienu whth siss noo bex\n",
      "ryiiepe,\n",
      "laring oade simnuy wo tec to ot aeshrs, aetbr bemlnest enemg,\n",
      "\n"
     ]
    }
   ],
   "source": [
    "# set seed for emissions\n",
    "seed = \"shall i compare thee to a summer's day?\\n\"\n",
    "seed_to_int = [char_to_int[char] for char in seed]\n",
    "\n",
    "# generate emissions\n",
    "pattern = seed_to_int\n",
    "\n",
    "temps = [0.01, 0.1, 0.25, 0.75, 1.5]    \n",
    "for temp in temps:    \n",
    "    print('Temperature', temp)\n",
    "    \n",
    "    # generate characters\n",
    "    newlines = 0\n",
    "    while newlines < 14:\n",
    "        x = np.reshape(pattern, (1, len(pattern), 1))\n",
    "        x = x / float(n_vocab)\n",
    "        prediction = model.predict(x, verbose=0)[0]\n",
    "\n",
    "        # sample according to temperature\n",
    "        idx = sample(prediction, temp)\n",
    "\n",
    "        result = int_to_char[idx]\n",
    "        pattern.append(idx)\n",
    "        pattern = pattern[1:len(pattern)]\n",
    "        \n",
    "        if result == '\\n':\n",
    "            newlines += 1\n",
    "        \n",
    "        # output result \n",
    "        sys.stdout.write(result)\n",
    "        sys.stdout.flush()\n",
    "    print()"
   ]
  }
 ],
 "metadata": {
  "kernelspec": {
   "display_name": "Python 3",
   "language": "python",
   "name": "python3"
  },
  "language_info": {
   "codemirror_mode": {
    "name": "ipython",
    "version": 3
   },
   "file_extension": ".py",
   "mimetype": "text/x-python",
   "name": "python",
   "nbconvert_exporter": "python",
   "pygments_lexer": "ipython3",
   "version": "3.6.5"
  }
 },
 "nbformat": 4,
 "nbformat_minor": 4
}
