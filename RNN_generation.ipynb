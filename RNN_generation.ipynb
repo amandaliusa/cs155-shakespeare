{
 "cells": [
  {
   "cell_type": "code",
   "execution_count": 19,
   "metadata": {},
   "outputs": [],
   "source": [
    "import numpy as np\n",
    "import os\n",
    "import re\n",
    "import sys\n",
    "\n",
    "from keras.models import Sequential\n",
    "from keras.layers import Dense, Dropout, LSTM\n",
    "from keras.callbacks import ModelCheckpoint\n",
    "from keras.utils import np_utils"
   ]
  },
  {
   "cell_type": "code",
   "execution_count": 11,
   "metadata": {},
   "outputs": [],
   "source": [
    "# load data\n",
    "text = open(os.path.join(os.getcwd(), 'data/shakespeare.txt')).read()\n",
    "\n",
    "# remove sonnet numbers and convert to lowercase\n",
    "text = re.sub(r'[0-9]+', '', text) \n",
    "text = text.lower()\n",
    "\n",
    "# create mapping of unique chars to integers as well as reverse mapping\n",
    "chars = sorted(list(set(text)))\n",
    "char_to_int = dict((c, i) for i, c in enumerate(chars))\n",
    "int_to_char = dict((i, c) for i, c in enumerate(chars))\n",
    "\n",
    "n_chars = len(text) # total length of dataset\n",
    "n_vocab = len(chars) # number of unique characters"
   ]
  },
  {
   "cell_type": "code",
   "execution_count": 12,
   "metadata": {},
   "outputs": [],
   "source": [
    "# prepare the dataset of input to output pairs encoded as integers\n",
    "seq_length = 40\n",
    "dataX = []\n",
    "dataY = []\n",
    "\n",
    "# use sliding window approach\n",
    "for i in range(0, n_chars - seq_length, 1):\n",
    "    seq_in = text[i:i + seq_length]\n",
    "    seq_out = text[i + seq_length]\n",
    "    dataX.append([char_to_int[char] for char in seq_in])\n",
    "    dataY.append(char_to_int[seq_out])\n",
    "    \n",
    "n_sequences = len(dataX)"
   ]
  },
  {
   "cell_type": "code",
   "execution_count": 13,
   "metadata": {},
   "outputs": [],
   "source": [
    "# reshape X to be [samples, time steps, features]\n",
    "X = np.reshape(dataX, (n_sequences, seq_length, 1))\n",
    "\n",
    "# normalize data to range (0, 1)\n",
    "X = X / float(n_vocab)\n",
    "\n",
    "# one hot encode the output variable\n",
    "y = np_utils.to_categorical(dataY)"
   ]
  },
  {
   "cell_type": "code",
   "execution_count": 14,
   "metadata": {},
   "outputs": [],
   "source": [
    "# define the LSTM model \n",
    "# (single layer with 150 units, followed by dense output layer)\n",
    "model = Sequential()\n",
    "model.add(LSTM(150, input_shape=(X.shape[1], X.shape[2])))\n",
    "model.add(Dropout(0.2))\n",
    "model.add(Dense(y.shape[1], activation='softmax'))\n",
    "model.compile(loss='categorical_crossentropy', optimizer='adam')"
   ]
  },
  {
   "cell_type": "code",
   "execution_count": 15,
   "metadata": {},
   "outputs": [],
   "source": [
    "# load the network weights from best checkpoint\n",
    "filename = \"weights-improvement-15-2.3879.hdf5\"\n",
    "model.load_weights(filename)\n",
    "model.compile(loss='categorical_crossentropy', optimizer='adam')"
   ]
  },
  {
   "cell_type": "code",
   "execution_count": 23,
   "metadata": {},
   "outputs": [
    {
     "name": "stdout",
     "output_type": "stream",
     "text": [
      "Seed:\n",
      "\"  love thee with mine eyes,\n",
      "for they in t \"\n",
      "he whel the sore the sore,\n",
      "                    \n",
      "the whet the tore the sore the sore to toee,\n",
      "\n",
      "                   \n",
      "the whet the tore the sore the sore to toee,\n",
      "\n",
      "                   \n",
      "the whet the tore the sore the sore to toee,\n",
      "\n",
      "                   \n",
      "the whet the tore the sore the sore to toee,\n",
      "\n",
      "                   \n",
      "the whet the tore the sore the sore to toee,\n",
      "\n",
      "                   \n",
      "the whet the tore the sore the sore to toee,\n",
      "\n",
      "                   \n",
      "the whet the tore the sore the sore to toee,\n",
      "\n",
      "                   \n",
      "the whet the tore the sore the sore to toee,\n",
      "\n",
      "                   \n",
      "the whet the tore the sore the sore to toee,\n",
      "\n",
      "                   \n",
      "the whet the tore the sore the sore to toee,\n",
      "\n",
      "                   \n",
      "the whet the tore the sore the sore to toee,\n",
      "\n",
      "                   \n",
      "the whet the tore the sore the sore to toee,\n",
      "\n",
      "                   \n",
      "the whet the tore the sore the sore to toee,\n",
      "\n",
      "                   \n",
      "the whet the tore the sore the sore to toee,\n",
      "\n",
      "                   \n",
      "the whet the tore the sore t\n",
      "Done.\n"
     ]
    }
   ],
   "source": [
    "# generate emissions\n",
    "\n",
    "# pick a random seed\n",
    "start = np.random.randint(0, len(dataX)-1)\n",
    "pattern = dataX[start]\n",
    "print(\"Seed:\")\n",
    "print(\"\\\"\", ''.join([int_to_char[value] for value in pattern]), \"\\\"\")\n",
    "\n",
    "# generate characters\n",
    "for i in range(1000):\n",
    "    x = np.reshape(pattern, (1, len(pattern), 1))\n",
    "    x = x / float(n_vocab)\n",
    "    prediction = model.predict(x, verbose=0)\n",
    "    index = np.argmax(prediction)\n",
    "    result = int_to_char[index]\n",
    "    sys.stdout.write(result)\n",
    "    pattern.append(index)\n",
    "    pattern = pattern[1:len(pattern)]\n",
    "print(\"\\nDone.\")"
   ]
  }
 ],
 "metadata": {
  "kernelspec": {
   "display_name": "Python 3",
   "language": "python",
   "name": "python3"
  },
  "language_info": {
   "codemirror_mode": {
    "name": "ipython",
    "version": 3
   },
   "file_extension": ".py",
   "mimetype": "text/x-python",
   "name": "python",
   "nbconvert_exporter": "python",
   "pygments_lexer": "ipython3",
   "version": "3.6.5"
  }
 },
 "nbformat": 4,
 "nbformat_minor": 4
}
