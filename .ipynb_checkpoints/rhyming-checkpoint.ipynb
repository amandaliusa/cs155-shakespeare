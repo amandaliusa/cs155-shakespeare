{
 "cells": [
  {
   "cell_type": "code",
   "execution_count": 66,
   "metadata": {},
   "outputs": [],
   "source": [
    "import nltk\n",
    "from nltk.corpus import cmudict\n",
    "from nltk.tokenize import word_tokenize, wordpunct_tokenize, sent_tokenize\n",
    "\n",
    "import os\n",
    "import re"
   ]
  },
  {
   "cell_type": "code",
   "execution_count": 60,
   "metadata": {},
   "outputs": [],
   "source": [
    "text = open(os.path.join(os.getcwd(), 'data/shakespeare.txt')).read()\n",
    "\n",
    "# remove sonnet numbers and convert to lowercase\n",
    "text = re.sub(r'[0-9]+', '', text) \n",
    "text = text.lower()\n",
    "text = text.split('\\n')"
   ]
  },
  {
   "cell_type": "code",
   "execution_count": 6,
   "metadata": {},
   "outputs": [],
   "source": [
    "sonnet = ['O thou, my lovely boy, who in thy power', \\\n",
    "   'Dost hold Time\\'s fickle glass, his sickle, hour;', \\\n",
    "   'Who hast by waning grown, and therein showst', \\\n",
    "   'Thy lovers withering as thy sweet self growst;', \\\n",
    "   'If Nature, sovereign mistress over wrack,', \\\n",
    "   'As thou goest onwards, still will pluck thee back,', \\\n",
    "   'She keeps thee to this purpose, that her skill', \\\n",
    "   'May time disgrace and wretched minutes kill.', \\\n",
    "   'Yet fear her, O thou minion of her pleasure!', \\\n",
    "   'She may detain, but not still keep, her treasure:', \\\n",
    "   'Her audit, though delayed, answered must be,', \\\n",
    "   'And her quietus is to render thee.']"
   ]
  },
  {
   "cell_type": "code",
   "execution_count": 40,
   "metadata": {},
   "outputs": [],
   "source": [
    "tokens = [wordpunct_tokenize(s) for s in sonnet]\n",
    "punct = set(['.', ',', '!', ':', ';'])\n",
    "filtered = [ [w for w in sentence if w not in punct ] for sentence in tokens]\n",
    "last = [ sentence[len(sentence) - 1] for sentence in filtered]"
   ]
  },
  {
   "cell_type": "code",
   "execution_count": 62,
   "metadata": {},
   "outputs": [],
   "source": [
    "# tokenize the data and filter out punctuation\n",
    "tokens2 = [wordpunct_tokenize(s) for s in text]\n",
    "punct = set(['.', ',', '!', ':', ';'])\n",
    "filtered2 = [ [w for w in sentence if w not in punct ] for sentence in tokens2]\n",
    "filtered2 = [x for x in filtered2 if len(x) != 0]\n",
    "\n",
    "# get last word in each line\n",
    "last2 = [ sentence[len(sentence) - 1] for sentence in filtered2]"
   ]
  },
  {
   "cell_type": "code",
   "execution_count": null,
   "metadata": {},
   "outputs": [],
   "source": [
    "# look up word pronunciations\n",
    "[[(word, pron) for (word, pron) in cmudict.entries() if word == w] for w in last2]"
   ]
  }
 ],
 "metadata": {
  "kernelspec": {
   "display_name": "Python 3",
   "language": "python",
   "name": "python3"
  },
  "language_info": {
   "codemirror_mode": {
    "name": "ipython",
    "version": 3
   },
   "file_extension": ".py",
   "mimetype": "text/x-python",
   "name": "python",
   "nbconvert_exporter": "python",
   "pygments_lexer": "ipython3",
   "version": "3.6.5"
  }
 },
 "nbformat": 4,
 "nbformat_minor": 2
}
