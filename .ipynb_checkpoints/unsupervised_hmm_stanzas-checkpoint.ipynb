{
 "cells": [
  {
   "cell_type": "code",
   "execution_count": 1,
   "metadata": {},
   "outputs": [],
   "source": [
    "import os\n",
    "from ipynb.fs.full.preprocessing import parse_observations, sample_sentence\n",
    "from HMM_soln import unsupervised_HMM"
   ]
  },
  {
   "cell_type": "code",
   "execution_count": 28,
   "metadata": {},
   "outputs": [],
   "source": [
    "def obs_map_reverser(obs_map):\n",
    "    obs_map_r = {}\n",
    "\n",
    "    for key in obs_map:\n",
    "        obs_map_r[obs_map[key]] = key\n",
    "\n",
    "    return obs_map_r\n",
    "\n",
    "def sample_sentence(hmm, obs_map, n_words=100):\n",
    "    # Get reverse map.\n",
    "    obs_map_r = obs_map_reverser(obs_map)\n",
    "\n",
    "    # Sample and convert sentence.\n",
    "    emission, states = hmm.generate_emission(n_words)\n",
    "    sentence = [obs_map_r[i] for i in emission]\n",
    "\n",
    "    return ' '.join(sentence).capitalize()\n",
    "\n",
    "def generate_obs(hmm, obs_map):\n",
    "    '''\n",
    "    Naively generates 14-line sonnet with 8 words each.\n",
    "    \n",
    "    Inputs:\n",
    "    hmm: trained hmm\n",
    "    obs_map: maps word to observation index\n",
    "    \n",
    "    Outputs:\n",
    "    None\n",
    "    '''\n",
    "    # generate all words in sonnet\n",
    "    all_words = sample_sentence(hmm, obs_map, 112)\n",
    "    all_words = all_words.split(' ')\n",
    "    \n",
    "    # split into 14 lines and add capitalization/naive punctuation\n",
    "    for i in range(14):\n",
    "        count = 0\n",
    "        line = ' '.join(all_words[i*8:(i+1)*8]).capitalize()\n",
    "        if i < 11 or i == 12:\n",
    "            line += ','\n",
    "        else:\n",
    "            line += '.'\n",
    "        print(line)"
   ]
  },
  {
   "cell_type": "code",
   "execution_count": 3,
   "metadata": {},
   "outputs": [],
   "source": [
    "text = open(os.path.join(os.getcwd(), 'data/shakespeare.txt')).read()\n",
    "obs, obs_map = parse_observations(text)"
   ]
  },
  {
   "cell_type": "code",
   "execution_count": 4,
   "metadata": {},
   "outputs": [
    {
     "name": "stdout",
     "output_type": "stream",
     "text": [
      "Iteration: 10\n",
      "Iteration: 20\n",
      "Iteration: 30\n",
      "Iteration: 40\n",
      "Iteration: 50\n",
      "Iteration: 60\n",
      "Iteration: 70\n",
      "Iteration: 80\n",
      "Iteration: 90\n",
      "Iteration: 100\n"
     ]
    }
   ],
   "source": [
    "hmm2 = unsupervised_HMM(obs, 2, 100)"
   ]
  },
  {
   "cell_type": "code",
   "execution_count": 5,
   "metadata": {},
   "outputs": [
    {
     "name": "stdout",
     "output_type": "stream",
     "text": [
      "Iteration: 10\n",
      "Iteration: 20\n",
      "Iteration: 30\n",
      "Iteration: 40\n",
      "Iteration: 50\n",
      "Iteration: 60\n",
      "Iteration: 70\n",
      "Iteration: 80\n",
      "Iteration: 90\n",
      "Iteration: 100\n"
     ]
    }
   ],
   "source": [
    "hmm4 = unsupervised_HMM(obs, 4, 100)"
   ]
  },
  {
   "cell_type": "code",
   "execution_count": 6,
   "metadata": {},
   "outputs": [
    {
     "name": "stdout",
     "output_type": "stream",
     "text": [
      "Iteration: 10\n",
      "Iteration: 20\n",
      "Iteration: 30\n",
      "Iteration: 40\n",
      "Iteration: 50\n",
      "Iteration: 60\n",
      "Iteration: 70\n",
      "Iteration: 80\n",
      "Iteration: 90\n",
      "Iteration: 100\n"
     ]
    }
   ],
   "source": [
    "hmm6 = unsupervised_HMM(obs, 6, 100)"
   ]
  },
  {
   "cell_type": "code",
   "execution_count": 7,
   "metadata": {},
   "outputs": [
    {
     "name": "stdout",
     "output_type": "stream",
     "text": [
      "Iteration: 10\n",
      "Iteration: 20\n",
      "Iteration: 30\n",
      "Iteration: 40\n",
      "Iteration: 50\n",
      "Iteration: 60\n",
      "Iteration: 70\n",
      "Iteration: 80\n",
      "Iteration: 90\n",
      "Iteration: 100\n"
     ]
    }
   ],
   "source": [
    "hmm8 = unsupervised_HMM(obs, 8, 100)"
   ]
  },
  {
   "cell_type": "code",
   "execution_count": 8,
   "metadata": {},
   "outputs": [
    {
     "name": "stdout",
     "output_type": "stream",
     "text": [
      "Iteration: 10\n",
      "Iteration: 20\n",
      "Iteration: 30\n",
      "Iteration: 40\n",
      "Iteration: 50\n",
      "Iteration: 60\n",
      "Iteration: 70\n",
      "Iteration: 80\n",
      "Iteration: 90\n",
      "Iteration: 100\n"
     ]
    }
   ],
   "source": [
    "hmm12 = unsupervised_HMM(obs, 12, 100)"
   ]
  },
  {
   "cell_type": "code",
   "execution_count": 29,
   "metadata": {},
   "outputs": [
    {
     "name": "stdout",
     "output_type": "stream",
     "text": [
      "Copy respose beautys about by husband unbred away,\n",
      "You which this a are as making thousand,\n",
      "Change or tribes compare thee like blood worth,\n",
      "Being i that of tenure fair thy white,\n",
      "Of in like spheres that thee thereby his,\n",
      "From as subdued should if in tattered tibey,\n",
      "One the a thou will as times eyes,\n",
      "Tallies him wrong pebbled and thee robbery my,\n",
      "Then they remembrance simple thy and swift the,\n",
      "This which o rich your wing else from,\n",
      "Help are which your these they beautys they,\n",
      "Sick which die untrue a verse thou press.\n",
      "Love fairer beauty thou their my where ten,\n",
      "Such comfort i sigh that love or you.\n"
     ]
    }
   ],
   "source": [
    "# in naive implementation, simply generate 14-line sonnet without enforcing rhyme/meter, etc.\n",
    "generate_obs(hmm2, obs_map)"
   ]
  },
  {
   "cell_type": "code",
   "execution_count": 27,
   "metadata": {},
   "outputs": [
    {
     "name": "stdout",
     "output_type": "stream",
     "text": [
      "Beauty art another bright muse false liker no\n",
      "Treasure carved bright rank the gaol wards of\n",
      "Deserving time tell bliss nor could i grace\n",
      "The scythe and word enough chopt by blenches\n",
      "Friends wit that being pretty sparkling hath they\n",
      "Thee of and hied princes respect for or\n",
      "Buried although are first for been another gone\n",
      "Life heavy proud the preventst every to this\n",
      "Eternity steel thine since not that thou cover\n",
      "Bare together swift that in watch but intents\n",
      "Say inhearse your thee yet one buried for\n",
      "Eyes my it but wit dressings the me\n",
      "Ere fortunes my gainer ocean eyes ground shall\n",
      "Well those am and they woes only the\n"
     ]
    }
   ],
   "source": [
    "for i in range(14):\n",
    "    print(sample_sentence(hmm2, obs_map, 8))"
   ]
  },
  {
   "cell_type": "code",
   "execution_count": 30,
   "metadata": {},
   "outputs": [
    {
     "name": "stdout",
     "output_type": "stream",
     "text": [
      "The carcanet one on my the within faults,\n",
      "Thou and buds like thee my thy which,\n",
      "Than tongue in thing and but no my,\n",
      "That so with stand a for their you,\n",
      "Me that face call heart faults lines the,\n",
      "Thence in abysm so from past my eye,\n",
      "Grow great of out my thy in music,\n",
      "Deep who is how would fire natures then,\n",
      "Tis that laws of have if as motion,\n",
      "It thy to canker of space thou should,\n",
      "Age when clock till heals high almost other,\n",
      "That unions lose summers on and errors better.\n",
      "Memory hue burning thy love hide thing thee,\n",
      "World once his which of i dye disdains.\n"
     ]
    }
   ],
   "source": [
    "generate_obs(hmm4, obs_map)"
   ]
  },
  {
   "cell_type": "code",
   "execution_count": 26,
   "metadata": {},
   "outputs": [
    {
     "name": "stdout",
     "output_type": "stream",
     "text": [
      "Built authority of kind universe to wish impression\n",
      "I leave self others from true phoenix true\n",
      "As the life bent till fast he and\n",
      "Spirit i eyes confined vilest stain thy beweep\n",
      "Creatures then beautys is thy where sight with\n",
      "Night art despised well that if in prove\n",
      "The truth from jewel it to unbless death\n",
      "Flower paying better me to my brand which\n",
      "Whom disgrace i which again and not to\n",
      "I dressed whilst all face shallowest natures it\n",
      "Eye come thou son that at eyes worthy\n",
      "Alas in your side thy a and is\n",
      "Cannot take a and sweetness that what the\n",
      "Were in there whose i which than then\n"
     ]
    }
   ],
   "source": [
    "for i in range(14):\n",
    "    print(sample_sentence(hmm4, obs_map, 8))"
   ]
  },
  {
   "cell_type": "code",
   "execution_count": 31,
   "metadata": {},
   "outputs": [
    {
     "name": "stdout",
     "output_type": "stream",
     "text": [
      "To make true should yet quenched all a,\n",
      "Like will no bring and with i bright,\n",
      "I if i pass of physician assailed the,\n",
      "Servant and things beauty but verse more swartcomplexioned,\n",
      "Hath by my slow dearth let sweet faculty,\n",
      "To be to the ill hand subject from,\n",
      "Words on seemed thou thou against that backward,\n",
      "Against mud tongue is this sensual hasten from,\n",
      "May with an foregone that whose i dearly,\n",
      "Oaths so love in youths of with mine,\n",
      "Beautys voices thee pity good again come correction,\n",
      "If in you in my chary of proved.\n",
      "Me sight mine are goest you wonder if,\n",
      "With assistance the eyes i know not eyes.\n"
     ]
    }
   ],
   "source": [
    "generate_obs(hmm6, obs_map)"
   ]
  },
  {
   "cell_type": "code",
   "execution_count": 25,
   "metadata": {},
   "outputs": [
    {
     "name": "stdout",
     "output_type": "stream",
     "text": [
      "Thy let store kills like matter be him\n",
      "Borrowed that with my one doting love since\n",
      "Other until his pity than self for take\n",
      "Of beauty act worms not that wet that\n",
      "Robbed thee that that help to what and\n",
      "Alone black year assailed goodness decay and age\n",
      "Spirits i for his i thee said the\n",
      "To brought with constant wrong or picture are\n",
      "Cheer prouder counting thy selflove and beauty thou\n",
      "Is follow taker peep forth praise locked my\n",
      "Through do brow in then eyes my self\n",
      "Far what might sullen errors be thy glass\n",
      "Black as rain of yet and hath in\n",
      "A plea comment progress to and to gift\n"
     ]
    }
   ],
   "source": [
    "for i in range(14):\n",
    "    print(sample_sentence(hmm6, obs_map, 8))"
   ]
  },
  {
   "cell_type": "code",
   "execution_count": 32,
   "metadata": {},
   "outputs": [
    {
     "name": "stdout",
     "output_type": "stream",
     "text": [
      "For and moving thousand confine all walks tomb,\n",
      "Counterpart she art stickst common subjects not that,\n",
      "Thee a hindmost or she which to windows,\n",
      "Away root of thou serving turn fickle thou,\n",
      "Like you to some revolt you stay whose,\n",
      "Put would all make is she of that,\n",
      "Lives that beguiled of ah if i more,\n",
      "Thee know i thee upon thou threw their,\n",
      "Substance all to make or doth loss be,\n",
      "For the too her thought thy show thus,\n",
      "Self long thus you mine basest dost and,\n",
      "Stands that all be any and every years.\n",
      "Shine eyes me nor birds and flattered upon,\n",
      "Crying poor night the in my tonguetied thou.\n"
     ]
    }
   ],
   "source": [
    "generate_obs(hmm8, obs_map)"
   ]
  },
  {
   "cell_type": "code",
   "execution_count": 24,
   "metadata": {},
   "outputs": [
    {
     "name": "stdout",
     "output_type": "stream",
     "text": [
      "Meet her his old full compare cheap open\n",
      "Taught hate of her rents eye heaven benefit\n",
      "Be tongue it forged now sinful war both\n",
      "What sendst but eyes nor hence nature if\n",
      "Their days powerful of after mortal i heavy\n",
      "I find too woos not flattery rightly then\n",
      "From from the right unlettered were for in\n",
      "Will do none haste that one pictures rage\n",
      "If against me mine show blushing heaven forgetst\n",
      "Is the form for of embassage your every\n",
      "And sport my in a strength the still\n",
      "I more in each slavery of shall of\n",
      "Richer times my authority song why that deaf\n",
      "Thee of any an now he dost medicine\n"
     ]
    }
   ],
   "source": [
    "for i in range(14):\n",
    "    print(sample_sentence(hmm8, obs_map, 8))"
   ]
  },
  {
   "cell_type": "code",
   "execution_count": 33,
   "metadata": {},
   "outputs": [
    {
     "name": "stdout",
     "output_type": "stream",
     "text": [
      "Themselves thoughts gainer seen or her can in,\n",
      "Walls selfsame as showst those budding respect though,\n",
      "Thou shame to me were gain in motion,\n",
      "Earth form for should thy to heavy and,\n",
      "Think on pride incertainties in thee is give,\n",
      "Heaven attaint dearer on this that skill slain,\n",
      "In the grief wardrobe where to must sacred,\n",
      "Say nothing and wilt heart none men thine,\n",
      "Since away the west will store rise childrens,\n",
      "For habit as thy posterity thy speak question,\n",
      "Since the bastard my loving disarmed sings must,\n",
      "Long the brain then no medicine thou augurs.\n",
      "Of you can i is my love nature,\n",
      "Is might of the as i for her.\n"
     ]
    }
   ],
   "source": [
    "generate_obs(hmm12, obs_map)"
   ]
  },
  {
   "cell_type": "code",
   "execution_count": 23,
   "metadata": {},
   "outputs": [
    {
     "name": "stdout",
     "output_type": "stream",
     "text": [
      "Praising shape send full substance in this will\n",
      "What and and prevailed thee sweet for eat\n",
      "Servants canker disgrace necessary you uprear thralled motion\n",
      "Same looking loved up the and style strangely\n",
      "On to mother doing no heart bear the\n",
      "Of eithers level suspect and me cup i\n",
      "Ground old just both you but or loves\n",
      "Look find reason sweetest from my dedicated to\n",
      "More then brief love end fore i express\n",
      "Out is change those love of days not\n",
      "Pale with his dispatch in this frame invited\n",
      "Be thing main suffered that best stars not\n",
      "I bareness my love now and i before\n",
      "Deface in such use of embassy all correct\n"
     ]
    }
   ],
   "source": [
    "for i in range(14):\n",
    "    print(sample_sentence(hmm12, obs_map, 8))"
   ]
  }
 ],
 "metadata": {
  "kernelspec": {
   "display_name": "Python 3",
   "language": "python",
   "name": "python3"
  },
  "language_info": {
   "codemirror_mode": {
    "name": "ipython",
    "version": 3
   },
   "file_extension": ".py",
   "mimetype": "text/x-python",
   "name": "python",
   "nbconvert_exporter": "python",
   "pygments_lexer": "ipython3",
   "version": "3.6.5"
  }
 },
 "nbformat": 4,
 "nbformat_minor": 2
}
