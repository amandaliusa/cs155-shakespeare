{
 "cells": [
  {
   "cell_type": "code",
   "execution_count": 7,
   "metadata": {},
   "outputs": [],
   "source": [
    "import os\n",
    "from ipynb.fs.full.preprocessing import parse_poems, parse_lines\n",
    "from HMM_soln import unsupervised_HMM"
   ]
  },
  {
   "cell_type": "code",
   "execution_count": 2,
   "metadata": {},
   "outputs": [],
   "source": [
    "def obs_map_reverser(obs_map):\n",
    "    obs_map_r = {}\n",
    "\n",
    "    for key in obs_map:\n",
    "        obs_map_r[obs_map[key]] = key\n",
    "\n",
    "    return obs_map_r\n",
    "\n",
    "def sample_sentence(hmm, obs_map, n_words=100):\n",
    "    # Get reverse map.\n",
    "    obs_map_r = obs_map_reverser(obs_map)\n",
    "\n",
    "    # Sample and convert sentence.\n",
    "    emission, states = hmm.generate_emission(n_words)\n",
    "    sentence = [obs_map_r[i] for i in emission]\n",
    "\n",
    "    return ' '.join(sentence).capitalize()\n",
    "\n",
    "def generate_obs(hmm, obs_map):\n",
    "    '''\n",
    "    Naively generates 14-line sonnet with 8 words each.\n",
    "    \n",
    "    Inputs:\n",
    "    hmm: trained hmm\n",
    "    obs_map: maps word to observation index\n",
    "    \n",
    "    Outputs:\n",
    "    None\n",
    "    '''\n",
    "    # generate all words in sonnet\n",
    "    all_words = sample_sentence(hmm, obs_map, 112)\n",
    "    all_words = all_words.split(' ')\n",
    "    \n",
    "    # split into 14 lines and add capitalization/naive punctuation\n",
    "    for i in range(14):\n",
    "        count = 0\n",
    "        line = ' '.join(all_words[i*8:(i+1)*8]).capitalize()\n",
    "        if i < 11 or i == 12:\n",
    "            line += ','\n",
    "        else:\n",
    "            line += '.'\n",
    "        print(line)\n",
    "\n",
    "def generate_by_line(hmm, obs_map):\n",
    "    for i in range(14):\n",
    "        line = sample_sentence(hmm, obs_map, 8)\n",
    "        if i < 11 or i == 12:\n",
    "            line += ','\n",
    "        else:\n",
    "            line += '.'\n",
    "        print(line)"
   ]
  },
  {
   "cell_type": "code",
   "execution_count": 4,
   "metadata": {},
   "outputs": [],
   "source": [
    "text = open(os.path.join(os.getcwd(), 'data/shakespeare.txt')).read()\n",
    "obs, obs_map = parse_poems(text)"
   ]
  },
  {
   "cell_type": "code",
   "execution_count": 5,
   "metadata": {},
   "outputs": [
    {
     "name": "stdout",
     "output_type": "stream",
     "text": [
      "Iteration: 10\n",
      "Iteration: 20\n",
      "Iteration: 30\n",
      "Iteration: 40\n",
      "Iteration: 50\n",
      "Iteration: 60\n",
      "Iteration: 70\n",
      "Iteration: 80\n",
      "Iteration: 90\n",
      "Iteration: 100\n"
     ]
    }
   ],
   "source": [
    "hmm2 = unsupervised_HMM(obs, 2, 100)"
   ]
  },
  {
   "cell_type": "code",
   "execution_count": null,
   "metadata": {},
   "outputs": [],
   "source": [
    "hmm4 = unsupervised_HMM(obs, 4, 100)"
   ]
  },
  {
   "cell_type": "code",
   "execution_count": 8,
   "metadata": {},
   "outputs": [],
   "source": [
    "obs2, obs2_map = parse_lines(text)"
   ]
  },
  {
   "cell_type": "code",
   "execution_count": 9,
   "metadata": {},
   "outputs": [
    {
     "name": "stdout",
     "output_type": "stream",
     "text": [
      "Iteration: 10\n",
      "Iteration: 20\n",
      "Iteration: 30\n",
      "Iteration: 40\n",
      "Iteration: 50\n"
     ]
    },
    {
     "ename": "KeyboardInterrupt",
     "evalue": "",
     "output_type": "error",
     "traceback": [
      "\u001b[1;31m---------------------------------------------------------------------------\u001b[0m",
      "\u001b[1;31mKeyboardInterrupt\u001b[0m                         Traceback (most recent call last)",
      "\u001b[1;32m<ipython-input-9-71b7c88a3cc6>\u001b[0m in \u001b[0;36m<module>\u001b[1;34m()\u001b[0m\n\u001b[1;32m----> 1\u001b[1;33m \u001b[0mhmm2_2\u001b[0m \u001b[1;33m=\u001b[0m \u001b[0munsupervised_HMM\u001b[0m\u001b[1;33m(\u001b[0m\u001b[0mobs2\u001b[0m\u001b[1;33m,\u001b[0m \u001b[1;36m2\u001b[0m\u001b[1;33m,\u001b[0m \u001b[1;36m100\u001b[0m\u001b[1;33m)\u001b[0m\u001b[1;33m\u001b[0m\u001b[0m\n\u001b[0m",
      "\u001b[1;32m~\\Documents\\GitHub\\cs155-shakespeare\\HMM_soln.py\u001b[0m in \u001b[0;36munsupervised_HMM\u001b[1;34m(X, n_states, N_iters)\u001b[0m\n\u001b[0;32m    576\u001b[0m     \u001b[1;31m# Train an HMM with unlabeled data.\u001b[0m\u001b[1;33m\u001b[0m\u001b[1;33m\u001b[0m\u001b[0m\n\u001b[0;32m    577\u001b[0m     \u001b[0mHMM\u001b[0m \u001b[1;33m=\u001b[0m \u001b[0mHiddenMarkovModel\u001b[0m\u001b[1;33m(\u001b[0m\u001b[0mA\u001b[0m\u001b[1;33m,\u001b[0m \u001b[0mO\u001b[0m\u001b[1;33m)\u001b[0m\u001b[1;33m\u001b[0m\u001b[0m\n\u001b[1;32m--> 578\u001b[1;33m     \u001b[0mHMM\u001b[0m\u001b[1;33m.\u001b[0m\u001b[0munsupervised_learning\u001b[0m\u001b[1;33m(\u001b[0m\u001b[0mX\u001b[0m\u001b[1;33m,\u001b[0m \u001b[0mN_iters\u001b[0m\u001b[1;33m)\u001b[0m\u001b[1;33m\u001b[0m\u001b[0m\n\u001b[0m\u001b[0;32m    579\u001b[0m \u001b[1;33m\u001b[0m\u001b[0m\n\u001b[0;32m    580\u001b[0m     \u001b[1;32mreturn\u001b[0m \u001b[0mHMM\u001b[0m\u001b[1;33m\u001b[0m\u001b[0m\n",
      "\u001b[1;32m~\\Documents\\GitHub\\cs155-shakespeare\\HMM_soln.py\u001b[0m in \u001b[0;36munsupervised_learning\u001b[1;34m(self, X, N_iters)\u001b[0m\n\u001b[0;32m    355\u001b[0m \u001b[1;33m\u001b[0m\u001b[0m\n\u001b[0;32m    356\u001b[0m                     \u001b[1;32mfor\u001b[0m \u001b[0mcurr\u001b[0m \u001b[1;32min\u001b[0m \u001b[0mrange\u001b[0m\u001b[1;33m(\u001b[0m\u001b[0mself\u001b[0m\u001b[1;33m.\u001b[0m\u001b[0mL\u001b[0m\u001b[1;33m)\u001b[0m\u001b[1;33m:\u001b[0m\u001b[1;33m\u001b[0m\u001b[0m\n\u001b[1;32m--> 357\u001b[1;33m                         \u001b[1;32mfor\u001b[0m \u001b[0mnxt\u001b[0m \u001b[1;32min\u001b[0m \u001b[0mrange\u001b[0m\u001b[1;33m(\u001b[0m\u001b[0mself\u001b[0m\u001b[1;33m.\u001b[0m\u001b[0mL\u001b[0m\u001b[1;33m)\u001b[0m\u001b[1;33m:\u001b[0m\u001b[1;33m\u001b[0m\u001b[0m\n\u001b[0m\u001b[0;32m    358\u001b[0m                             \u001b[0mP_curr_nxt\u001b[0m\u001b[1;33m[\u001b[0m\u001b[0mcurr\u001b[0m\u001b[1;33m]\u001b[0m\u001b[1;33m[\u001b[0m\u001b[0mnxt\u001b[0m\u001b[1;33m]\u001b[0m \u001b[1;33m=\u001b[0m \u001b[0malphas\u001b[0m\u001b[1;33m[\u001b[0m\u001b[0mt\u001b[0m\u001b[1;33m]\u001b[0m\u001b[1;33m[\u001b[0m\u001b[0mcurr\u001b[0m\u001b[1;33m]\u001b[0m\u001b[0;31m \u001b[0m\u001b[0;31m\\\u001b[0m\u001b[1;33m\u001b[0m\u001b[0m\n\u001b[0;32m    359\u001b[0m                                                     \u001b[1;33m*\u001b[0m \u001b[0mself\u001b[0m\u001b[1;33m.\u001b[0m\u001b[0mA\u001b[0m\u001b[1;33m[\u001b[0m\u001b[0mcurr\u001b[0m\u001b[1;33m]\u001b[0m\u001b[1;33m[\u001b[0m\u001b[0mnxt\u001b[0m\u001b[1;33m]\u001b[0m\u001b[0;31m \u001b[0m\u001b[0;31m\\\u001b[0m\u001b[1;33m\u001b[0m\u001b[0m\n",
      "\u001b[1;31mKeyboardInterrupt\u001b[0m: "
     ]
    }
   ],
   "source": [
    "hmm2_2 = unsupervised_HMM(obs2, 2, 100)"
   ]
  },
  {
   "cell_type": "code",
   "execution_count": null,
   "metadata": {},
   "outputs": [],
   "source": [
    "hmm6 = unsupervised_HMM(obs, 6, 100)"
   ]
  },
  {
   "cell_type": "code",
   "execution_count": null,
   "metadata": {},
   "outputs": [],
   "source": [
    "hmm8 = unsupervised_HMM(obs, 8, 100)"
   ]
  },
  {
   "cell_type": "code",
   "execution_count": null,
   "metadata": {},
   "outputs": [],
   "source": [
    "hmm12 = unsupervised_HMM(obs, 12, 100)"
   ]
  },
  {
   "cell_type": "code",
   "execution_count": 29,
   "metadata": {},
   "outputs": [
    {
     "name": "stdout",
     "output_type": "stream",
     "text": [
      "Copy respose beautys about by husband unbred away,\n",
      "You which this a are as making thousand,\n",
      "Change or tribes compare thee like blood worth,\n",
      "Being i that of tenure fair thy white,\n",
      "Of in like spheres that thee thereby his,\n",
      "From as subdued should if in tattered tibey,\n",
      "One the a thou will as times eyes,\n",
      "Tallies him wrong pebbled and thee robbery my,\n",
      "Then they remembrance simple thy and swift the,\n",
      "This which o rich your wing else from,\n",
      "Help are which your these they beautys they,\n",
      "Sick which die untrue a verse thou press.\n",
      "Love fairer beauty thou their my where ten,\n",
      "Such comfort i sigh that love or you.\n"
     ]
    }
   ],
   "source": [
    "# in naive implementation, simply generate 14-line sonnet without enforcing rhyme/meter, etc.\n",
    "generate_obs(hmm2, obs_map)"
   ]
  },
  {
   "cell_type": "code",
   "execution_count": 35,
   "metadata": {},
   "outputs": [
    {
     "name": "stdout",
     "output_type": "stream",
     "text": [
      "Restore i and for shape thee cause so,\n",
      "The gave hung me o which of active,\n",
      "They are careful senses each doth thou th,\n",
      "Grace gaze use services least charge of been,\n",
      "My i now will thus and art born,\n",
      "Much be you so but be out self,\n",
      "Feast worthy state there store winter not the,\n",
      "Writ muse swear sweet than is never and,\n",
      "Surmount minds thee mayst and worth memory tell,\n",
      "By watch thy have o climbed sorrow child,\n",
      "State servants moon do for than wronk so,\n",
      "Sweet these is you not some whoever hence.\n",
      "Back let mine being but of and the,\n",
      "Which fresher one to the art fair laid.\n"
     ]
    }
   ],
   "source": [
    "generate_by_line(hmm2, obs_map)"
   ]
  },
  {
   "cell_type": "code",
   "execution_count": 30,
   "metadata": {},
   "outputs": [
    {
     "name": "stdout",
     "output_type": "stream",
     "text": [
      "The carcanet one on my the within faults,\n",
      "Thou and buds like thee my thy which,\n",
      "Than tongue in thing and but no my,\n",
      "That so with stand a for their you,\n",
      "Me that face call heart faults lines the,\n",
      "Thence in abysm so from past my eye,\n",
      "Grow great of out my thy in music,\n",
      "Deep who is how would fire natures then,\n",
      "Tis that laws of have if as motion,\n",
      "It thy to canker of space thou should,\n",
      "Age when clock till heals high almost other,\n",
      "That unions lose summers on and errors better.\n",
      "Memory hue burning thy love hide thing thee,\n",
      "World once his which of i dye disdains.\n"
     ]
    }
   ],
   "source": [
    "generate_obs(hmm4, obs_map)"
   ]
  },
  {
   "cell_type": "code",
   "execution_count": 37,
   "metadata": {},
   "outputs": [
    {
     "name": "stdout",
     "output_type": "stream",
     "text": [
      "I of a nor me earth foison but,\n",
      "My as not time me should therefore grant,\n",
      "By choirs that care lines love to more,\n",
      "Hidden and truth the me and die to,\n",
      "Poets green shun the their trespass sweet great,\n",
      "Which purging i suggest my bad keeps patient,\n",
      "Outward charged is his but are now is,\n",
      "Thee what loves endless if a for th,\n",
      "Thoughts with checked love time canker and me,\n",
      "That it himself by child above teeth of,\n",
      "Might comments their loves form in rose hold,\n",
      "To i those beauty might spite of have.\n",
      "Doth his that thou but virtue say gives,\n",
      "Say stores for it of i besides hand.\n"
     ]
    }
   ],
   "source": [
    "generate_by_line(hmm4, obs_map)"
   ]
  },
  {
   "cell_type": "code",
   "execution_count": 31,
   "metadata": {},
   "outputs": [
    {
     "name": "stdout",
     "output_type": "stream",
     "text": [
      "To make true should yet quenched all a,\n",
      "Like will no bring and with i bright,\n",
      "I if i pass of physician assailed the,\n",
      "Servant and things beauty but verse more swartcomplexioned,\n",
      "Hath by my slow dearth let sweet faculty,\n",
      "To be to the ill hand subject from,\n",
      "Words on seemed thou thou against that backward,\n",
      "Against mud tongue is this sensual hasten from,\n",
      "May with an foregone that whose i dearly,\n",
      "Oaths so love in youths of with mine,\n",
      "Beautys voices thee pity good again come correction,\n",
      "If in you in my chary of proved.\n",
      "Me sight mine are goest you wonder if,\n",
      "With assistance the eyes i know not eyes.\n"
     ]
    }
   ],
   "source": [
    "generate_obs(hmm6, obs_map)"
   ]
  },
  {
   "cell_type": "code",
   "execution_count": 38,
   "metadata": {},
   "outputs": [
    {
     "name": "stdout",
     "output_type": "stream",
     "text": [
      "Do beauteous your life be been in a,\n",
      "Three space and and beauty and takes i,\n",
      "Say as absence finger doth should beard your,\n",
      "I fast art a slanderers and your heard,\n",
      "Fair in illused thought will this great where,\n",
      "To pleasure think make unhappily hold so seeing,\n",
      "Profit my truth commence then in thou o,\n",
      "Ills might stand thou though must is me,\n",
      "Past you more errors wet my scorn had,\n",
      "My every ground fair within love you tell,\n",
      "Though but clear be water with in sweet,\n",
      "Mine thought she for thy gentle side have.\n",
      "Of my by self should thou keeps her,\n",
      "Left made and days within you without that.\n"
     ]
    }
   ],
   "source": [
    "generate_by_line(hmm6, obs_map)"
   ]
  },
  {
   "cell_type": "code",
   "execution_count": 32,
   "metadata": {},
   "outputs": [
    {
     "name": "stdout",
     "output_type": "stream",
     "text": [
      "For and moving thousand confine all walks tomb,\n",
      "Counterpart she art stickst common subjects not that,\n",
      "Thee a hindmost or she which to windows,\n",
      "Away root of thou serving turn fickle thou,\n",
      "Like you to some revolt you stay whose,\n",
      "Put would all make is she of that,\n",
      "Lives that beguiled of ah if i more,\n",
      "Thee know i thee upon thou threw their,\n",
      "Substance all to make or doth loss be,\n",
      "For the too her thought thy show thus,\n",
      "Self long thus you mine basest dost and,\n",
      "Stands that all be any and every years.\n",
      "Shine eyes me nor birds and flattered upon,\n",
      "Crying poor night the in my tonguetied thou.\n"
     ]
    }
   ],
   "source": [
    "generate_obs(hmm8, obs_map)"
   ]
  },
  {
   "cell_type": "code",
   "execution_count": 39,
   "metadata": {},
   "outputs": [
    {
     "name": "stdout",
     "output_type": "stream",
     "text": [
      "Interest of beauteous nor pays it how her,\n",
      "Muse enjoy sauces so a hath shalt i,\n",
      "And loving and my patent days wherethrough thou,\n",
      "What thy wits thy eternal stained and i,\n",
      "Our sight times mistress no hide a they,\n",
      "I longer nor store be manners doth my,\n",
      "Being my without pleasure where had with against,\n",
      "Prove me of speak in what mansion break,\n",
      "By all my soul false day a gentle,\n",
      "Him more i faster i unless thou example,\n",
      "Doth having divine she against despise thee could,\n",
      "And might your on commit to into my.\n",
      "Mountain calls from overturn sunk fair plants daily,\n",
      "In with cupid the hill many for which.\n"
     ]
    }
   ],
   "source": [
    "generate_by_line(hmm8, obs_map)"
   ]
  },
  {
   "cell_type": "code",
   "execution_count": 33,
   "metadata": {},
   "outputs": [
    {
     "name": "stdout",
     "output_type": "stream",
     "text": [
      "Themselves thoughts gainer seen or her can in,\n",
      "Walls selfsame as showst those budding respect though,\n",
      "Thou shame to me were gain in motion,\n",
      "Earth form for should thy to heavy and,\n",
      "Think on pride incertainties in thee is give,\n",
      "Heaven attaint dearer on this that skill slain,\n",
      "In the grief wardrobe where to must sacred,\n",
      "Say nothing and wilt heart none men thine,\n",
      "Since away the west will store rise childrens,\n",
      "For habit as thy posterity thy speak question,\n",
      "Since the bastard my loving disarmed sings must,\n",
      "Long the brain then no medicine thou augurs.\n",
      "Of you can i is my love nature,\n",
      "Is might of the as i for her.\n"
     ]
    }
   ],
   "source": [
    "generate_obs(hmm12, obs_map)"
   ]
  },
  {
   "cell_type": "code",
   "execution_count": 40,
   "metadata": {},
   "outputs": [
    {
     "name": "stdout",
     "output_type": "stream",
     "text": [
      "Complain thing now doting if thy heart state,\n",
      "I o he an loves upon my receivst,\n",
      "Thy shall up the self come false they,\n",
      "We excuse reeleth of presents mind wit embassage,\n",
      "Me therefore doth strange now deaths riot being,\n",
      "Let she twain where just face picture be,\n",
      "Canopy delivered night muse gain wilt womens sweetness,\n",
      "Rosy love doom but i when so death,\n",
      "Shall like define with thee of the most,\n",
      "At again april a lasting thus it cut,\n",
      "If seen follow my heart maketh this windows,\n",
      "Then right his if under we stronger on.\n",
      "Vanished beauty roses hate little as nor is,\n",
      "Lies else no my it shines forth thee.\n"
     ]
    }
   ],
   "source": [
    "generate_by_line(hmm12, obs_map)"
   ]
  }
 ],
 "metadata": {
  "kernelspec": {
   "display_name": "Python 3",
   "language": "python",
   "name": "python3"
  },
  "language_info": {
   "codemirror_mode": {
    "name": "ipython",
    "version": 3
   },
   "file_extension": ".py",
   "mimetype": "text/x-python",
   "name": "python",
   "nbconvert_exporter": "python",
   "pygments_lexer": "ipython3",
   "version": "3.6.5"
  }
 },
 "nbformat": 4,
 "nbformat_minor": 2
}
