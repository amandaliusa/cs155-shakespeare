{
 "cells": [
  {
   "cell_type": "code",
   "execution_count": 16,
   "metadata": {},
   "outputs": [],
   "source": [
    "import os\n",
    "import re\n",
    "import numpy as np\n",
    "\n",
    "from keras.models import Sequential\n",
    "from keras.layers import Dense, Dropout, LSTM\n",
    "from keras.callbacks import ModelCheckpoint\n",
    "from keras.utils import np_utils"
   ]
  },
  {
   "cell_type": "code",
   "execution_count": 31,
   "metadata": {},
   "outputs": [],
   "source": [
    "# load data\n",
    "text = open(os.path.join(os.getcwd(), 'data/shakespeare.txt')).read()\n",
    "\n",
    "# remove sonnet numbers and convert to lowercase\n",
    "text = re.sub(r'[0-9]+', '', text) \n",
    "text = text.lower()\n",
    "\n",
    "# create mapping of unique chars to integers\n",
    "chars = sorted(list(set(text)))\n",
    "char_to_int = dict((c, i) for i, c in enumerate(chars))\n",
    "\n",
    "n_chars = len(text) # total length of dataset\n",
    "n_vocab = len(chars) # number of unique characters"
   ]
  },
  {
   "cell_type": "code",
   "execution_count": 34,
   "metadata": {},
   "outputs": [],
   "source": [
    "# prepare the dataset of input to output pairs encoded as integers\n",
    "seq_length = 40\n",
    "dataX = []\n",
    "dataY = []\n",
    "\n",
    "# use sliding window approach\n",
    "for i in range(0, n_chars - seq_length, 1):\n",
    "    seq_in = text[i:i + seq_length]\n",
    "    seq_out = text[i + seq_length]\n",
    "    dataX.append([char_to_int[char] for char in seq_in])\n",
    "    dataY.append(char_to_int[seq_out])\n",
    "    \n",
    "n_sequences = len(dataX)"
   ]
  },
  {
   "cell_type": "code",
   "execution_count": 38,
   "metadata": {},
   "outputs": [],
   "source": [
    "# reshape X to be [samples, time steps, features]\n",
    "X = np.reshape(dataX, (n_sequences, seq_length, 1))\n",
    "\n",
    "# normalize data to range (0, 1)\n",
    "X = X / float(n_vocab)\n",
    "\n",
    "# one hot encode the output variable\n",
    "y = np_utils.to_categorical(dataY)"
   ]
  },
  {
   "cell_type": "code",
   "execution_count": 39,
   "metadata": {},
   "outputs": [],
   "source": [
    "# define the LSTM model \n",
    "# (single layer with 150 units, followed by dense output layer)\n",
    "model = Sequential()\n",
    "model.add(LSTM(150, input_shape=(X.shape[1], X.shape[2])))\n",
    "model.add(Dropout(0.2))\n",
    "model.add(Dense(y.shape[1], activation='softmax'))\n",
    "model.compile(loss='categorical_crossentropy', optimizer='adam')"
   ]
  },
  {
   "cell_type": "code",
   "execution_count": 40,
   "metadata": {},
   "outputs": [],
   "source": [
    "# define the checkpoint\n",
    "filepath=\"weights-improvement-{epoch:02d}-{loss:.4f}.hdf5\"\n",
    "checkpoint = ModelCheckpoint(filepath, monitor='loss', verbose=1, save_best_only=True, mode='min')\n",
    "callbacks_list = [checkpoint]"
   ]
  },
  {
   "cell_type": "code",
   "execution_count": null,
   "metadata": {},
   "outputs": [
    {
     "name": "stdout",
     "output_type": "stream",
     "text": [
      "Epoch 1/20\n",
      "97635/97635 [==============================] - 83s 854us/step - loss: 1.8528\n",
      "\n",
      "Epoch 00001: loss improved from 1.85569 to 1.85279, saving model to weights-improvement-01-1.8528.hdf5\n",
      "Epoch 2/20\n",
      "97635/97635 [==============================] - 81s 830us/step - loss: 1.8511\n",
      "\n",
      "Epoch 00002: loss improved from 1.85279 to 1.85106, saving model to weights-improvement-02-1.8511.hdf5\n",
      "Epoch 3/20\n",
      "97635/97635 [==============================] - 81s 825us/step - loss: 1.8436\n",
      "\n",
      "Epoch 00003: loss improved from 1.85106 to 1.84358, saving model to weights-improvement-03-1.8436.hdf5\n",
      "Epoch 4/20\n",
      "97635/97635 [==============================] - 86s 884us/step - loss: 1.8392\n",
      "\n",
      "Epoch 00004: loss improved from 1.84358 to 1.83917, saving model to weights-improvement-04-1.8392.hdf5\n",
      "Epoch 5/20\n",
      "97635/97635 [==============================] - 91s 927us/step - loss: 1.8358\n",
      "\n",
      "Epoch 00005: loss improved from 1.83917 to 1.83583, saving model to weights-improvement-05-1.8358.hdf5\n",
      "Epoch 6/20\n",
      "97635/97635 [==============================] - 93s 954us/step - loss: 1.8354\n",
      "\n",
      "Epoch 00006: loss improved from 1.83583 to 1.83535, saving model to weights-improvement-06-1.8354.hdf5\n",
      "Epoch 7/20\n",
      "97635/97635 [==============================] - 107s 1ms/step - loss: 1.8302\n",
      "\n",
      "Epoch 00007: loss improved from 1.83535 to 1.83015, saving model to weights-improvement-07-1.8302.hdf5\n",
      "Epoch 8/20\n",
      "97635/97635 [==============================] - 100s 1ms/step - loss: 1.8293\n",
      "\n",
      "Epoch 00008: loss improved from 1.83015 to 1.82928, saving model to weights-improvement-08-1.8293.hdf5\n",
      "Epoch 9/20\n",
      "97635/97635 [==============================] - 91s 927us/step - loss: 1.8281\n",
      "\n",
      "Epoch 00009: loss improved from 1.82928 to 1.82812, saving model to weights-improvement-09-1.8281.hdf5\n",
      "Epoch 10/20\n",
      "97635/97635 [==============================] - 83s 846us/step - loss: 1.8221\n",
      "\n",
      "Epoch 00010: loss improved from 1.82812 to 1.82212, saving model to weights-improvement-10-1.8221.hdf5\n",
      "Epoch 11/20\n",
      "97635/97635 [==============================] - 82s 839us/step - loss: 1.8194\n",
      "\n",
      "Epoch 00011: loss improved from 1.82212 to 1.81940, saving model to weights-improvement-11-1.8194.hdf5\n",
      "Epoch 12/20\n",
      "97635/97635 [==============================] - 80s 820us/step - loss: 1.8109\n",
      "\n",
      "Epoch 00012: loss improved from 1.81940 to 1.81090, saving model to weights-improvement-12-1.8109.hdf5\n",
      "Epoch 13/20\n",
      "97635/97635 [==============================] - 82s 845us/step - loss: 1.8101\n",
      "\n",
      "Epoch 00013: loss improved from 1.81090 to 1.81007, saving model to weights-improvement-13-1.8101.hdf5\n",
      "Epoch 14/20\n",
      "97635/97635 [==============================] - 77s 789us/step - loss: 1.8058\n",
      "\n",
      "Epoch 00014: loss improved from 1.81007 to 1.80577, saving model to weights-improvement-14-1.8058.hdf5\n",
      "Epoch 15/20\n",
      "81280/97635 [=======================>......] - ETA: 13s - loss: 1.8018 ETA: "
     ]
    }
   ],
   "source": [
    "# train the model\n",
    "model.fit(X, y, epochs=20, batch_size=128, callbacks=callbacks_list)"
   ]
  }
 ],
 "metadata": {
  "kernelspec": {
   "display_name": "Python 3",
   "language": "python",
   "name": "python3"
  },
  "language_info": {
   "codemirror_mode": {
    "name": "ipython",
    "version": 3
   },
   "file_extension": ".py",
   "mimetype": "text/x-python",
   "name": "python",
   "nbconvert_exporter": "python",
   "pygments_lexer": "ipython3",
   "version": "3.6.5"
  }
 },
 "nbformat": 4,
 "nbformat_minor": 4
}
