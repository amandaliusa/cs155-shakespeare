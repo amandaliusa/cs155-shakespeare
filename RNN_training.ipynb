{
 "cells": [
  {
   "cell_type": "code",
   "execution_count": 16,
   "metadata": {},
   "outputs": [],
   "source": [
    "import os\n",
    "import re\n",
    "import numpy as np\n",
    "\n",
    "from keras.models import Sequential\n",
    "from keras.layers import Dense, Dropout, LSTM\n",
    "from keras.callbacks import ModelCheckpoint\n",
    "from keras.utils import np_utils"
   ]
  },
  {
   "cell_type": "code",
   "execution_count": 31,
   "metadata": {},
   "outputs": [],
   "source": [
    "# load data\n",
    "text = open(os.path.join(os.getcwd(), 'data/shakespeare.txt')).read()\n",
    "\n",
    "# remove sonnet numbers and convert to lowercase\n",
    "text = re.sub(r'[0-9]+', '', text) \n",
    "text = text.lower()\n",
    "\n",
    "# create mapping of unique chars to integers\n",
    "chars = sorted(list(set(text)))\n",
    "char_map = dict((c, i) for i, c in enumerate(chars))\n",
    "\n",
    "n_chars = len(text) # total length of dataset\n",
    "n_vocab = len(chars) # number of unique characters"
   ]
  },
  {
   "cell_type": "code",
   "execution_count": 34,
   "metadata": {},
   "outputs": [],
   "source": [
    "# prepare the dataset of input to output pairs encoded as integers\n",
    "seq_length = 40\n",
    "dataX = []\n",
    "dataY = []\n",
    "\n",
    "# use sliding window approach\n",
    "for i in range(0, n_chars - seq_length, 1):\n",
    "    seq_in = text[i:i + seq_length]\n",
    "    seq_out = text[i + seq_length]\n",
    "    dataX.append([char_map[char] for char in seq_in])\n",
    "    dataY.append(char_map[seq_out])\n",
    "    \n",
    "n_sequences = len(dataX)"
   ]
  },
  {
   "cell_type": "code",
   "execution_count": 38,
   "metadata": {},
   "outputs": [],
   "source": [
    "# reshape X to be [samples, time steps, features]\n",
    "X = np.reshape(dataX, (n_sequences, seq_length, 1))\n",
    "\n",
    "# normalize data to range (0, 1)\n",
    "X = X / float(n_vocab)\n",
    "\n",
    "# one hot encode the output variable\n",
    "y = np_utils.to_categorical(dataY)"
   ]
  },
  {
   "cell_type": "code",
   "execution_count": 39,
   "metadata": {},
   "outputs": [],
   "source": [
    "# define the LSTM model \n",
    "# (single layer with 150 units, followed by dense output layer)\n",
    "model = Sequential()\n",
    "model.add(LSTM(150, input_shape=(X.shape[1], X.shape[2])))\n",
    "model.add(Dropout(0.2))\n",
    "model.add(Dense(y.shape[1], activation='softmax'))\n",
    "model.compile(loss='categorical_crossentropy', optimizer='adam')"
   ]
  },
  {
   "cell_type": "code",
   "execution_count": 40,
   "metadata": {},
   "outputs": [],
   "source": [
    "# define the checkpoint\n",
    "filepath=\"weights-improvement-{epoch:02d}-{loss:.4f}.hdf5\"\n",
    "checkpoint = ModelCheckpoint(filepath, monitor='loss', verbose=1, save_best_only=True, mode='min')\n",
    "callbacks_list = [checkpoint]"
   ]
  },
  {
   "cell_type": "code",
   "execution_count": null,
   "metadata": {},
   "outputs": [
    {
     "name": "stdout",
     "output_type": "stream",
     "text": [
      "Epoch 1/20\n",
      "97635/97635 [==============================] - 109s 1ms/step - loss: 2.9460\n",
      "\n",
      "Epoch 00001: loss improved from inf to 2.94602, saving model to weights-improvement-01-2.9460.hdf5\n",
      "Epoch 2/20\n",
      "97635/97635 [==============================] - 158s 2ms/step - loss: 2.7562\n",
      "\n",
      "Epoch 00002: loss improved from 2.94602 to 2.75622, saving model to weights-improvement-02-2.7562.hdf5\n",
      "Epoch 3/20\n",
      "97635/97635 [==============================] - 91s 929us/step - loss: 2.6268\n",
      "\n",
      "Epoch 00004: loss improved from 2.67499 to 2.62684, saving model to weights-improvement-04-2.6268.hdf5\n",
      "Epoch 5/20\n",
      "97635/97635 [==============================] - 117s 1ms/step - loss: 2.5885\n",
      "\n",
      "Epoch 00005: loss improved from 2.62684 to 2.58854, saving model to weights-improvement-05-2.5885.hdf5\n",
      "Epoch 6/20\n",
      "97635/97635 [==============================] - 104s 1ms/step - loss: 2.5607\n",
      "\n",
      "Epoch 00006: loss improved from 2.58854 to 2.56071, saving model to weights-improvement-06-2.5607.hdf5\n",
      "Epoch 7/20\n",
      "97635/97635 [==============================] - 104s 1ms/step - loss: 2.5345\n",
      "\n",
      "Epoch 00007: loss improved from 2.56071 to 2.53454, saving model to weights-improvement-07-2.5345.hdf5\n",
      "Epoch 8/20\n",
      "97635/97635 [==============================] - 106s 1ms/step - loss: 2.5115\n",
      "\n",
      "Epoch 00008: loss improved from 2.53454 to 2.51146, saving model to weights-improvement-08-2.5115.hdf5\n",
      "Epoch 9/20\n",
      "97635/97635 [==============================] - 100s 1ms/step - loss: 2.4909\n",
      "\n",
      "Epoch 00009: loss improved from 2.51146 to 2.49091, saving model to weights-improvement-09-2.4909.hdf5\n",
      "Epoch 10/20\n",
      "97635/97635 [==============================] - 121s 1ms/step - loss: 2.4734\n",
      "\n",
      "Epoch 00010: loss improved from 2.49091 to 2.47344, saving model to weights-improvement-10-2.4734.hdf5\n",
      "Epoch 11/20\n",
      "97635/97635 [==============================] - 110s 1ms/step - loss: 2.4545\n",
      "\n",
      "Epoch 00011: loss improved from 2.47344 to 2.45447, saving model to weights-improvement-11-2.4545.hdf5\n",
      "Epoch 12/20\n",
      "97635/97635 [==============================] - 91s 935us/step - loss: 2.4394\n",
      "\n",
      "Epoch 00012: loss improved from 2.45447 to 2.43935, saving model to weights-improvement-12-2.4394.hdf5\n",
      "Epoch 13/20\n",
      "97635/97635 [==============================] - 116s 1ms/step - loss: 2.4225\n",
      "\n",
      "Epoch 00013: loss improved from 2.43935 to 2.42249, saving model to weights-improvement-13-2.4225.hdf5\n",
      "Epoch 14/20\n",
      "97635/97635 [==============================] - 101s 1ms/step - loss: 2.4046\n",
      "\n",
      "Epoch 00014: loss improved from 2.42249 to 2.40463, saving model to weights-improvement-14-2.4046.hdf5\n",
      "Epoch 15/20\n",
      "40832/97635 [===========>..................] - ETA: 58s - loss: 2.3855"
     ]
    }
   ],
   "source": [
    "# train the model\n",
    "model.fit(X, y, epochs=20, batch_size=128, callbacks=callbacks_list)"
   ]
  }
 ],
 "metadata": {
  "kernelspec": {
   "display_name": "Python 3",
   "language": "python",
   "name": "python3"
  },
  "language_info": {
   "codemirror_mode": {
    "name": "ipython",
    "version": 3
   },
   "file_extension": ".py",
   "mimetype": "text/x-python",
   "name": "python",
   "nbconvert_exporter": "python",
   "pygments_lexer": "ipython3",
   "version": "3.6.5"
  }
 },
 "nbformat": 4,
 "nbformat_minor": 4
}
