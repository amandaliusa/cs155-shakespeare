{
 "cells": [
  {
   "cell_type": "code",
   "execution_count": 17,
   "metadata": {},
   "outputs": [],
   "source": [
    "import os\n",
    "import re\n",
    "import numpy as np\n",
    "\n",
    "from keras.models import Sequential\n",
    "from keras.layers import Dense, Dropout, LSTM\n",
    "from keras.callbacks import ModelCheckpoint\n",
    "from keras.utils import np_utils"
   ]
  },
  {
   "cell_type": "code",
   "execution_count": 18,
   "metadata": {},
   "outputs": [],
   "source": [
    "# load data\n",
    "text = open(os.path.join(os.getcwd(), 'data/shakespeare.txt')).read()\n",
    "\n",
    "# remove sonnet numbers and convert to lowercase\n",
    "text = re.sub(r'[0-9]+', '', text) \n",
    "text = text.lower()\n",
    "\n",
    "# create mapping of unique chars to integers\n",
    "chars = sorted(list(set(text)))\n",
    "char_to_int = dict((c, i) for i, c in enumerate(chars))\n",
    "\n",
    "n_chars = len(text) # total length of dataset\n",
    "n_vocab = len(chars) # number of unique characters"
   ]
  },
  {
   "cell_type": "code",
   "execution_count": 19,
   "metadata": {},
   "outputs": [],
   "source": [
    "# prepare the dataset of input to output pairs encoded as integers\n",
    "seq_length = 40\n",
    "dataX = []\n",
    "dataY = []\n",
    "\n",
    "# use sliding window approach\n",
    "for i in range(0, n_chars - seq_length, 1):\n",
    "    seq_in = text[i:i + seq_length]\n",
    "    seq_out = text[i + seq_length]\n",
    "    dataX.append([char_to_int[char] for char in seq_in])\n",
    "    dataY.append(char_to_int[seq_out])\n",
    "    \n",
    "n_sequences = len(dataX)"
   ]
  },
  {
   "cell_type": "code",
   "execution_count": 20,
   "metadata": {},
   "outputs": [],
   "source": [
    "# reshape X to be [samples, time steps, features]\n",
    "X = np.reshape(dataX, (n_sequences, seq_length, 1))\n",
    "\n",
    "# normalize data to range (0, 1)\n",
    "X = X / float(n_vocab)\n",
    "\n",
    "# one hot encode the output variable\n",
    "y = np_utils.to_categorical(dataY)"
   ]
  },
  {
   "cell_type": "code",
   "execution_count": 21,
   "metadata": {},
   "outputs": [],
   "source": [
    "# define the LSTM model \n",
    "# (single layer with 150 units, followed by dense output layer)\n",
    "model = Sequential()\n",
    "model.add(LSTM(200, input_shape=(X.shape[1], X.shape[2])))\n",
    "model.add(Dense(y.shape[1], activation='softmax'))\n",
    "\n",
    "# start training from previous checkpoint\n",
    "# file = \"weights-improvement-20-1.7396.hdf5\"\n",
    "# model.load_weights(file)\n",
    "model.compile(loss='categorical_crossentropy', optimizer='adam')"
   ]
  },
  {
   "cell_type": "code",
   "execution_count": 22,
   "metadata": {},
   "outputs": [],
   "source": [
    "# define the checkpoint\n",
    "filepath=\"weights-improvement-{epoch:02d}-{loss:.4f}.hdf5\"\n",
    "checkpoint = ModelCheckpoint(filepath, monitor='loss', verbose=1, save_best_only=True, mode='min')\n",
    "callbacks_list = [checkpoint]"
   ]
  },
  {
   "cell_type": "code",
   "execution_count": null,
   "metadata": {},
   "outputs": [
    {
     "name": "stdout",
     "output_type": "stream",
     "text": [
      "Epoch 1/100\n",
      "97635/97635 [==============================] - 453s 5ms/step - loss: 2.6930\n",
      "\n",
      "Epoch 00001: loss improved from inf to 2.69304, saving model to weights-improvement-01-2.6930.hdf5\n",
      "Epoch 2/100\n",
      "97635/97635 [==============================] - 454s 5ms/step - loss: 2.4843\n",
      "\n",
      "Epoch 00002: loss improved from 2.69304 to 2.48432, saving model to weights-improvement-02-2.4843.hdf5\n",
      "Epoch 3/100\n",
      "97635/97635 [==============================] - 509s 5ms/step - loss: 2.3914\n",
      "\n",
      "Epoch 00003: loss improved from 2.48432 to 2.39142, saving model to weights-improvement-03-2.3914.hdf5\n",
      "Epoch 4/100\n",
      "97635/97635 [==============================] - 437s 4ms/step - loss: 2.3108\n",
      "\n",
      "Epoch 00004: loss improved from 2.39142 to 2.31076, saving model to weights-improvement-04-2.3108.hdf5\n",
      "Epoch 5/100\n",
      "97635/97635 [==============================] - 498s 5ms/step - loss: 2.2419\n",
      "\n",
      "Epoch 00005: loss improved from 2.31076 to 2.24192, saving model to weights-improvement-05-2.2419.hdf5\n",
      "Epoch 6/100\n",
      "97635/97635 [==============================] - 468s 5ms/step - loss: 2.1820\n",
      "\n",
      "Epoch 00006: loss improved from 2.24192 to 2.18196, saving model to weights-improvement-06-2.1820.hdf5\n",
      "Epoch 7/100\n",
      "97635/97635 [==============================] - ETA: 0s - loss: 2.1307- ETA: 1s - loss: - ETA: 0s - loss: 2.130 - ETA: 0s - loss:  - 486s 5ms/step - loss: 2.1307\n",
      "\n",
      "Epoch 00007: loss improved from 2.18196 to 2.13066, saving model to weights-improvement-07-2.1307.hdf5\n",
      "Epoch 8/100\n",
      "97635/97635 [==============================] - 406s 4ms/step - loss: 2.0817\n",
      "\n",
      "Epoch 00008: loss improved from 2.13066 to 2.08167, saving model to weights-improvement-08-2.0817.hdf5\n",
      "Epoch 9/100\n",
      "97635/97635 [==============================] - 470s 5ms/step - loss: 1.9917\n",
      "\n",
      "Epoch 00010: loss improved from 2.03557 to 1.99172, saving model to weights-improvement-10-1.9917.hdf5\n",
      "Epoch 11/100\n",
      "97635/97635 [==============================] - 469s 5ms/step - loss: 1.9519\n",
      "\n",
      "Epoch 00011: loss improved from 1.99172 to 1.95187, saving model to weights-improvement-11-1.9519.hdf5\n",
      "Epoch 12/100\n",
      "97635/97635 [==============================] - 424s 4ms/step - loss: 1.8783\n",
      "\n",
      "Epoch 00013: loss improved from 1.91246 to 1.87828, saving model to weights-improvement-13-1.8783.hdf5\n",
      "Epoch 14/100\n",
      "97635/97635 [==============================] - 440s 5ms/step - loss: 1.8479 0s - lo\n",
      "\n",
      "Epoch 00014: loss improved from 1.87828 to 1.84795, saving model to weights-improvement-14-1.8479.hdf5\n",
      "Epoch 15/100\n",
      "97635/97635 [==============================] - 447s 5ms/step - loss: 1.8138\n",
      "\n",
      "Epoch 00015: loss improved from 1.84795 to 1.81383, saving model to weights-improvement-15-1.8138.hdf5\n",
      "Epoch 16/100\n",
      "97635/97635 [==============================] - 415s 4ms/step - loss: 1.7853 \n",
      "\n",
      "Epoch 00016: loss improved from 1.81383 to 1.78532, saving model to weights-improvement-16-1.7853.hdf5\n",
      "Epoch 17/100\n",
      "97635/97635 [==============================] - 420s 4ms/step - loss: 1.7581 0s - loss: 1.7\n",
      "\n",
      "Epoch 00017: loss improved from 1.78532 to 1.75810, saving model to weights-improvement-17-1.7581.hdf5\n",
      "Epoch 18/100\n",
      "97635/97635 [==============================] - 430s 4ms/step - loss: 1.7302\n",
      "\n",
      "Epoch 00018: loss improved from 1.75810 to 1.73016, saving model to weights-improvement-18-1.7302.hdf5\n",
      "Epoch 19/100\n",
      "97635/97635 [==============================] - 452s 5ms/step - loss: 1.7035\n",
      "\n",
      "Epoch 00019: loss improved from 1.73016 to 1.70354, saving model to weights-improvement-19-1.7035.hdf5\n",
      "Epoch 20/100\n",
      "97635/97635 [==============================] - 564s 6ms/step - loss: 1.6828\n",
      "\n",
      "Epoch 00020: loss improved from 1.70354 to 1.68281, saving model to weights-improvement-20-1.6828.hdf5\n",
      "Epoch 21/100\n",
      "97635/97635 [==============================] - 458s 5ms/step - loss: 1.6624\n",
      "\n",
      "Epoch 00021: loss improved from 1.68281 to 1.66244, saving model to weights-improvement-21-1.6624.hdf5\n",
      "Epoch 22/100\n",
      "97635/97635 [==============================] - 426s 4ms/step - loss: 1.6390\n",
      "\n",
      "Epoch 00022: loss improved from 1.66244 to 1.63905, saving model to weights-improvement-22-1.6390.hdf5\n",
      "Epoch 23/100\n",
      "97635/97635 [==============================] - 470s 5ms/step - loss: 1.6222\n",
      "\n",
      "Epoch 00023: loss improved from 1.63905 to 1.62223, saving model to weights-improvement-23-1.6222.hdf5\n",
      "Epoch 24/100\n",
      "97635/97635 [==============================] - 403s 4ms/step - loss: 1.5988\n",
      "\n",
      "Epoch 00024: loss improved from 1.62223 to 1.59884, saving model to weights-improvement-24-1.5988.hdf5\n",
      "Epoch 25/100\n",
      "59488/97635 [=================>............] - ETA: 2:46 - loss: 1.5590"
     ]
    }
   ],
   "source": [
    "# train the model\n",
    "model.fit(X, y, epochs=100, batch_size=8, callbacks=callbacks_list)"
   ]
  }
 ],
 "metadata": {
  "kernelspec": {
   "display_name": "Python 3",
   "language": "python",
   "name": "python3"
  },
  "language_info": {
   "codemirror_mode": {
    "name": "ipython",
    "version": 3
   },
   "file_extension": ".py",
   "mimetype": "text/x-python",
   "name": "python",
   "nbconvert_exporter": "python",
   "pygments_lexer": "ipython3",
   "version": "3.6.5"
  }
 },
 "nbformat": 4,
 "nbformat_minor": 4
}
