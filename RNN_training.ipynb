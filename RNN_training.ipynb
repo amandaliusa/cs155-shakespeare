{
 "cells": [
  {
   "cell_type": "code",
   "execution_count": 16,
   "metadata": {},
   "outputs": [],
   "source": [
    "import os\n",
    "import re\n",
    "import numpy as np\n",
    "\n",
    "from keras.models import Sequential\n",
    "from keras.layers import Dense, Dropout, LSTM\n",
    "from keras.callbacks import ModelCheckpoint\n",
    "from keras.utils import np_utils"
   ]
  },
  {
   "cell_type": "code",
   "execution_count": 31,
   "metadata": {},
   "outputs": [],
   "source": [
    "# load data\n",
    "text = open(os.path.join(os.getcwd(), 'data/shakespeare.txt')).read()\n",
    "\n",
    "# remove sonnet numbers and convert to lowercase\n",
    "text = re.sub(r'[0-9]+', '', text) \n",
    "text = text.lower()\n",
    "\n",
    "# create mapping of unique chars to integers\n",
    "chars = sorted(list(set(text)))\n",
    "char_to_int = dict((c, i) for i, c in enumerate(chars))\n",
    "\n",
    "n_chars = len(text) # total length of dataset\n",
    "n_vocab = len(chars) # number of unique characters"
   ]
  },
  {
   "cell_type": "code",
   "execution_count": 34,
   "metadata": {},
   "outputs": [],
   "source": [
    "# prepare the dataset of input to output pairs encoded as integers\n",
    "seq_length = 40\n",
    "dataX = []\n",
    "dataY = []\n",
    "\n",
    "# use sliding window approach\n",
    "for i in range(0, n_chars - seq_length, 1):\n",
    "    seq_in = text[i:i + seq_length]\n",
    "    seq_out = text[i + seq_length]\n",
    "    dataX.append([char_to_int[char] for char in seq_in])\n",
    "    dataY.append(char_to_int[seq_out])\n",
    "    \n",
    "n_sequences = len(dataX)"
   ]
  },
  {
   "cell_type": "code",
   "execution_count": 38,
   "metadata": {},
   "outputs": [],
   "source": [
    "# reshape X to be [samples, time steps, features]\n",
    "X = np.reshape(dataX, (n_sequences, seq_length, 1))\n",
    "\n",
    "# normalize data to range (0, 1)\n",
    "X = X / float(n_vocab)\n",
    "\n",
    "# one hot encode the output variable\n",
    "y = np_utils.to_categorical(dataY)"
   ]
  },
  {
   "cell_type": "code",
   "execution_count": 39,
   "metadata": {},
   "outputs": [],
   "source": [
    "# define the LSTM model \n",
    "# (single layer with 150 units, followed by dense output layer)\n",
    "model = Sequential()\n",
    "model.add(LSTM(150, input_shape=(X.shape[1], X.shape[2])))\n",
    "model.add(Dropout(0.2))\n",
    "model.add(Dense(y.shape[1], activation='softmax'))\n",
    "model.compile(loss='categorical_crossentropy', optimizer='adam')"
   ]
  },
  {
   "cell_type": "code",
   "execution_count": 40,
   "metadata": {},
   "outputs": [],
   "source": [
    "# define the checkpoint\n",
    "filepath=\"weights-improvement-{epoch:02d}-{loss:.4f}.hdf5\"\n",
    "checkpoint = ModelCheckpoint(filepath, monitor='loss', verbose=1, save_best_only=True, mode='min')\n",
    "callbacks_list = [checkpoint]"
   ]
  },
  {
   "cell_type": "code",
   "execution_count": null,
   "metadata": {},
   "outputs": [
    {
     "name": "stdout",
     "output_type": "stream",
     "text": [
      "Epoch 1/20\n",
      "97635/97635 [==============================] - 92s 941us/step - loss: 1.9434\n",
      "\n",
      "Epoch 00001: loss improved from 1.95374 to 1.94343, saving model to weights-improvement-01-1.9434.hdf5\n",
      "Epoch 2/20\n",
      "97635/97635 [==============================] - 86s 878us/step - loss: 1.9375\n",
      "\n",
      "Epoch 00002: loss improved from 1.94343 to 1.93755, saving model to weights-improvement-02-1.9375.hdf5\n",
      "Epoch 3/20\n",
      "97635/97635 [==============================] - 85s 867us/step - loss: 1.9350\n",
      "\n",
      "Epoch 00003: loss improved from 1.93755 to 1.93497, saving model to weights-improvement-03-1.9350.hdf5\n",
      "Epoch 4/20\n",
      "97635/97635 [==============================] - 111s 1ms/step - loss: 1.9260\n",
      "\n",
      "Epoch 00004: loss improved from 1.93497 to 1.92599, saving model to weights-improvement-04-1.9260.hdf5\n",
      "Epoch 5/20\n",
      "97635/97635 [==============================] - 105s 1ms/step - loss: 1.9197\n",
      "\n",
      "Epoch 00005: loss improved from 1.92599 to 1.91966, saving model to weights-improvement-05-1.9197.hdf5\n",
      "Epoch 6/20\n",
      "97635/97635 [==============================] - 88s 896us/step - loss: 1.9153\n",
      "\n",
      "Epoch 00006: loss improved from 1.91966 to 1.91535, saving model to weights-improvement-06-1.9153.hdf5\n",
      "Epoch 7/20\n",
      "97635/97635 [==============================] - 86s 877us/step - loss: 1.9142\n",
      "\n",
      "Epoch 00007: loss improved from 1.91535 to 1.91417, saving model to weights-improvement-07-1.9142.hdf5\n",
      "Epoch 8/20\n",
      "97635/97635 [==============================] - 84s 860us/step - loss: 1.9054\n",
      "\n",
      "Epoch 00008: loss improved from 1.91417 to 1.90538, saving model to weights-improvement-08-1.9054.hdf5\n",
      "Epoch 9/20\n",
      "97635/97635 [==============================] - 84s 865us/step - loss: 1.9020\n",
      "\n",
      "Epoch 00009: loss improved from 1.90538 to 1.90199, saving model to weights-improvement-09-1.9020.hdf5\n",
      "Epoch 10/20\n",
      "97635/97635 [==============================] - 84s 861us/step - loss: 1.8982\n",
      "\n",
      "Epoch 00010: loss improved from 1.90199 to 1.89817, saving model to weights-improvement-10-1.8982.hdf5\n",
      "Epoch 11/20\n",
      "97635/97635 [==============================] - 85s 875us/step - loss: 1.8961\n",
      "\n",
      "Epoch 00011: loss improved from 1.89817 to 1.89614, saving model to weights-improvement-11-1.8961.hdf5\n",
      "Epoch 12/20\n",
      "97635/97635 [==============================] - 87s 894us/step - loss: 1.8893\n",
      "\n",
      "Epoch 00012: loss improved from 1.89614 to 1.88933, saving model to weights-improvement-12-1.8893.hdf5\n",
      "Epoch 13/20\n",
      "97635/97635 [==============================] - 83s 848us/step - loss: 1.8841\n",
      "\n",
      "Epoch 00013: loss improved from 1.88933 to 1.88407, saving model to weights-improvement-13-1.8841.hdf5\n",
      "Epoch 14/20\n",
      "97635/97635 [==============================] - 80s 824us/step - loss: 1.8818\n",
      "\n",
      "Epoch 00014: loss improved from 1.88407 to 1.88177, saving model to weights-improvement-14-1.8818.hdf5\n",
      "Epoch 15/20\n",
      "36352/97635 [==========>...................] - ETA: 51s - loss: 1.8643"
     ]
    }
   ],
   "source": [
    "# train the model\n",
    "model.fit(X, y, epochs=20, batch_size=128, callbacks=callbacks_list)"
   ]
  }
 ],
 "metadata": {
  "kernelspec": {
   "display_name": "Python 3",
   "language": "python",
   "name": "python3"
  },
  "language_info": {
   "codemirror_mode": {
    "name": "ipython",
    "version": 3
   },
   "file_extension": ".py",
   "mimetype": "text/x-python",
   "name": "python",
   "nbconvert_exporter": "python",
   "pygments_lexer": "ipython3",
   "version": "3.6.5"
  }
 },
 "nbformat": 4,
 "nbformat_minor": 4
}
