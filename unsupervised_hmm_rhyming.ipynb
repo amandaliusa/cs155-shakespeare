{
 "cells": [
  {
   "cell_type": "code",
   "execution_count": 26,
   "metadata": {},
   "outputs": [],
   "source": [
    "import os\n",
    "from ipynb.fs.full.preprocessing import parse_observations\n",
    "from HMM_soln import unsupervised_HMM"
   ]
  },
  {
   "cell_type": "markdown",
   "metadata": {},
   "source": [
    "obs_map_reverser() and sample_sentence() functions modified from Homework 6's HMM_helper.py by Andrew Kang"
   ]
  },
  {
   "cell_type": "code",
   "execution_count": 27,
   "metadata": {},
   "outputs": [],
   "source": [
    "def obs_map_reverser(obs_map):\n",
    "    obs_map_r = {}\n",
    "\n",
    "    for key in obs_map:\n",
    "        obs_map_r[obs_map[key]] = key\n",
    "\n",
    "    return obs_map_r\n",
    "\n",
    "def sample_sentence(hmm, obs_map, n_words=100):\n",
    "    # Get reverse map.\n",
    "    obs_map_r = obs_map_reverser(obs_map)\n",
    "\n",
    "    # Sample and convert sentence.\n",
    "    emission, states = hmm.generate_emission(n_words)\n",
    "    sentence = [obs_map_r[i] for i in emission]\n",
    "\n",
    "    return ' '.join(sentence).capitalize()\n",
    "\n",
    "def generate_obs(hmm, obs_map):\n",
    "    '''\n",
    "    Naively generates 14-line sonnet with 8 words each.\n",
    "    \n",
    "    Inputs:\n",
    "    hmm: trained hmm\n",
    "    obs_map: maps word to observation index\n",
    "    \n",
    "    Outputs:\n",
    "    None\n",
    "    '''\n",
    "    # generate all words in sonnet\n",
    "    all_words = sample_sentence(hmm, obs_map, 112)\n",
    "    all_words = all_words.split(' ')\n",
    "    \n",
    "    # split into 14 lines and add capitalization/naive punctuation\n",
    "    for i in range(14):\n",
    "        count = 0\n",
    "        line = ' '.join(all_words[i*8:(i+1)*8]).capitalize()\n",
    "        if i < 11 or i == 12:\n",
    "            line += ','\n",
    "        else:\n",
    "            line += '.'\n",
    "        print(line)\n",
    "\n",
    "def generate_by_line(hmm, obs_map):\n",
    "    for i in range(14):\n",
    "        line = sample_sentence(hmm, obs_map, 8)\n",
    "        if i < 11 or i == 12:\n",
    "            line += ','\n",
    "        else:\n",
    "            line += '.'\n",
    "        print(line)"
   ]
  },
  {
   "cell_type": "code",
   "execution_count": 28,
   "metadata": {},
   "outputs": [],
   "source": [
    "# load data and reverse all words\n",
    "text = open(os.path.join(os.getcwd(), 'data/shakespeare.txt')).read()\n",
    "text = text.split(' ')\n",
    "text.reverse()\n",
    "text = ' '.join(text)\n",
    "obs, obs_map = parse_observations(text)"
   ]
  },
  {
   "cell_type": "code",
   "execution_count": null,
   "metadata": {},
   "outputs": [],
   "source": [
    "hmm8 = unsupervised_HMM(obs, 8, 100)"
   ]
  },
  {
   "cell_type": "code",
   "execution_count": null,
   "metadata": {},
   "outputs": [],
   "source": [
    "hmm12 = unsupervised_HMM(obs, 12, 100)"
   ]
  },
  {
   "cell_type": "code",
   "execution_count": 36,
   "metadata": {},
   "outputs": [
    {
     "name": "stdout",
     "output_type": "stream",
     "text": [
      "Seals and is like heart when these to,\n",
      "Fell their summers but with mine make have,\n",
      "And yield triumph will never tongue proud were,\n",
      "Cupid dost as others with the east hide,\n",
      "Up fine grey draw stay the couldst that,\n",
      "Depends it seems verse hate when deceive it,\n",
      "It due all my to of view and,\n",
      "Sick want my and whom better swear fair,\n",
      "Eyes way revolt such be render do drowns,\n",
      "In borne to seldom of and my me,\n",
      "To making let true silver stand wear overturn,\n",
      "And me on cunning be know to winter.\n",
      "Why when pays stoln me he return both,\n",
      "Injurious song to have hear take is sight....\n"
     ]
    }
   ],
   "source": [
    "generate_obs(hmm8, obs_map)"
   ]
  },
  {
   "cell_type": "code",
   "execution_count": 40,
   "metadata": {},
   "outputs": [
    {
     "name": "stdout",
     "output_type": "stream",
     "text": [
      "Brow days in for a beauties so which,\n",
      "Dearest embassy show no thy why as lions,\n",
      "Then me afar sang against me forfeit my,\n",
      "Their belongs i up faults he tongues woos,\n",
      "Borrowed so with rain note were far oblation,\n",
      "Number with sovereign that not to measure womans,\n",
      "Should tis his thy when my hours alive,\n",
      "Visage doth thou means the i pleasure policy,\n",
      "Love gracious self end be eye who thou,\n",
      "Of thus youth honour my my love love,\n",
      "Graciously with chest harsh my my shall still,\n",
      "Stain but are uphold love above repay eyed.\n",
      "Day times join me thy estimate hands invited,\n",
      "But summers it in imitate that hath the.\n"
     ]
    }
   ],
   "source": [
    "generate_by_line(hmm8, obs_map)"
   ]
  },
  {
   "cell_type": "code",
   "execution_count": 41,
   "metadata": {},
   "outputs": [
    {
     "name": "stdout",
     "output_type": "stream",
     "text": [
      "Sweet love i to is she but walks,\n",
      "To thy argument thee the wilt dead is,\n",
      "Hast tripping shadows to hence so being live,\n",
      "Frownst blot come thou my might and love,\n",
      "Pace be his top i i holds of,\n",
      "Aspect to i thou against tender to thee,\n",
      "As beauty what to be rich just none,\n",
      "Are i but thee is every carved away,\n",
      "As i barren rank grant picture the beauty,\n",
      "Such policy eyes form for a when shouldst,\n",
      "Ignorance youth but apparel up thy prime these,\n",
      "Where sweets more thou my truth laid even.\n",
      "A which miracle it the hang the the,\n",
      "Pleasure might truant this which and sequent i.\n"
     ]
    }
   ],
   "source": [
    "generate_obs(hmm12, obs_map)"
   ]
  },
  {
   "cell_type": "code",
   "execution_count": 42,
   "metadata": {},
   "outputs": [
    {
     "name": "stdout",
     "output_type": "stream",
     "text": [
      "Tears sworn bound me times his heat besmeared,\n",
      "Love forebemoaned place half rage who make are,\n",
      "Been and shifting defendant doth thy variation that,\n",
      "Thee take the height forgive nature time stores,\n",
      "Curse his rose in my decay lends the,\n",
      "Autumn hounds other tables old me are all,\n",
      "Eyes miser to antiquity i thy roses did,\n",
      "O thence of dancing thy not hugely new,\n",
      "Grounded wert gain all many most because thy,\n",
      "May thy for her bastard eyes new nothing,\n",
      "From slight i in sin holds him his,\n",
      "Thou thy sake when his side farewell know.\n",
      "Night nightly enfeebled i like that i the,\n",
      "To actor o but my love doth or.\n"
     ]
    }
   ],
   "source": [
    "generate_by_line(hmm12, obs_map)"
   ]
  }
 ],
 "metadata": {
  "kernelspec": {
   "display_name": "Python 3",
   "language": "python",
   "name": "python3"
  },
  "language_info": {
   "codemirror_mode": {
    "name": "ipython",
    "version": 3
   },
   "file_extension": ".py",
   "mimetype": "text/x-python",
   "name": "python",
   "nbconvert_exporter": "python",
   "pygments_lexer": "ipython3",
   "version": "3.6.5"
  }
 },
 "nbformat": 4,
 "nbformat_minor": 2
}
