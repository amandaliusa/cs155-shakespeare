{
 "cells": [
  {
   "cell_type": "code",
   "execution_count": 1,
   "metadata": {},
   "outputs": [],
   "source": [
    "import nltk\n",
    "from nltk.corpus import cmudict\n",
    "from nltk.tokenize import word_tokenize, wordpunct_tokenize, sent_tokenize\n",
    "\n",
    "import os\n",
    "import re\n",
    "\n",
    "from ipynb.fs.full.preprocessing import parse_poems, parse_observations\n",
    "from HMM_soln import unsupervised_HMM"
   ]
  },
  {
   "cell_type": "markdown",
   "metadata": {},
   "source": [
    "## Get rhyming dictionary"
   ]
  },
  {
   "cell_type": "code",
   "execution_count": 2,
   "metadata": {},
   "outputs": [],
   "source": [
    "text = open(os.path.join(os.getcwd(), 'data/shakespeare.txt')).read()\n",
    "\n",
    "# remove sonnet numbers and convert to lowercase\n",
    "text = re.sub(r'[0-9]+', '', text) \n",
    "text = text.lower()\n",
    "obs, obs_map = parse_observations(text)\n",
    "text = text.split('\\n')"
   ]
  },
  {
   "cell_type": "code",
   "execution_count": 3,
   "metadata": {},
   "outputs": [],
   "source": [
    "# tokenize the data and filter out punctuation\n",
    "tokens2 = [wordpunct_tokenize(s) for s in text]\n",
    "punct = set(['.', ',', '!', ':', ';'])\n",
    "filtered2 = [ [w for w in sentence if w not in punct ] for sentence in tokens2]\n",
    "filtered2 = [x for x in filtered2 if len(x) != 0]\n",
    "\n",
    "# get last word in each line\n",
    "last2 = [ sentence[len(sentence) - 1] for sentence in filtered2]"
   ]
  },
  {
   "cell_type": "code",
   "execution_count": 4,
   "metadata": {},
   "outputs": [],
   "source": [
    "# get syllables and word pronunciations \n",
    "syllables = \\\n",
    "[[(w, len(p), p) for (w, p) in cmudict.entries() if word == w] \\\n",
    "   for word in last2]"
   ]
  },
  {
   "cell_type": "markdown",
   "metadata": {},
   "source": [
    "Function for determining rhyming"
   ]
  },
  {
   "cell_type": "code",
   "execution_count": 5,
   "metadata": {},
   "outputs": [],
   "source": [
    "def rhymes(s, obs_map):\n",
    "    '''\n",
    "    Function that determines rhyming words by comparing the ending sounds.\n",
    "    \n",
    "    Inputs: \n",
    "    s: a tuple (w, len(p), p) where w is a word, len(p) is its number of syllables,\n",
    "    and p is its pronunciation\n",
    "    obs_map: maps all unique words in dataset to an integer\n",
    "    \n",
    "    Output:\n",
    "    filtered: a list of words that rhyme with w. If none, returns w. If w is \n",
    "    empty, returns [].\n",
    "    '''\n",
    "    \n",
    "    try:\n",
    "        (w, l, p) = s[0]\n",
    "        try:\n",
    "            filtered = [wt for (wt, pt) in cmudict.entries() if l == len(pt) and wt in obs_map.keys() \\\n",
    "                        and p[-2:] == pt[-2:]] \n",
    "            return filtered\n",
    "        except:\n",
    "            return [w]\n",
    "    except:\n",
    "        return []"
   ]
  },
  {
   "cell_type": "code",
   "execution_count": null,
   "metadata": {},
   "outputs": [],
   "source": [
    "# get rhyming dictionary\n",
    "rhyme_dict = {}\n",
    "for s in syllables: \n",
    "    try:\n",
    "        (w, l, p) = s[0]\n",
    "        rhyme_dict[w] = rhymes(s, obs_map)\n",
    "    except:\n",
    "        pass"
   ]
  },
  {
   "cell_type": "markdown",
   "metadata": {},
   "source": [
    "## Load data and train HMM"
   ]
  },
  {
   "cell_type": "code",
   "execution_count": null,
   "metadata": {},
   "outputs": [],
   "source": [
    "# load data and reverse all words\n",
    "text = open(os.path.join(os.getcwd(), 'data/shakespeare.txt')).read()\n",
    "text = text.split(' ')\n",
    "text.reverse()\n",
    "text = ' '.join(text)\n",
    "obs, obs_map = parse_poems(text)"
   ]
  },
  {
   "cell_type": "code",
   "execution_count": null,
   "metadata": {},
   "outputs": [],
   "source": [
    "hmm8 = unsupervised_HMM(obs, 8, 100)"
   ]
  },
  {
   "cell_type": "code",
   "execution_count": null,
   "metadata": {},
   "outputs": [],
   "source": [
    "hmm8 = unsupervised_HMM(obs, 8, 100)"
   ]
  },
  {
   "cell_type": "markdown",
   "metadata": {},
   "source": [
    "## Generate sonnets"
   ]
  },
  {
   "cell_type": "code",
   "execution_count": null,
   "metadata": {},
   "outputs": [],
   "source": [
    "from ipynb.fs.full.unsupervised_hmm_poems import obs_map_reverser, sample_sentence\n",
    "\n",
    "def generate_rhyming_obs(hmm, obs_map, rhyming_dict):\n",
    "    '''    \n",
    "    Seeds end of a line with a word and generates rest of line going backwards. \n",
    "    Generates a full 14-line sonnet in this manner, using the rhyme scheme \n",
    "    abab cdcd efef gg.\n",
    "    \n",
    "    Inputs:\n",
    "    hmm: trained hmm\n",
    "    obs_map: maps word to observation index\n",
    "    rhyming_dict: maps word to list of rhyming words\n",
    "    \n",
    "    Outputs:\n",
    "    sonnet: the generated sonnet\n",
    "    '''\n",
    "\n",
    "    obs_map_r = obs_map_reverser(obs_map)\n",
    "\n",
    "    # Sample and convert lines starting from end of sonnet\n",
    "    n_words = 8\n",
    "    sonnet = ''\n",
    "    \n",
    "    for i in range(14):\n",
    "        if i == 0:\n",
    "            # the start of the poem - choose any word (g)\n",
    "            seed1 = np.random.choice(range(len(obs_map))) # get index\n",
    "            word1 = obs_map_r[seed1] # get word    \n",
    "            emission, states = hmm.generate_emission(n_words, seed1)       \n",
    "        elif i == 1:\n",
    "            # get rhyming word\n",
    "            word2 = np.random.choice(rhyming_dict[word1])\n",
    "            seed2 = obs_map[word2]\n",
    "            emission, states = hmm.generate_emission(n_words, seed2)    \n",
    "        elif i in [2, 6, 10]:\n",
    "            # start of new stanza (b, d, f)\n",
    "            # use last word in previous emission to generate start of new line\n",
    "            prev = emission[-1] \n",
    "            seed1, state = hmm.generate_emission(1, prev)\n",
    "            word1 = obs_map_r[seed1] # get word    \n",
    "            emission, states = hmm.generate_emission(n_words, seed1)\n",
    "        elif i in [4, 8, 12]:\n",
    "            # second line of (b, d, f)\n",
    "            # get rhyming word\n",
    "            word2 = np.random.choice(rhyming_dict[word1])\n",
    "            seed2 = obs_map[word2]\n",
    "            emission, states = hmm.generate_emission(n_words, seed2)\n",
    "        elif i in [3, 7, 11]:\n",
    "            # start of rhyme (a, c, e)\n",
    "            # use last word in previous emission to generate start of new line\n",
    "            prev = emission[-1] \n",
    "            seed3, state = hmm.generate_emission(1, prev)\n",
    "            word3 = obs_map_r[seed3] # get word \n",
    "        else: # i in [5, 9, 13]:\n",
    "            # second line of (a, c, e)\n",
    "            # get rhyming word\n",
    "            word4 = np.random.choice(rhyming_dict[word3])\n",
    "            seed4 = obs_map[word4]\n",
    "            emission, states = hmm.generate_emission(n_words, seed4)\n",
    "        \n",
    "        # add line to sonnet (going backwards)\n",
    "        for e in emission: \n",
    "            word = obs_map_r[e]\n",
    "            sonnet = word + ' ' + sonnet\n",
    "        \n",
    "        # add line breaks\n",
    "        if i < 11:\n",
    "            sonnet = '\\n' + sonnet\n",
    "    \n",
    "    return sonnet"
   ]
  }
 ],
 "metadata": {
  "kernelspec": {
   "display_name": "Python 3",
   "language": "python",
   "name": "python3"
  },
  "language_info": {
   "codemirror_mode": {
    "name": "ipython",
    "version": 3
   },
   "file_extension": ".py",
   "mimetype": "text/x-python",
   "name": "python",
   "nbconvert_exporter": "python",
   "pygments_lexer": "ipython3",
   "version": "3.6.5"
  }
 },
 "nbformat": 4,
 "nbformat_minor": 2
}
